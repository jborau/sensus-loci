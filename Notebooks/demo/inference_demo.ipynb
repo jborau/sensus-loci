{
 "cells": [
  {
   "cell_type": "code",
   "execution_count": 1,
   "metadata": {
    "pycharm": {
     "is_executing": false
    }
   },
   "outputs": [],
   "source": [
    "from mmdet3d.apis import inference_detector, init_model\n",
    "from mmdet3d.registry import VISUALIZERS\n",
    "from mmdet3d.utils import register_all_modules"
   ]
  },
  {
   "cell_type": "code",
   "execution_count": 2,
   "metadata": {},
   "outputs": [
    {
     "name": "stdout",
     "output_type": "stream",
     "text": [
      "Jupyter environment detected. Enabling Open3D WebVisualizer.\n",
      "[Open3D INFO] WebRTC GUI backend enabled.\n",
      "[Open3D INFO] WebRTCWindowSystem: HTTP handshake server disabled.\n"
     ]
    }
   ],
   "source": [
    "# register all modules in mmdet3d into the registries\n",
    "register_all_modules()"
   ]
  },
  {
   "cell_type": "code",
   "execution_count": 6,
   "metadata": {
    "pycharm": {
     "is_executing": false
    }
   },
   "outputs": [],
   "source": [
    "config_file = '../configs/second/second_hv_secfpn_8xb6-80e_kitti-3d-3class.py'\n",
    "# download the checkpoint from model zoo and put it in `checkpoints/`\n",
    "checkpoint_file = '../checkpoints/hv_second_secfpn_6x8_80e_kitti-3d-3class_20210831_022017-ae782e87.pth'"
   ]
  },
  {
   "cell_type": "code",
   "execution_count": 7,
   "metadata": {},
   "outputs": [
    {
     "name": "stdout",
     "output_type": "stream",
     "text": [
      "Loads checkpoint by local backend from path: ../checkpoints/hv_second_secfpn_6x8_80e_kitti-3d-3class_20210831_022017-ae782e87.pth\n"
     ]
    }
   ],
   "source": [
    "# build the model from a config file and a checkpoint file\n",
    "model = init_model(config_file, checkpoint_file, device='cuda:0')"
   ]
  },
  {
   "cell_type": "code",
   "execution_count": 9,
   "metadata": {
    "pycharm": {
     "is_executing": false
    }
   },
   "outputs": [
    {
     "name": "stderr",
     "output_type": "stream",
     "text": [
      "/home/javier/miniconda3/envs/openmmlab/lib/python3.8/site-packages/mmengine/utils/manager.py:113: UserWarning: <class 'mmdet3d.visualization.local_visualizer.Det3DLocalVisualizer'> instance named of visualizer has been created, the method `get_instance` should not accept any other arguments\n",
      "  warnings.warn(\n"
     ]
    }
   ],
   "source": [
    "# init visualizer\n",
    "visualizer = VISUALIZERS.build(model.cfg.visualizer)\n",
    "## visualizer.dataset_meta = {\n",
    "    ## 'CLASSES': model.CLASSES,\n",
    "    ## 'PALETTE': model.PALETTE\n",
    "## }"
   ]
  },
  {
   "cell_type": "code",
   "execution_count": 10,
   "metadata": {
    "pycharm": {
     "is_executing": false
    }
   },
   "outputs": [
    {
     "name": "stderr",
     "output_type": "stream",
     "text": [
      "/home/javier/miniconda3/envs/openmmlab/lib/python3.8/site-packages/torch/functional.py:504: UserWarning: torch.meshgrid: in an upcoming release, it will be required to pass the indexing argument. (Triggered internally at /opt/conda/conda-bld/pytorch_1670525552411/work/aten/src/ATen/native/TensorShape.cpp:3190.)\n",
      "  return _VF.meshgrid(tensors, **kwargs)  # type: ignore[attr-defined]\n"
     ]
    }
   ],
   "source": [
    "# test a single sample\n",
    "pcd = './data/kitti/000008.bin'\n",
    "result, data = inference_detector(model, pcd)\n",
    "points = data['inputs']['points']\n",
    "data_input = dict(points=points)"
   ]
  },
  {
   "cell_type": "code",
   "execution_count": 11,
   "metadata": {
    "pycharm": {
     "is_executing": false
    }
   },
   "outputs": [
    {
     "ename": "AssertionError",
     "evalue": "got unexpected vis_task det.",
     "output_type": "error",
     "traceback": [
      "\u001b[0;31m---------------------------------------------------------------------------\u001b[0m",
      "\u001b[0;31mAssertionError\u001b[0m                            Traceback (most recent call last)",
      "Cell \u001b[0;32mIn[11], line 3\u001b[0m\n\u001b[1;32m      1\u001b[0m \u001b[39m# show the results\u001b[39;00m\n\u001b[1;32m      2\u001b[0m out_dir \u001b[39m=\u001b[39m \u001b[39m'\u001b[39m\u001b[39m./\u001b[39m\u001b[39m'\u001b[39m\n\u001b[0;32m----> 3\u001b[0m visualizer\u001b[39m.\u001b[39;49madd_datasample(\n\u001b[1;32m      4\u001b[0m     \u001b[39m'\u001b[39;49m\u001b[39mresult\u001b[39;49m\u001b[39m'\u001b[39;49m,\n\u001b[1;32m      5\u001b[0m     data_input,\n\u001b[1;32m      6\u001b[0m     data_sample\u001b[39m=\u001b[39;49mresult,\n\u001b[1;32m      7\u001b[0m     draw_gt\u001b[39m=\u001b[39;49m\u001b[39mFalse\u001b[39;49;00m,\n\u001b[1;32m      8\u001b[0m     show\u001b[39m=\u001b[39;49m\u001b[39mTrue\u001b[39;49;00m,\n\u001b[1;32m      9\u001b[0m     wait_time\u001b[39m=\u001b[39;49m\u001b[39m0\u001b[39;49m,\n\u001b[1;32m     10\u001b[0m     out_file\u001b[39m=\u001b[39;49mout_dir,\n\u001b[1;32m     11\u001b[0m     vis_task\u001b[39m=\u001b[39;49m\u001b[39m'\u001b[39;49m\u001b[39mdet\u001b[39;49m\u001b[39m'\u001b[39;49m)\n",
      "File \u001b[0;32m~/miniconda3/envs/openmmlab/lib/python3.8/site-packages/mmengine/dist/utils.py:360\u001b[0m, in \u001b[0;36mmaster_only.<locals>.wrapper\u001b[0;34m(*args, **kwargs)\u001b[0m\n\u001b[1;32m    357\u001b[0m \u001b[39m@functools\u001b[39m\u001b[39m.\u001b[39mwraps(func)\n\u001b[1;32m    358\u001b[0m \u001b[39mdef\u001b[39;00m \u001b[39mwrapper\u001b[39m(\u001b[39m*\u001b[39margs, \u001b[39m*\u001b[39m\u001b[39m*\u001b[39mkwargs):\n\u001b[1;32m    359\u001b[0m     \u001b[39mif\u001b[39;00m is_main_process():\n\u001b[0;32m--> 360\u001b[0m         \u001b[39mreturn\u001b[39;00m func(\u001b[39m*\u001b[39;49margs, \u001b[39m*\u001b[39;49m\u001b[39m*\u001b[39;49mkwargs)\n",
      "File \u001b[0;32m~/prueba/mmdetection3d/mmdet3d/visualization/local_visualizer.py:723\u001b[0m, in \u001b[0;36mDet3DLocalVisualizer.add_datasample\u001b[0;34m(self, name, data_input, data_sample, draw_gt, draw_pred, show, wait_time, out_file, o3d_save_path, vis_task, pred_score_thr, step)\u001b[0m\n\u001b[1;32m    678\u001b[0m \u001b[39m@master_only\u001b[39m\n\u001b[1;32m    679\u001b[0m \u001b[39mdef\u001b[39;00m \u001b[39madd_datasample\u001b[39m(\u001b[39mself\u001b[39m,\n\u001b[1;32m    680\u001b[0m                    name: \u001b[39mstr\u001b[39m,\n\u001b[0;32m   (...)\u001b[0m\n\u001b[1;32m    690\u001b[0m                    pred_score_thr: \u001b[39mfloat\u001b[39m \u001b[39m=\u001b[39m \u001b[39m0.3\u001b[39m,\n\u001b[1;32m    691\u001b[0m                    step: \u001b[39mint\u001b[39m \u001b[39m=\u001b[39m \u001b[39m0\u001b[39m) \u001b[39m-\u001b[39m\u001b[39m>\u001b[39m \u001b[39mNone\u001b[39;00m:\n\u001b[1;32m    692\u001b[0m     \u001b[39m\"\"\"Draw datasample and save to all backends.\u001b[39;00m\n\u001b[1;32m    693\u001b[0m \n\u001b[1;32m    694\u001b[0m \u001b[39m    - If GT and prediction are plotted at the same time, they are displayed\u001b[39;00m\n\u001b[0;32m   (...)\u001b[0m\n\u001b[1;32m    721\u001b[0m \u001b[39m        step (int): Global step value to record. Defaults to 0.\u001b[39;00m\n\u001b[1;32m    722\u001b[0m \u001b[39m    \"\"\"\u001b[39;00m\n\u001b[0;32m--> 723\u001b[0m     \u001b[39massert\u001b[39;00m vis_task \u001b[39min\u001b[39;00m (\n\u001b[1;32m    724\u001b[0m         \u001b[39m'\u001b[39m\u001b[39mmono_det\u001b[39m\u001b[39m'\u001b[39m, \u001b[39m'\u001b[39m\u001b[39mmulti-view_det\u001b[39m\u001b[39m'\u001b[39m, \u001b[39m'\u001b[39m\u001b[39mlidar_det\u001b[39m\u001b[39m'\u001b[39m, \u001b[39m'\u001b[39m\u001b[39mlidar_seg\u001b[39m\u001b[39m'\u001b[39m,\n\u001b[1;32m    725\u001b[0m         \u001b[39m'\u001b[39m\u001b[39mmulti-modality_det\u001b[39m\u001b[39m'\u001b[39m), \u001b[39mf\u001b[39m\u001b[39m'\u001b[39m\u001b[39mgot unexpected vis_task \u001b[39m\u001b[39m{\u001b[39;00mvis_task\u001b[39m}\u001b[39;00m\u001b[39m.\u001b[39m\u001b[39m'\u001b[39m\n\u001b[1;32m    726\u001b[0m     classes \u001b[39m=\u001b[39m \u001b[39mself\u001b[39m\u001b[39m.\u001b[39mdataset_meta\u001b[39m.\u001b[39mget(\u001b[39m'\u001b[39m\u001b[39mclasses\u001b[39m\u001b[39m'\u001b[39m, \u001b[39mNone\u001b[39;00m)\n\u001b[1;32m    727\u001b[0m     \u001b[39m# For object detection datasets, no palette is saved\u001b[39;00m\n",
      "\u001b[0;31mAssertionError\u001b[0m: got unexpected vis_task det."
     ]
    }
   ],
   "source": [
    "# show the results\n",
    "out_dir = './'\n",
    "visualizer.add_datasample(\n",
    "    'result',\n",
    "    data_input,\n",
    "    data_sample=result,\n",
    "    draw_gt=False,\n",
    "    show=True,\n",
    "    wait_time=0,\n",
    "    out_file=out_dir,\n",
    "    vis_task='det')"
   ]
  }
 ],
 "metadata": {
  "interpreter": {
   "hash": "a0c343fece975dd89087e8c2194dd4d3db28d7000f1b32ed9ed9d584dd54dbbe"
  },
  "kernelspec": {
   "display_name": "Python 3.7.6 64-bit ('torch1.7-cu10.1': conda)",
   "name": "python3"
  },
  "language_info": {
   "codemirror_mode": {
    "name": "ipython",
    "version": 3
   },
   "file_extension": ".py",
   "mimetype": "text/x-python",
   "name": "python",
   "nbconvert_exporter": "python",
   "pygments_lexer": "ipython3",
   "version": "3.8.16"
  },
  "pycharm": {
   "stem_cell": {
    "cell_type": "raw",
    "metadata": {
     "collapsed": false
    },
    "source": []
   }
  }
 },
 "nbformat": 4,
 "nbformat_minor": 4
}
