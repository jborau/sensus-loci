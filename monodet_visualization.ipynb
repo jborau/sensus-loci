{
 "cells": [
  {
   "cell_type": "code",
   "execution_count": 1,
   "metadata": {},
   "outputs": [
    {
     "name": "stdout",
     "output_type": "stream",
     "text": [
      "Jupyter environment detected. Enabling Open3D WebVisualizer.\n",
      "[Open3D INFO] WebRTC GUI backend enabled.\n",
      "[Open3D INFO] WebRTCWindowSystem: HTTP handshake server disabled.\n",
      "[Open3D INFO] Resetting default logger to print to terminal.\n"
     ]
    }
   ],
   "source": [
    "%load_ext autoreload\n",
    "%autoreload 2\n",
    "import mmcv\n",
    "from mmdet3d.apis import inference_mono_3d_detector, init_model\n",
    "from mmdet3d.registry import VISUALIZERS\n",
    "from mmengine import load, dump\n",
    "from mmdet3d.registry import VISUALIZERS\n",
    "import cv2\n",
    "import numpy as np\n",
    "import sys\n",
    "from sensus.tools.data_processor import DataProcessor\n",
    "from sensus.tools.visualizer import ImageVisualizer, draw_monodetection_labels, draw_monodetection_results"
   ]
  },
  {
   "cell_type": "code",
   "execution_count": 2,
   "metadata": {},
   "outputs": [],
   "source": [
    "file = '002238'\n",
    "dataset = 'dair'\n",
    "if dataset == 'kitti':\n",
    "    img_file = '/home/javier/datasets/kitti/training/image_2/' + file + '.png'\n",
    "    labels_file = '/home/javier/datasets/kitti/training/label_2/'+ file + '.txt'\n",
    "    calib_file = '/home/javier/datasets/kitti/training/calib/'+ file + '.txt'\n",
    "    pitch = 0.0\n",
    "elif dataset == 'dair':\n",
    "    img_file = '/home/javier/datasets/DAIR/single-infrastructure-side-mmdet/training/image_2/' + file + '.png'\n",
    "    labels_file = '/home/javier/datasets/DAIR/single-infrastructure-side-mmdet/training/label_2/'+ file + '.txt'\n",
    "    calib_file = '/home/javier/datasets/DAIR/single-infrastructure-side-mmdet/training/calib/'+ file + '.txt'\n",
    "    pitch = 0.2031\n",
    "\n",
    "ann_file = '/home/javier/sensus-loci/sensus/notebooks/002238.pkl'\n",
    "cam_type = 'CAM_BACK'"
   ]
  },
  {
   "cell_type": "markdown",
   "metadata": {},
   "source": [
    "## Draw Labels"
   ]
  },
  {
   "cell_type": "code",
   "execution_count": 7,
   "metadata": {},
   "outputs": [
    {
     "name": "stdout",
     "output_type": "stream",
     "text": [
      "[1.48235, 1.937682, 4.241219]\n",
      "[1.712159, 2.069001, 4.347082]\n",
      "[1.795317, 2.09444, 4.311423]\n",
      "[1.403052, 2.113689, 4.268273]\n",
      "[1.456858, 1.816689, 4.416424]\n",
      "[3.19582, 3.196433, 8.162645]\n",
      "[1.910056, 2.262334, 4.455209]\n",
      "[1.645071, 2.11366, 4.337559]\n",
      "[1.340647, 2.002429, 4.191494]\n",
      "[3.713664, 3.73082, 7.499055]\n",
      "[1.576959, 1.815553, 4.189867]\n",
      "[1.421129, 2.02112, 4.740007]\n",
      "[1.090961, 2.16069, 4.240069]\n"
     ]
    }
   ],
   "source": [
    "draw_monodetection_labels(img_file, calib_file, labels_file, num_cars=15, pitch=pitch, thickness=1)"
   ]
  },
  {
   "cell_type": "markdown",
   "metadata": {},
   "source": [
    "## Inference"
   ]
  },
  {
   "cell_type": "code",
   "execution_count": 3,
   "metadata": {},
   "outputs": [
    {
     "name": "stdout",
     "output_type": "stream",
     "text": [
      "Loads checkpoint by local backend from path: /home/javier/sensus-loci/work_dirs/smoke_dla34_dlaneck_gn-all_4xb8-6x_dair-mono3d/epoch_100.pth\n",
      "11/23 17:38:29 - mmengine - \u001b[4m\u001b[97mINFO\u001b[0m - ModulatedDeformConvPack neck.dla_up.ida_0.projs.0.conv is upgraded to version 2.\n",
      "11/23 17:38:29 - mmengine - \u001b[4m\u001b[97mINFO\u001b[0m - ModulatedDeformConvPack neck.dla_up.ida_0.nodes.0.conv is upgraded to version 2.\n",
      "11/23 17:38:29 - mmengine - \u001b[4m\u001b[97mINFO\u001b[0m - ModulatedDeformConvPack neck.dla_up.ida_1.projs.0.conv is upgraded to version 2.\n",
      "11/23 17:38:29 - mmengine - \u001b[4m\u001b[97mINFO\u001b[0m - ModulatedDeformConvPack neck.dla_up.ida_1.projs.1.conv is upgraded to version 2.\n",
      "11/23 17:38:29 - mmengine - \u001b[4m\u001b[97mINFO\u001b[0m - ModulatedDeformConvPack neck.dla_up.ida_1.nodes.0.conv is upgraded to version 2.\n",
      "11/23 17:38:29 - mmengine - \u001b[4m\u001b[97mINFO\u001b[0m - ModulatedDeformConvPack neck.dla_up.ida_1.nodes.1.conv is upgraded to version 2.\n",
      "11/23 17:38:29 - mmengine - \u001b[4m\u001b[97mINFO\u001b[0m - ModulatedDeformConvPack neck.dla_up.ida_2.projs.0.conv is upgraded to version 2.\n",
      "11/23 17:38:29 - mmengine - \u001b[4m\u001b[97mINFO\u001b[0m - ModulatedDeformConvPack neck.dla_up.ida_2.projs.1.conv is upgraded to version 2.\n",
      "11/23 17:38:29 - mmengine - \u001b[4m\u001b[97mINFO\u001b[0m - ModulatedDeformConvPack neck.dla_up.ida_2.projs.2.conv is upgraded to version 2.\n",
      "11/23 17:38:29 - mmengine - \u001b[4m\u001b[97mINFO\u001b[0m - ModulatedDeformConvPack neck.dla_up.ida_2.nodes.0.conv is upgraded to version 2.\n",
      "11/23 17:38:29 - mmengine - \u001b[4m\u001b[97mINFO\u001b[0m - ModulatedDeformConvPack neck.dla_up.ida_2.nodes.1.conv is upgraded to version 2.\n",
      "11/23 17:38:29 - mmengine - \u001b[4m\u001b[97mINFO\u001b[0m - ModulatedDeformConvPack neck.dla_up.ida_2.nodes.2.conv is upgraded to version 2.\n",
      "11/23 17:38:29 - mmengine - \u001b[4m\u001b[97mINFO\u001b[0m - ModulatedDeformConvPack neck.ida_up.projs.0.conv is upgraded to version 2.\n",
      "11/23 17:38:29 - mmengine - \u001b[4m\u001b[97mINFO\u001b[0m - ModulatedDeformConvPack neck.ida_up.projs.1.conv is upgraded to version 2.\n",
      "11/23 17:38:29 - mmengine - \u001b[4m\u001b[97mINFO\u001b[0m - ModulatedDeformConvPack neck.ida_up.nodes.0.conv is upgraded to version 2.\n",
      "11/23 17:38:29 - mmengine - \u001b[4m\u001b[97mINFO\u001b[0m - ModulatedDeformConvPack neck.ida_up.nodes.1.conv is upgraded to version 2.\n"
     ]
    },
    {
     "name": "stderr",
     "output_type": "stream",
     "text": [
      "/home/javier/miniconda3/envs/openmmlab/lib/python3.8/site-packages/mmengine/visualization/visualizer.py:196: UserWarning: Failed to add <class 'mmengine.visualization.vis_backend.LocalVisBackend'>, please provide the `save_dir` argument.\n",
      "  warnings.warn(f'Failed to add {vis_backend.__class__}, '\n"
     ]
    }
   ],
   "source": [
    "config_file = '/home/javier/sensus-loci/sensus/configs/smoke/smoke_dla34_dlaneck_gn-all_4xb8-6x_dair-mono3d.py'\n",
    "\n",
    "checkpoint_file = '/home/javier/sensus-loci/work_dirs/smoke_dla34_dlaneck_gn-all_4xb8-6x_dair-mono3d/epoch_100.pth'\n",
    "\n",
    "device = 'cuda:0'\n",
    "model_mmdet = init_model(config_file, checkpoint_file, device=device)\n",
    "result = inference_mono_3d_detector(model_mmdet, img_file, ann_file, cam_type)\n",
    "\n",
    "# init visualizer\n",
    "visualizer_mmdet = VISUALIZERS.build(model_mmdet.cfg.visualizer)\n",
    "visualizer_mmdet.dataset_meta = model_mmdet.dataset_meta"
   ]
  },
  {
   "cell_type": "code",
   "execution_count": 6,
   "metadata": {},
   "outputs": [
    {
     "name": "stdout",
     "output_type": "stream",
     "text": [
      "<InstanceData(\n",
      "\n",
      "    META INFORMATION\n",
      "\n",
      "    DATA FIELDS\n",
      "    scores_3d: tensor([0.5217, 0.4985, 0.4795, 0.4576, 0.4507, 0.4311, 0.4160, 0.4013, 0.3731,\n",
      "                0.3315, 0.3309, 0.3294, 0.3123, 0.3022], device='cuda:0')\n",
      "    bboxes_3d: CameraInstance3DBoxes(\n",
      "            tensor([[-20.4564, -13.7553,  92.5255,   4.2626,   1.5427,   1.8652,   1.6037],\n",
      "                [ -2.2950,  -5.7455,  57.8315,   4.2426,   1.5058,   1.8570,  -1.5340],\n",
      "                [-17.2295,  -2.7285,  44.4448,   4.3859,   1.4860,   1.8846,   1.6451],\n",
      "                [  8.0622, -11.7175,  84.0199,   6.3734,   2.6787,   2.5188,  -1.5328],\n",
      "                [  0.9558,  -5.3186,  56.0010,   4.2391,   1.7275,   1.9132,  -1.5417],\n",
      "                [-24.0466,  -5.9347,  58.6978,   4.4513,   1.7328,   1.9342,   1.5913],\n",
      "                [  1.2116,  -0.2200,  34.2346,   4.2614,   1.8245,   1.9512,  -1.5552],\n",
      "                [-20.3021,  -7.2970,  64.5863,   4.2710,   1.4942,   1.8839,   1.6138],\n",
      "                [-17.0324, -16.9658, 106.0475,   4.2591,   1.5218,   1.8635,   1.6017],\n",
      "                [ 19.9489, -13.0846,  89.0246,   1.6642,   1.1413,   0.5860,  -3.1187],\n",
      "                [-17.2143, -22.7363, 131.0744,   4.2590,   1.5238,   1.8592,   1.6055],\n",
      "                [-20.8783, -21.5515, 125.6661,   4.2574,   1.5236,   1.8561,   1.6018],\n",
      "                [ 20.3923,  -9.7161,  75.0213,   1.7021,   1.0686,   0.6620,   1.5534],\n",
      "                [-24.4772, -23.9933, 136.7622,   4.2577,   1.5254,   1.8559,   1.5925]],\n",
      "               device='cuda:0'))\n",
      "    labels_3d: tensor([2, 2, 2, 2, 2, 2, 2, 2, 2, 1, 2, 2, 1, 2], device='cuda:0')\n",
      ") at 0x7f10527fb4c0>\n"
     ]
    }
   ],
   "source": [
    "print(result.pred_instances_3d)"
   ]
  },
  {
   "cell_type": "markdown",
   "metadata": {},
   "source": [
    "## MMDet Viz"
   ]
  },
  {
   "cell_type": "code",
   "execution_count": 9,
   "metadata": {},
   "outputs": [
    {
     "name": "stderr",
     "output_type": "stream",
     "text": [
      "/home/javier/miniconda3/envs/openmmlab/lib/python3.8/site-packages/mmengine/visualization/visualizer.py:812: UserWarning: Warning: The polygon is out of bounds, the drawn polygon may not be in the image\n",
      "  warnings.warn(\n"
     ]
    }
   ],
   "source": [
    "img = mmcv.imread(img_file)\n",
    "img = mmcv.imconvert(img, 'bgr', 'rgb')\n",
    "data_input = dict(img=img)\n",
    "# show the results\n",
    "visualizer_mmdet.add_datasample(\n",
    "    'result',\n",
    "    data_input,\n",
    "    data_sample=result,\n",
    "    draw_gt=False,\n",
    "    show=True,\n",
    "    wait_time=0,\n",
    "    out_file='result_mmdet',\n",
    "    pred_score_thr= 0.30,\n",
    "    vis_task='mono_det')"
   ]
  },
  {
   "cell_type": "markdown",
   "metadata": {},
   "source": [
    "## Sensus Viz"
   ]
  },
  {
   "cell_type": "code",
   "execution_count": 10,
   "metadata": {},
   "outputs": [],
   "source": [
    "draw_monodetection_results(img_file, calib_file, result, score=0.49, pitch=pitch, thickness=2)"
   ]
  }
 ],
 "metadata": {
  "kernelspec": {
   "display_name": "openmmlab",
   "language": "python",
   "name": "python3"
  },
  "language_info": {
   "codemirror_mode": {
    "name": "ipython",
    "version": 3
   },
   "file_extension": ".py",
   "mimetype": "text/x-python",
   "name": "python",
   "nbconvert_exporter": "python",
   "pygments_lexer": "ipython3",
   "version": "3.8.18"
  },
  "orig_nbformat": 4
 },
 "nbformat": 4,
 "nbformat_minor": 2
}
