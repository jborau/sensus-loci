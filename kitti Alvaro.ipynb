{
 "cells": [
  {
   "cell_type": "code",
   "execution_count": 1,
   "metadata": {},
   "outputs": [
    {
     "name": "stdout",
     "output_type": "stream",
     "text": [
      "Jupyter environment detected. Enabling Open3D WebVisualizer.\n",
      "[Open3D INFO] WebRTC GUI backend enabled.\n",
      "[Open3D INFO] WebRTCWindowSystem: HTTP handshake server disabled.\n",
      "[Open3D INFO] Resetting default logger to print to terminal.\n"
     ]
    }
   ],
   "source": [
    "import pickle\n",
    "import os\n",
    "\n",
    "import open3d as o3d\n",
    "import numpy as np\n",
    "\n",
    "from open3d.web_visualizer import draw\n",
    "from mmdetection3d import data, demo, configs, checkpoints"
   ]
  },
  {
   "attachments": {},
   "cell_type": "markdown",
   "metadata": {},
   "source": [
    "# KITTI"
   ]
  },
  {
   "attachments": {},
   "cell_type": "markdown",
   "metadata": {},
   "source": [
    "## Load train infos"
   ]
  },
  {
   "cell_type": "code",
   "execution_count": 2,
   "metadata": {},
   "outputs": [
    {
     "name": "stdout",
     "output_type": "stream",
     "text": [
      "/home/javier/prueba/mmdetection3d/data/datasets/kitti/kitti_infos_train.pkl\n"
     ]
    }
   ],
   "source": [
    "train_infos_path = os.path.join(\n",
    "    data.__path__[0], 'datasets', 'kitti', 'kitti_infos_train.pkl')\n",
    "print(train_infos_path)\n",
    "train_infos = pickle.load(open(train_infos_path, 'rb'))"
   ]
  },
  {
   "cell_type": "code",
   "execution_count": 3,
   "metadata": {},
   "outputs": [
    {
     "data": {
      "text/plain": [
       "dict_keys(['metainfo', 'data_list'])"
      ]
     },
     "execution_count": 3,
     "metadata": {},
     "output_type": "execute_result"
    }
   ],
   "source": [
    "train_infos.keys()"
   ]
  },
  {
   "cell_type": "code",
   "execution_count": 4,
   "metadata": {},
   "outputs": [
    {
     "data": {
      "text/plain": [
       "{'sample_idx': 7,\n",
       " 'images': {'CAM0': {'cam2img': [[721.5377, 0.0, 609.5593, 0.0],\n",
       "    [0.0, 721.5377, 172.854, 0.0],\n",
       "    [0.0, 0.0, 1.0, 0.0],\n",
       "    [0.0, 0.0, 0.0, 1.0]],\n",
       "   'lidar2img': [[609.6953812723476,\n",
       "     -721.4215942962135,\n",
       "     -1.2512579994207245,\n",
       "     -167.8990963799692],\n",
       "    [180.384193781635,\n",
       "     7.64479865145192,\n",
       "     -719.6515015339527,\n",
       "     -101.23306821726784],\n",
       "    [0.999945342540741,\n",
       "     0.00012436549877747893,\n",
       "     0.010451302863657475,\n",
       "     -0.2721328139305115],\n",
       "    [0.0, 0.0, 0.0, 1.0]]},\n",
       "  'CAM1': {'cam2img': [[721.5377, 0.0, 609.5593, -387.5744],\n",
       "    [0.0, 721.5377, 172.854, 0.0],\n",
       "    [0.0, 0.0, 1.0, 0.0],\n",
       "    [0.0, 0.0, 0.0, 1.0]],\n",
       "   'lidar2img': [[609.6953812723476,\n",
       "     -721.4215942962135,\n",
       "     -1.2512579994207245,\n",
       "     -555.4734963799692],\n",
       "    [180.384193781635,\n",
       "     7.64479865145192,\n",
       "     -719.6515015339527,\n",
       "     -101.23306821726784],\n",
       "    [0.999945342540741,\n",
       "     0.00012436549877747893,\n",
       "     0.010451302863657475,\n",
       "     -0.2721328139305115],\n",
       "    [0.0, 0.0, 0.0, 1.0]]},\n",
       "  'CAM2': {'img_path': '000007.png',\n",
       "   'height': 375,\n",
       "   'width': 1242,\n",
       "   'cam2img': [[721.5377, 0.0, 609.5593, 44.85728],\n",
       "    [0.0, 721.5377, 172.854, 0.2163791],\n",
       "    [0.0, 0.0, 1.0, 0.002745884],\n",
       "    [0.0, 0.0, 0.0, 1.0]],\n",
       "   'lidar2img': [[609.6953812723476,\n",
       "     -721.4215942962135,\n",
       "     -1.2512579994207245,\n",
       "     -123.04181637996919],\n",
       "    [180.384193781635,\n",
       "     7.64479865145192,\n",
       "     -719.6515015339527,\n",
       "     -101.01668911726784],\n",
       "    [0.999945342540741,\n",
       "     0.00012436549877747893,\n",
       "     0.010451302863657475,\n",
       "     -0.2693869299305115],\n",
       "    [0.0, 0.0, 0.0, 1.0]],\n",
       "   'lidar2cam': [[0.00023477392096538097,\n",
       "     -0.9999441504478455,\n",
       "     -0.01056347694247961,\n",
       "     -0.002796816872432828],\n",
       "    [0.010449407622218132,\n",
       "     0.010565354488790035,\n",
       "     -0.999889612197876,\n",
       "     -0.07510878890752792],\n",
       "    [0.999945342540741,\n",
       "     0.00012436549877747893,\n",
       "     0.010451302863657475,\n",
       "     -0.2721328139305115],\n",
       "    [0.0, 0.0, 0.0, 1.0]]},\n",
       "  'CAM3': {'cam2img': [[721.5377, 0.0, 609.5593, -339.5242],\n",
       "    [0.0, 721.5377, 172.854, 2.199936],\n",
       "    [0.0, 0.0, 1.0, 0.002729905],\n",
       "    [0.0, 0.0, 0.0, 1.0]],\n",
       "   'lidar2img': [[609.6953812723476,\n",
       "     -721.4215942962135,\n",
       "     -1.2512579994207245,\n",
       "     -507.4232963799692],\n",
       "    [180.384193781635,\n",
       "     7.64479865145192,\n",
       "     -719.6515015339527,\n",
       "     -99.03313221726785],\n",
       "    [0.999945342540741,\n",
       "     0.00012436549877747893,\n",
       "     0.010451302863657475,\n",
       "     -0.2694029089305115],\n",
       "    [0.0, 0.0, 0.0, 1.0]]},\n",
       "  'R0_rect': [[0.9999238848686218,\n",
       "    0.009837759658694267,\n",
       "    -0.007445048075169325,\n",
       "    0.0],\n",
       "   [-0.00986979529261589, 0.9999421238899231, -0.004278459120541811, 0.0],\n",
       "   [0.007402527146041393, 0.0043516140431165695, 0.999963104724884, 0.0],\n",
       "   [0.0, 0.0, 0.0, 1.0]]},\n",
       " 'lidar_points': {'num_pts_feats': 4,\n",
       "  'lidar_path': '000007.bin',\n",
       "  'Tr_velo_to_cam': [[0.0075337449088692665,\n",
       "    -0.9999713897705078,\n",
       "    -0.00061660201754421,\n",
       "    -0.004069766029715538],\n",
       "   [0.01480249036103487,\n",
       "    0.0007280732970684767,\n",
       "    -0.9998902082443237,\n",
       "    -0.07631617784500122],\n",
       "   [0.9998620748519897,\n",
       "    0.007523790001869202,\n",
       "    0.014807550236582756,\n",
       "    -0.2717806100845337],\n",
       "   [0.0, 0.0, 0.0, 1.0]],\n",
       "  'Tr_imu_to_velo': [[0.999997615814209,\n",
       "    0.0007553070900030434,\n",
       "    -0.002035825978964567,\n",
       "    -0.8086758852005005],\n",
       "   [-0.0007854027207940817,\n",
       "    0.9998897910118103,\n",
       "    -0.014822980388998985,\n",
       "    0.3195559084415436],\n",
       "   [0.002024406101554632,\n",
       "    0.014824540354311466,\n",
       "    0.9998881220817566,\n",
       "    -0.7997230887413025],\n",
       "   [0.0, 0.0, 0.0, 1.0]]},\n",
       " 'instances': [{'bbox': [564.62, 174.59, 616.43, 224.74],\n",
       "   'bbox_label': 2,\n",
       "   'bbox_3d': [-0.69, 1.69, 25.01, 3.2, 1.61, 1.66, -1.59],\n",
       "   'bbox_label_3d': 2,\n",
       "   'depth': 25.012746810913086,\n",
       "   'center_2d': [591.3814697265625, 198.3730926513672],\n",
       "   'num_lidar_pts': 182,\n",
       "   'difficulty': 0,\n",
       "   'truncated': 0.0,\n",
       "   'occluded': 0,\n",
       "   'alpha': -1.56,\n",
       "   'score': 0.0,\n",
       "   'index': 0,\n",
       "   'group_id': 0},\n",
       "  {'bbox': [481.59, 180.09, 512.55, 202.42],\n",
       "   'bbox_label': 2,\n",
       "   'bbox_3d': [-7.43, 1.88, 47.55, 3.7, 1.4, 1.51, 1.55],\n",
       "   'bbox_label_3d': 2,\n",
       "   'depth': 47.5527458190918,\n",
       "   'center_2d': [497.7289123535156, 190.75320434570312],\n",
       "   'num_lidar_pts': 20,\n",
       "   'difficulty': -1,\n",
       "   'truncated': 0.0,\n",
       "   'occluded': 0,\n",
       "   'alpha': 1.71,\n",
       "   'score': 0.0,\n",
       "   'index': 1,\n",
       "   'group_id': 1},\n",
       "  {'bbox': [542.05, 175.55, 565.27, 193.79],\n",
       "   'bbox_label': 2,\n",
       "   'bbox_3d': [-4.71, 1.71, 60.52, 4.05, 1.46, 1.66, 1.56],\n",
       "   'bbox_label_3d': 2,\n",
       "   'depth': 60.52274703979492,\n",
       "   'center_2d': [554.121337890625, 184.53306579589844],\n",
       "   'num_lidar_pts': 5,\n",
       "   'difficulty': -1,\n",
       "   'truncated': 0.0,\n",
       "   'occluded': 0,\n",
       "   'alpha': 1.64,\n",
       "   'score': 0.0,\n",
       "   'index': 2,\n",
       "   'group_id': 2},\n",
       "  {'bbox': [330.6, 176.09, 355.61, 213.6],\n",
       "   'bbox_label': 1,\n",
       "   'bbox_3d': [-12.63, 1.88, 34.09, 1.95, 1.72, 0.5, 1.54],\n",
       "   'bbox_label_3d': 1,\n",
       "   'depth': 34.09274673461914,\n",
       "   'center_2d': [343.5250549316406, 194.4336700439453],\n",
       "   'num_lidar_pts': 25,\n",
       "   'difficulty': 1,\n",
       "   'truncated': 0.0,\n",
       "   'occluded': 0,\n",
       "   'alpha': 1.89,\n",
       "   'score': 0.0,\n",
       "   'index': 3,\n",
       "   'group_id': 3},\n",
       "  {'bbox': [753.33, 164.32, 798.0, 186.74],\n",
       "   'bbox_label': -1,\n",
       "   'bbox_3d': [-1000.0, -1000.0, -1000.0, -1.0, -1.0, -1.0, -10.0],\n",
       "   'bbox_label_3d': -1,\n",
       "   'depth': -999.9972534179688,\n",
       "   'center_2d': [1331.0557861328125, 894.033203125],\n",
       "   'num_lidar_pts': -1,\n",
       "   'difficulty': -1,\n",
       "   'truncated': -1.0,\n",
       "   'occluded': -1,\n",
       "   'alpha': -10.0,\n",
       "   'score': 0.0,\n",
       "   'index': -1,\n",
       "   'group_id': 4},\n",
       "  {'bbox': [738.5, 171.32, 753.27, 184.42],\n",
       "   'bbox_label': -1,\n",
       "   'bbox_3d': [-1000.0, -1000.0, -1000.0, -1.0, -1.0, -1.0, -10.0],\n",
       "   'bbox_label_3d': -1,\n",
       "   'depth': -999.9972534179688,\n",
       "   'center_2d': [1331.0557861328125, 894.033203125],\n",
       "   'num_lidar_pts': -1,\n",
       "   'difficulty': -1,\n",
       "   'truncated': -1.0,\n",
       "   'occluded': -1,\n",
       "   'alpha': -10.0,\n",
       "   'score': 0.0,\n",
       "   'index': -1,\n",
       "   'group_id': 5}],\n",
       " 'cam_instances': {'CAM2': [{'bbox_label': 2,\n",
       "    'bbox_label_3d': 2,\n",
       "    'bbox': [565.4822720402807,\n",
       "     175.01202566042497,\n",
       "     616.6555088322534,\n",
       "     224.96047091220345],\n",
       "    'bbox_3d_isvalid': True,\n",
       "    'bbox_3d': [-0.6899999976158142,\n",
       "     1.690000057220459,\n",
       "     25.010000228881836,\n",
       "     3.200000047683716,\n",
       "     1.6100000143051147,\n",
       "     1.659999966621399,\n",
       "     -1.590000033378601],\n",
       "    'velocity': -1,\n",
       "    'center_2d': [591.3814697265625, 198.3730926513672],\n",
       "    'depth': 25.012746810913086},\n",
       "   {'bbox_label': 2,\n",
       "    'bbox_label_3d': 2,\n",
       "    'bbox': [481.8496708488522,\n",
       "     179.85710612050596,\n",
       "     512.4094377621442,\n",
       "     202.53901525985071],\n",
       "    'bbox_3d_isvalid': True,\n",
       "    'bbox_3d': [-7.429999828338623,\n",
       "     1.8799999952316284,\n",
       "     47.54999923706055,\n",
       "     3.700000047683716,\n",
       "     1.399999976158142,\n",
       "     1.5099999904632568,\n",
       "     1.5499999523162842],\n",
       "    'velocity': -1,\n",
       "    'center_2d': [497.7289123535156, 190.75320434570312],\n",
       "    'depth': 47.5527458190918},\n",
       "   {'bbox_label': 2,\n",
       "    'bbox_label_3d': 2,\n",
       "    'bbox': [542.2247151650495,\n",
       "     175.73341152322814,\n",
       "     565.2443490828854,\n",
       "     193.9446887816074],\n",
       "    'bbox_3d_isvalid': True,\n",
       "    'bbox_3d': [-4.710000038146973,\n",
       "     1.7100000381469727,\n",
       "     60.52000045776367,\n",
       "     4.050000190734863,\n",
       "     1.4600000381469727,\n",
       "     1.659999966621399,\n",
       "     1.559999942779541],\n",
       "    'velocity': -1,\n",
       "    'center_2d': [554.121337890625, 184.53306579589844],\n",
       "    'depth': 60.52274703979492},\n",
       "   {'bbox_label': 1,\n",
       "    'bbox_label_3d': 1,\n",
       "    'bbox': [330.84191493374504,\n",
       "     176.13804311926262,\n",
       "     355.4978537323491,\n",
       "     213.8147876869614],\n",
       "    'bbox_3d_isvalid': True,\n",
       "    'bbox_3d': [-12.630000114440918,\n",
       "     1.8799999952316284,\n",
       "     34.09000015258789,\n",
       "     1.9500000476837158,\n",
       "     1.7200000286102295,\n",
       "     0.5,\n",
       "     1.5399999618530273],\n",
       "    'velocity': -1,\n",
       "    'center_2d': [343.5250549316406, 194.4336700439453],\n",
       "    'depth': 34.09274673461914}]}}"
      ]
     },
     "execution_count": 4,
     "metadata": {},
     "output_type": "execute_result"
    }
   ],
   "source": [
    "train_infos['data_list'][2]"
   ]
  },
  {
   "attachments": {},
   "cell_type": "markdown",
   "metadata": {},
   "source": [
    "## Inference"
   ]
  },
  {
   "cell_type": "code",
   "execution_count": 5,
   "metadata": {},
   "outputs": [],
   "source": [
    "from mmdet3d.apis import inference_detector, init_model\n",
    "# from sensus.utils.data_converter import pc2pc_object\n",
    "from mmdet3d.utils import register_all_modules"
   ]
  },
  {
   "cell_type": "code",
   "execution_count": 6,
   "metadata": {},
   "outputs": [],
   "source": [
    "import numpy as np\n",
    "from mmdet3d.structures.points import get_points_type\n",
    "from mmdet3d.datasets.transforms.loading import LoadPointsFromFile\n",
    "\n",
    "def pc2pc_object(pc, pipeline):\n",
    "    pipeline_dict = {**pipeline[0]}\n",
    "    assert pipeline_dict['type'] == 'LoadPointsFromFile'\n",
    "    pipeline_dict.pop('type')\n",
    "    pc_loader = LoadPointsFromFile(**pipeline_dict)\n",
    "\n",
    "    pc = pc.reshape(-1, pc_loader.load_dim)\n",
    "    pc = pc[:, pc_loader.use_dim]\n",
    "    if pc_loader.norm_intensity:\n",
    "            assert len(pc_loader.use_dim) >= 4, \\\n",
    "                f'When using intensity norm, expect used dimensions >= 4, got {len(pc_loader.use_dim)}'  # noqa: E501\n",
    "            pc[:, 3] = np.tanh(pc[:, 3])\n",
    "    attribute_dims = None\n",
    "\n",
    "    if pc_loader.shift_height:\n",
    "        floor_height = np.percentile(pc[:, 2], 0.99)\n",
    "        height = pc[:, 2] - floor_height\n",
    "        pc = np.concatenate(\n",
    "            [pc[:, :3],\n",
    "                np.expand_dims(height, 1), pc[:, 3:]], 1)\n",
    "        attribute_dims = dict(height=3)\n",
    "\n",
    "    if pc_loader.use_color:\n",
    "        assert len(pc_loader.use_dim) >= 6\n",
    "        if attribute_dims is None:\n",
    "            attribute_dims = dict()\n",
    "        attribute_dims.update(\n",
    "            dict(color=[\n",
    "                pc.shape[1] - 3,\n",
    "                pc.shape[1] - 2,\n",
    "                pc.shape[1] - 1,\n",
    "            ]))\n",
    "\n",
    "    points_class = get_points_type(pc_loader.coord_type)\n",
    "    pc_object = points_class(\n",
    "        pc, points_dim=pc.shape[-1], attribute_dims=attribute_dims)\n",
    "\n",
    "    return pc_object, pc"
   ]
  },
  {
   "cell_type": "code",
   "execution_count": 7,
   "metadata": {},
   "outputs": [
    {
     "name": "stderr",
     "output_type": "stream",
     "text": [
      "/home/javier/prueba/mmdetection3d/mmdet3d/models/dense_heads/anchor3d_head.py:92: UserWarning: dir_offset and dir_limit_offset will be depressed and be incorporated into box coder in the future\n",
      "  warnings.warn(\n"
     ]
    },
    {
     "name": "stdout",
     "output_type": "stream",
     "text": [
      "Loads checkpoint by local backend from path: /home/javier/prueba/mmdetection3d/checkpoints/hv_second_secfpn_6x8_80e_kitti-3d-3class_20210831_022017-ae782e87.pth\n"
     ]
    }
   ],
   "source": [
    "register_all_modules()\n",
    "\n",
    "\n",
    "# build the model from a config file and a checkpoint file\n",
    "model_cfg = os.path.join(configs.__path__[0],\n",
    "    'second/second_hv_secfpn_8xb6-80e_kitti-3d-3class.py')\n",
    "checkpoint_path = os.path.join(checkpoints.__path__[0],\n",
    "    'hv_second_secfpn_6x8_80e_kitti-3d-3class_20210831_022017-ae782e87.pth')\n",
    "pcd_path = os.path.join(demo.__path__[0],\n",
    "    'data/kitti/000008.bin')\n",
    "device = 'cuda:0'\n",
    "model = init_model(model_cfg, checkpoint_path, device=device)"
   ]
  },
  {
   "cell_type": "code",
   "execution_count": 8,
   "metadata": {},
   "outputs": [
    {
     "name": "stdout",
     "output_type": "stream",
     "text": [
      "Loads checkpoint by local backend from path: /home/javier/prueba/mmdetection3d/checkpoints/hv_second_secfpn_6x8_80e_kitti-3d-3class_20210831_022017-ae782e87.pth\n"
     ]
    },
    {
     "name": "stderr",
     "output_type": "stream",
     "text": [
      "/home/javier/miniconda3/envs/openmmlab/lib/python3.8/site-packages/torch/functional.py:504: UserWarning: torch.meshgrid: in an upcoming release, it will be required to pass the indexing argument. (Triggered internally at /opt/conda/conda-bld/pytorch_1670525552411/work/aten/src/ATen/native/TensorShape.cpp:3190.)\n",
      "  return _VF.meshgrid(tensors, **kwargs)  # type: ignore[attr-defined]\n"
     ]
    }
   ],
   "source": [
    "# Running model with numpy point cloud gives error when later running with pcd_path\n",
    "model = init_model(model_cfg, checkpoint_path, device=device)\n",
    "result, data = inference_detector(model, pcd_path)"
   ]
  },
  {
   "cell_type": "code",
   "execution_count": 9,
   "metadata": {},
   "outputs": [],
   "source": [
    "with open(pcd_path, 'rb') as f:\n",
    "    points = np.fromfile(f, dtype=np.float32, count=-1)"
   ]
  },
  {
   "cell_type": "code",
   "execution_count": 15,
   "metadata": {},
   "outputs": [],
   "source": [
    "pc_object, pc = pc2pc_object(points, model.cfg.test_pipeline)\n",
    "result, data = inference_detector(model, pc)"
   ]
  },
  {
   "cell_type": "code",
   "execution_count": 11,
   "metadata": {},
   "outputs": [
    {
     "name": "stdout",
     "output_type": "stream",
     "text": [
      "tensor([0, 0, 1, 1, 2, 2, 2, 2, 2, 2, 2, 2, 2, 2], device='cuda:0')\n",
      "tensor([0.1304, 0.1172, 0.3625, 0.3570, 0.9088, 0.8917, 0.8498, 0.7471, 0.7245,\n",
      "        0.6413, 0.6306, 0.5602, 0.4315, 0.3938], device='cuda:0')\n",
      "torch.Size([14, 7])\n"
     ]
    }
   ],
   "source": [
    "print(result.pred_instances_3d.labels_3d)\n",
    "print(result.pred_instances_3d.scores_3d)\n",
    "print(result.pred_instances_3d.bboxes_3d.tensor.shape)"
   ]
  },
  {
   "cell_type": "code",
   "execution_count": 16,
   "metadata": {},
   "outputs": [],
   "source": [
    "# Same result after processing points (maybe processing under the hood when\n",
    "# using np.array pc)\n",
    "points = points.reshape(-1, 4)\n",
    "result, data = inference_detector(model, points)"
   ]
  },
  {
   "cell_type": "code",
   "execution_count": 13,
   "metadata": {},
   "outputs": [
    {
     "name": "stdout",
     "output_type": "stream",
     "text": [
      "tensor([0, 0, 1, 1, 2, 2, 2, 2, 2, 2, 2, 2, 2, 2], device='cuda:0')\n",
      "tensor([0.1304, 0.1172, 0.3625, 0.3570, 0.9088, 0.8917, 0.8498, 0.7471, 0.7245,\n",
      "        0.6413, 0.6306, 0.5602, 0.4315, 0.3938], device='cuda:0')\n",
      "torch.Size([14, 7])\n"
     ]
    }
   ],
   "source": [
    "print(result.pred_instances_3d.labels_3d)\n",
    "print(result.pred_instances_3d.scores_3d)\n",
    "print(result.pred_instances_3d.bboxes_3d.tensor.shape)"
   ]
  },
  {
   "attachments": {},
   "cell_type": "markdown",
   "metadata": {},
   "source": [
    "# Visualization"
   ]
  },
  {
   "cell_type": "code",
   "execution_count": 11,
   "metadata": {},
   "outputs": [],
   "source": [
    "bin_path = os.path.join(demo.__path__[0],\n",
    "    'data/kitti/000008.bin')\n",
    "pc_path = os.path.join(\n",
    "    '/home/messi/alvaro/sensus-loci/mmdetection3d/demo/kitti_pointpillars/kitti_000008',\n",
    "    'kitti_000008_points.obj')\n",
    "bboxes_path = os.path.join(\n",
    "    '/home/messi/alvaro/sensus-loci/mmdetection3d/demo/kitti_pointpillars/kitti_000008',\n",
    "    'kitti_000008_pred.obj')"
   ]
  },
  {
   "cell_type": "code",
   "execution_count": 17,
   "metadata": {},
   "outputs": [
    {
     "ename": "NameError",
     "evalue": "name 'bin_path' is not defined",
     "output_type": "error",
     "traceback": [
      "\u001b[0;31m---------------------------------------------------------------------------\u001b[0m",
      "\u001b[0;31mNameError\u001b[0m                                 Traceback (most recent call last)",
      "Cell \u001b[0;32mIn[17], line 2\u001b[0m\n\u001b[1;32m      1\u001b[0m \u001b[39m# Read pc from bin file\u001b[39;00m\n\u001b[0;32m----> 2\u001b[0m \u001b[39mwith\u001b[39;00m \u001b[39mopen\u001b[39m(bin_path, \u001b[39m'\u001b[39m\u001b[39mrb\u001b[39m\u001b[39m'\u001b[39m) \u001b[39mas\u001b[39;00m f:\n\u001b[1;32m      3\u001b[0m     points \u001b[39m=\u001b[39m np\u001b[39m.\u001b[39mfromfile(f, dtype\u001b[39m=\u001b[39mnp\u001b[39m.\u001b[39mfloat32, count\u001b[39m=\u001b[39m\u001b[39m-\u001b[39m\u001b[39m1\u001b[39m)\u001b[39m.\u001b[39mreshape([\u001b[39m-\u001b[39m\u001b[39m1\u001b[39m, \u001b[39m4\u001b[39m])\n\u001b[1;32m      5\u001b[0m pcd_bin \u001b[39m=\u001b[39m o3d\u001b[39m.\u001b[39mgeometry\u001b[39m.\u001b[39mPointCloud()\n",
      "\u001b[0;31mNameError\u001b[0m: name 'bin_path' is not defined"
     ]
    }
   ],
   "source": [
    "# Read pc from bin file\n",
    "with open(bin_path, 'rb') as f:\n",
    "    points = np.fromfile(f, dtype=np.float32, count=-1).reshape([-1, 4])\n",
    "\n",
    "pcd_bin = o3d.geometry.PointCloud()\n",
    "pcd_bin.points = o3d.utility.Vector3dVector(points[:, :3])\n",
    "print(pcd_bin)"
   ]
  },
  {
   "cell_type": "code",
   "execution_count": 5,
   "metadata": {},
   "outputs": [
    {
     "name": "stdout",
     "output_type": "stream",
     "text": [
      "PointCloud with 16897 points.\n",
      "LineSet with 360 lines.\n"
     ]
    }
   ],
   "source": [
    "# Read pc from obj file (reading with o3d.io.read_triangle_mesh or \n",
    "# read_point_cloud does not work)\n",
    "pc = []\n",
    "with open(pc_path, 'rb') as f:\n",
    "    for each in f.readlines():\n",
    "        p1, p2, p3 = each.decode('utf-8').split(' ')[1:]\n",
    "        pc.append([float(p1), float(p2), float(p3.replace('\\n', ''))])\n",
    "\n",
    "pcd = o3d.geometry.PointCloud()\n",
    "pcd.points = o3d.utility.Vector3dVector(np.array(pc))\n",
    "print(pcd)\n",
    "\n",
    "bboxes = o3d.io.read_triangle_mesh(bboxes_path)\n",
    "bboxes.compute_vertex_normals()     # For solid rendering with lighting\n",
    "bboxes_lines = o3d.geometry.LineSet().create_from_triangle_mesh(bboxes)\n",
    "bboxes_lines.paint_uniform_color([1, 0, 0])\n",
    "print(bboxes_lines)"
   ]
  },
  {
   "cell_type": "code",
   "execution_count": 29,
   "metadata": {},
   "outputs": [
    {
     "data": {
      "application/vnd.jupyter.widget-view+json": {
       "model_id": "5e26e88557d9481b915bb09e78724163",
       "version_major": 2,
       "version_minor": 0
      },
      "text/plain": [
       "WebVisualizer(window_uid='window_11')"
      ]
     },
     "metadata": {},
     "output_type": "display_data"
    }
   ],
   "source": [
    "draw([pcd, bboxes_lines], width=900, height=600, point_size=2)"
   ]
  },
  {
   "cell_type": "code",
   "execution_count": 13,
   "metadata": {},
   "outputs": [
    {
     "data": {
      "application/vnd.jupyter.widget-view+json": {
       "model_id": "bf594293333b4974bb61a30edfe9f4bc",
       "version_major": 2,
       "version_minor": 0
      },
      "text/plain": [
       "WebVisualizer(window_uid='window_0')"
      ]
     },
     "metadata": {},
     "output_type": "display_data"
    }
   ],
   "source": [
    "draw([pcd_bin, bboxes_lines], width=900, height=600, point_size=2)"
   ]
  }
 ],
 "metadata": {
  "kernelspec": {
   "display_name": "sensus_1.1",
   "language": "python",
   "name": "python3"
  },
  "language_info": {
   "codemirror_mode": {
    "name": "ipython",
    "version": 3
   },
   "file_extension": ".py",
   "mimetype": "text/x-python",
   "name": "python",
   "nbconvert_exporter": "python",
   "pygments_lexer": "ipython3",
   "version": "3.8.16"
  },
  "orig_nbformat": 4,
  "vscode": {
   "interpreter": {
    "hash": "f415ed57821a0a57975d366e83fa539ca7287180412c6dde381c2f215d5e4022"
   }
  }
 },
 "nbformat": 4,
 "nbformat_minor": 2
}
