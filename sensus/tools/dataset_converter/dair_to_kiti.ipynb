{
 "cells": [
  {
   "cell_type": "code",
   "execution_count": 3,
   "metadata": {},
   "outputs": [],
   "source": [
    "import cv2\n",
    "import json\n",
    "import os\n",
    "import numpy as np\n",
    "from pypcd import pypcd\n",
    "import shutil\n"
   ]
  },
  {
   "cell_type": "code",
   "execution_count": 4,
   "metadata": {},
   "outputs": [],
   "source": [
    "def load_json(file):\n",
    "    # Abrir el archivo en modo de lectura\n",
    "    with open(file, 'r') as file:\n",
    "        # Cargar los datos del archivo en forma de un objeto Python\n",
    "        datos = json.load(file)\n",
    "    return datos"
   ]
  },
  {
   "cell_type": "code",
   "execution_count": 5,
   "metadata": {},
   "outputs": [],
   "source": [
    "def create_dirs(dest_dir):\n",
    "    # Create all necessary directories\n",
    "    if not os.path.exists(dest_dir):\n",
    "        os.makedirs(dest_dir)\n",
    "    if not os.path.exists(dest_dir + '/images'):\n",
    "        os.makedirs(dest_dir + '/images')\n",
    "    if not os.path.exists(dest_dir + '/images/images_0'):\n",
    "        os.makedirs(dest_dir + '/images/images_0')\n",
    "    if not os.path.exists(dest_dir + '/labels'):\n",
    "        os.makedirs(dest_dir + '/labels')\n",
    "    if not os.path.exists(dest_dir + '/calibs'):\n",
    "        os.makedirs(dest_dir + '/calibs')\n",
    "    if not os.path.exists(dest_dir + '/points'):\n",
    "        os.makedirs(dest_dir + '/points')\n",
    "    if not os.path.exists(dest_dir + '/ImageSets'):\n",
    "        os.makedirs(dest_dir + '/ImageSets')"
   ]
  },
  {
   "cell_type": "code",
   "execution_count": 13,
   "metadata": {},
   "outputs": [],
   "source": [
    "def adapt_calib(src_dir, dest_dir, file_code):\n",
    "    camera_data = load_json(src_dir + '/calib/camera_intrinsic/' + file_code + '.json')\n",
    "    lidar_data = load_json(src_dir + '/calib/virtuallidar_to_camera/' + file_code + '.json')\n",
    "    dest_file = dest_dir + file_code + '.txt'\n",
    "\n",
    "    camera_intrinsc = camera_data['cam_K']\n",
    "    lidar_rotation = lidar_data['rotation']\n",
    "    lidar_translation = lidar_data['translation']\n",
    "\n",
    "\n",
    "    with open(dest_file, 'w') as archivo_txt:\n",
    "        archivo_txt.write(f\"P0: {camera_intrinsc[0]} {camera_intrinsc[1]} {camera_intrinsc[2]} 0.0 {camera_intrinsc[3]} {camera_intrinsc[4]} {camera_intrinsc[5]} 0.0 {camera_intrinsc[6]} {camera_intrinsc[7]} {camera_intrinsc[8]} 0.0\\n\")\n",
    "        archivo_txt.write(f\"Tr_velo_to_cam: {lidar_rotation[0][0]} {lidar_rotation[0][1]} {lidar_rotation[0][2]} {lidar_translation[0][0]} {lidar_rotation[1][0]} {lidar_rotation[1][1]} {lidar_rotation[1][2]} {lidar_translation[1][0]} {lidar_rotation[2][0]} {lidar_rotation[2][1]} {lidar_rotation[2][2]} {lidar_translation[2][0]}\\n\")\n"
   ]
  },
  {
   "cell_type": "code",
   "execution_count": 7,
   "metadata": {},
   "outputs": [],
   "source": [
    "def adapt_points(pcd_file, bin_file):\n",
    "    pcd_data = pypcd.PointCloud.from_path(pcd_file)\n",
    "    points = np.zeros([pcd_data.width, 4], dtype=np.float32)\n",
    "    points[:, 0] = pcd_data.pc_data['x'].copy()\n",
    "    points[:, 1] = pcd_data.pc_data['y'].copy()\n",
    "    points[:, 2] = pcd_data.pc_data['z'].copy()\n",
    "    points[:, 3] = pcd_data.pc_data['intensity'].copy().astype(np.float32)\n",
    "    with open(bin_file, 'wb') as f:\n",
    "        f.write(points.tobytes())"
   ]
  },
  {
   "cell_type": "code",
   "execution_count": 8,
   "metadata": {},
   "outputs": [],
   "source": [
    "def adapt_labels(src, archivo_txt):\n",
    "    datos = load_json(src)\n",
    "    with open(archivo_txt, 'w') as archivo_txt:\n",
    "        for obj in datos:\n",
    "            archivo_txt.write(f\"{obj['3d_location']['x']} {obj['3d_location']['y']} {obj['3d_location']['z']} {obj['3d_dimensions']['l']} {obj['3d_dimensions']['w']} {obj['3d_dimensions']['h']} {obj['rotation']} {obj['type']} \\n\")"
   ]
  },
  {
   "cell_type": "code",
   "execution_count": 9,
   "metadata": {},
   "outputs": [],
   "source": [
    "def transform_files(src, images_dir, points_dir, dest, file_code):\n",
    "    shutil.copy(images_dir +'/' + file_code + '.jpg', dest + '/images/images_0/')\n",
    "    adapt_points(points_dir+ '/' + file_code + '.pcd', dest + '/points/' + file_code + '.bin')\n",
    "    adapt_calib(src, dest + '/calibs/', file_code)\n",
    "    adapt_labels(src + '/label/camera/' + file_code + '.json', dest + '/labels/' + file_code + '.txt')"
   ]
  },
  {
   "cell_type": "code",
   "execution_count": 12,
   "metadata": {},
   "outputs": [],
   "source": [
    "def proccess_dataset(src_dir, images_dir, points_dir, dest_dir):\n",
    "    # Create all necessary directories\n",
    "    create_dirs(dest_dir)\n",
    "\n",
    "    # Get all files in the directory\n",
    "    files = os.listdir(images_dir)\n",
    "    for file in files:\n",
    "        file_code = file.split('.')[0]\n",
    "        transform_files(src_dir, images_dir, points_dir, dest_dir, file_code)\n",
    "\n",
    "proccess_dataset('/home/javier/datasets/DAIR/single-infrastructure-side-example', '/home/javier/datasets/DAIR/single-infrastructure-side-example/image', '/home/javier/datasets/DAIR/single-infrastructure-side-example/velodyne', 'example2')"
   ]
  }
 ],
 "metadata": {
  "kernelspec": {
   "display_name": "base",
   "language": "python",
   "name": "python3"
  },
  "language_info": {
   "codemirror_mode": {
    "name": "ipython",
    "version": 3
   },
   "file_extension": ".py",
   "mimetype": "text/x-python",
   "name": "python",
   "nbconvert_exporter": "python",
   "pygments_lexer": "ipython3",
   "version": "3.10.8"
  },
  "orig_nbformat": 4
 },
 "nbformat": 4,
 "nbformat_minor": 2
}
