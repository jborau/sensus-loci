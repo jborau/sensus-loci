{
 "cells": [
  {
   "cell_type": "code",
   "execution_count": 1,
   "metadata": {},
   "outputs": [
    {
     "name": "stdout",
     "output_type": "stream",
     "text": [
      "Jupyter environment detected. Enabling Open3D WebVisualizer.\n",
      "[Open3D INFO] WebRTC GUI backend enabled.\n",
      "[Open3D INFO] WebRTCWindowSystem: HTTP handshake server disabled.\n",
      "[Open3D INFO] Resetting default logger to print to terminal.\n"
     ]
    }
   ],
   "source": [
    "%load_ext autoreload\n",
    "%autoreload 2\n",
    "\n",
    "import cv2\n",
    "import numpy as np\n",
    "import sys\n",
    "\n",
    "sys.path.append('../../tools')\n",
    "\n",
    "from data_processor import DataProcessor\n",
    "from visualizer import ImageVisualizer"
   ]
  },
  {
   "cell_type": "code",
   "execution_count": 5,
   "metadata": {},
   "outputs": [
    {
     "name": "stdout",
     "output_type": "stream",
     "text": [
      "[1.48235, 4.241219, 1.937682]\n",
      "-20.284275789102765 -7.412983537080397 64.7468584581783 1.5020768543268739\n",
      "[1.712159, 4.347082, 2.069001]\n",
      "-20.539665967406727 -3.4038546773306955 47.3726900823363 1.5334366361979277\n",
      "[1.795317, 4.311423, 2.09444]\n",
      "0.8158827770493065 -5.138057127205771 55.37923542009984 -1.573072837648418\n",
      "[1.403052, 4.268273, 2.113689]\n",
      "-2.277297902835883 -5.704755745647519 57.62864608468919 -1.573072085291072\n",
      "[1.456858, 4.416424, 1.816689]\n",
      "-17.418731445133286 -22.491090760482862 131.53434839003586 1.5664136176927337\n",
      "[3.19582, 8.162645, 3.196433]\n",
      "8.255767110515372 -11.584108238325232 83.91406049584909 -1.6226731943678794\n",
      "[1.910056, 4.455209, 2.262334]\n",
      "1.4544775705995492 -0.06611701846501816 33.479297629924964 -1.6039271409763576\n",
      "[1.645071, 4.337559, 2.11366]\n",
      "-24.229237262112537 -6.098029584219944 58.96183272218924 1.5020763599299558\n",
      "[1.340647, 4.191494, 2.002429]\n",
      "-20.436903330397552 -13.88952082055535 92.63632779333055 1.5014256405391797\n",
      "[3.713664, 7.499055, 3.73082]\n",
      "-47.98467759632055 -22.28296994764146 127.24552486630324 -3.1360539559895506\n",
      "[1.576959, 4.189867, 1.815553]\n",
      "-20.84712611736219 -21.150565270060145 126.41614775282298 1.529014113331546\n",
      "[1.421129, 4.740007, 2.02112]\n",
      "-17.283253928103882 -2.781604655363454 44.32883360887825 1.4775080455114606\n",
      "[1.090961, 4.240069, 2.16069]\n",
      "-17.096317059723035 -16.988281324680052 106.06837643594704 1.5014251483346226\n"
     ]
    }
   ],
   "source": [
    "file = '002238'\n",
    "dataset = 'dair'\n",
    "if dataset == 'kitti':\n",
    "    img_file = '/home/javier/datasets/kitti/training/image_2/' + file + '.png'\n",
    "    labels_file = '/home/javier/datasets/kitti/training/label_2/'+ file + '.txt'\n",
    "    calib_file = '/home/javier/datasets/kitti/training/calib/'+ file + '.txt'\n",
    "    pitch = 0.0\n",
    "elif dataset == 'dair':\n",
    "    img_file = '/home/javier/datasets/DAIR/single-infrastructure-side-mmdet/training/image_2/' + file + '.png'\n",
    "    labels_file = '/home/javier/datasets/DAIR/single-infrastructure-side-mmdet/training/label_2/'+ file + '.txt'\n",
    "    calib_file = '/home/javier/datasets/DAIR/single-infrastructure-side-mmdet/training/calib/'+ file + '.txt'\n",
    "    pitch = 0.19\n",
    "\n",
    "dp = DataProcessor(labels_file, calib_file)\n",
    "labels = dp.process_label_file()\n",
    "calib = dp.process_calib_file()\n",
    "\n",
    "viz = ImageVisualizer(img_file)\n",
    "viz.draw_monodetection_labels(labels, calib, 15, pitch=pitch)\n"
   ]
  },
  {
   "attachments": {},
   "cell_type": "markdown",
   "metadata": {},
   "source": [
    "# Inference and drawing"
   ]
  },
  {
   "cell_type": "code",
   "execution_count": 3,
   "metadata": {},
   "outputs": [],
   "source": [
    "\n",
    "import mmcv\n",
    "\n",
    "from mmdet3d.apis import inference_mono_3d_detector, init_model\n",
    "from mmdet3d.registry import VISUALIZERS\n",
    "from mmengine import load, dump\n"
   ]
  },
  {
   "cell_type": "code",
   "execution_count": 4,
   "metadata": {},
   "outputs": [],
   "source": [
    "ann_file = '/home/javier/sensus-loci/sensus/notebooks/tmp/data/dair/002238.pkl'\n",
    "img = '/home/javier/sensus-loci/sensus/notebooks/tmp/data/dair/002238.png'\n",
    "cam_type = 'CAM_BACK'\n",
    "ann_file = '/home/javier/sensus-loci/sensus/notebooks/tmp/data/nuscenes/ANN_CAM_BACK.pkl'\n",
    "img = '/home/javier/sensus-loci/sensus/notebooks/tmp/data/nuscenes/n015-2018-07-24-11-22-45+0800__CAM_BACK__1532402927637525.jpg'"
   ]
  },
  {
   "cell_type": "code",
   "execution_count": 5,
   "metadata": {},
   "outputs": [
    {
     "name": "stdout",
     "output_type": "stream",
     "text": [
      "Loads checkpoint by local backend from path: /home/javier/sensus-loci/mmdetection3d/checkpoints/fcos3d_r101_caffe_fpn_gn-head_dcn_2x8_1x_nus-mono3d_finetune_20210717_095645-8d806dc2.pth\n"
     ]
    },
    {
     "name": "stderr",
     "output_type": "stream",
     "text": [
      "/home/javier/miniconda3/envs/openmmlab/lib/python3.8/site-packages/torch/functional.py:504: UserWarning: torch.meshgrid: in an upcoming release, it will be required to pass the indexing argument. (Triggered internally at /opt/conda/conda-bld/pytorch_1670525552411/work/aten/src/ATen/native/TensorShape.cpp:3190.)\n",
      "  return _VF.meshgrid(tensors, **kwargs)  # type: ignore[attr-defined]\n"
     ]
    }
   ],
   "source": [
    "config_fcos_mmdet = '/home/javier/sensus-loci/mmdetection3d/configs/fcos3d/fcos3d_r101-caffe-dcn_fpn_head-gn_8xb2-1x_nus-mono3d_finetune.py'\n",
    "checkpoint_fcos_mmdet = '/home/javier/sensus-loci/mmdetection3d/checkpoints/fcos3d_r101_caffe_fpn_gn-head_dcn_2x8_1x_nus-mono3d_finetune_20210717_095645-8d806dc2.pth'\n",
    "device = 'cuda:0'\n",
    "\n",
    "model_mmdet = init_model(config_fcos_mmdet, checkpoint_fcos_mmdet, device=device)\n",
    "result = inference_mono_3d_detector(model_mmdet, img, ann_file, cam_type)"
   ]
  },
  {
   "cell_type": "code",
   "execution_count": 6,
   "metadata": {},
   "outputs": [
    {
     "name": "stdout",
     "output_type": "stream",
     "text": [
      "<InstanceData(\n",
      "\n",
      "    META INFORMATION\n",
      "\n",
      "    DATA FIELDS\n",
      "    attr_labels: tensor([5, 2, 2, 2, 2, 8, 5, 2, 2, 2, 8, 2, 8, 8, 8, 5, 2, 2, 8, 8, 8, 8, 5, 5,\n",
      "                2, 5, 5, 2, 8, 5, 8, 2, 8, 2, 2, 2, 8, 2, 8, 8, 8, 8, 5, 8, 8, 8, 8, 8,\n",
      "                5, 5, 8, 8, 8, 2, 2, 5, 5, 2, 5, 8, 8, 8, 8, 8, 2, 8, 2, 5, 2, 8, 2, 8,\n",
      "                8, 8, 8, 5, 5, 8, 8, 2, 8, 8, 8, 8, 5, 8, 5, 8, 2, 5, 8, 2, 2, 8, 8, 8,\n",
      "                2, 5, 5, 8, 8, 8, 8, 5, 8, 8, 8, 5, 2, 8, 8, 8, 2, 5, 8, 8, 5, 8, 2, 5,\n",
      "                8, 8, 5, 8, 8, 8, 8, 5, 5, 8, 5, 5, 8, 5, 2, 5, 8, 8, 5, 5, 2, 8, 2, 8,\n",
      "                8, 8, 5, 5, 8, 8, 5, 8, 5, 5, 8, 8, 2, 8, 8, 8, 8, 8, 8, 5, 8, 5, 5, 5,\n",
      "                8, 8, 5, 5, 8, 7, 8, 2, 8, 8, 5, 5, 8, 8, 5, 8, 8, 8, 2, 8, 5, 8, 5, 8,\n",
      "                8, 8, 8, 8, 8, 8, 8, 8], device='cuda:0')\n",
      "    labels_3d: tensor([0, 7, 7, 7, 7, 8, 0, 7, 7, 7, 9, 7, 8, 8, 9, 3, 7, 7, 9, 9, 8, 8, 1, 3,\n",
      "                7, 1, 0, 7, 9, 3, 8, 7, 9, 7, 7, 7, 9, 7, 9, 9, 9, 9, 1, 8, 9, 8, 9, 9,\n",
      "                0, 3, 9, 9, 9, 7, 7, 1, 0, 7, 1, 9, 8, 9, 9, 8, 7, 9, 7, 0, 7, 8, 7, 8,\n",
      "                9, 8, 9, 0, 1, 8, 8, 7, 8, 9, 9, 9, 0, 9, 1, 9, 7, 3, 8, 7, 7, 9, 8, 9,\n",
      "                7, 1, 1, 8, 9, 8, 9, 0, 9, 8, 9, 1, 7, 9, 9, 8, 7, 1, 9, 8, 3, 8, 7, 0,\n",
      "                8, 9, 1, 9, 9, 8, 9, 0, 0, 9, 1, 1, 9, 0, 7, 0, 9, 9, 0, 0, 7, 9, 7, 8,\n",
      "                9, 9, 1, 0, 9, 8, 1, 9, 0, 0, 9, 9, 7, 9, 9, 9, 9, 9, 9, 1, 9, 0, 0, 1,\n",
      "                9, 9, 0, 0, 9, 0, 8, 7, 9, 8, 0, 0, 8, 8, 0, 9, 9, 8, 7, 9, 0, 8, 1, 8,\n",
      "                8, 9, 8, 9, 8, 0, 9, 8], device='cuda:0')\n",
      "    scores_3d: tensor([0.4347, 0.4296, 0.4169, 0.4051, 0.3721, 0.3561, 0.3336, 0.3050, 0.2873,\n",
      "                0.2808, 0.2796, 0.2772, 0.2645, 0.2614, 0.2506, 0.2275, 0.2222, 0.2105,\n",
      "                0.1977, 0.1966, 0.1890, 0.1877, 0.1871, 0.1864, 0.1845, 0.1717, 0.1712,\n",
      "                0.1644, 0.1616, 0.1600, 0.1588, 0.1461, 0.1434, 0.1416, 0.1414, 0.1410,\n",
      "                0.1409, 0.1389, 0.1380, 0.1375, 0.1313, 0.1312, 0.1305, 0.1294, 0.1285,\n",
      "                0.1283, 0.1279, 0.1268, 0.1262, 0.1262, 0.1255, 0.1228, 0.1209, 0.1202,\n",
      "                0.1200, 0.1192, 0.1175, 0.1155, 0.1144, 0.1131, 0.1093, 0.1070, 0.1059,\n",
      "                0.1056, 0.1055, 0.1050, 0.1048, 0.1046, 0.1042, 0.1012, 0.1000, 0.0994,\n",
      "                0.0991, 0.0990, 0.0984, 0.0976, 0.0974, 0.0968, 0.0964, 0.0943, 0.0941,\n",
      "                0.0940, 0.0936, 0.0930, 0.0925, 0.0922, 0.0915, 0.0914, 0.0913, 0.0913,\n",
      "                0.0907, 0.0902, 0.0902, 0.0895, 0.0894, 0.0887, 0.0885, 0.0858, 0.0852,\n",
      "                0.0851, 0.0850, 0.0848, 0.0839, 0.0836, 0.0836, 0.0822, 0.0807, 0.0802,\n",
      "                0.0802, 0.0801, 0.0798, 0.0791, 0.0785, 0.0780, 0.0777, 0.0766, 0.0763,\n",
      "                0.0752, 0.0746, 0.0745, 0.0738, 0.0738, 0.0729, 0.0729, 0.0728, 0.0727,\n",
      "                0.0726, 0.0725, 0.0722, 0.0722, 0.0720, 0.0717, 0.0711, 0.0708, 0.0708,\n",
      "                0.0705, 0.0701, 0.0698, 0.0695, 0.0695, 0.0695, 0.0689, 0.0686, 0.0684,\n",
      "                0.0684, 0.0683, 0.0682, 0.0682, 0.0675, 0.0675, 0.0668, 0.0668, 0.0661,\n",
      "                0.0660, 0.0658, 0.0656, 0.0649, 0.0648, 0.0647, 0.0643, 0.0643, 0.0639,\n",
      "                0.0632, 0.0626, 0.0624, 0.0623, 0.0623, 0.0622, 0.0622, 0.0621, 0.0620,\n",
      "                0.0619, 0.0618, 0.0617, 0.0612, 0.0612, 0.0609, 0.0609, 0.0607, 0.0605,\n",
      "                0.0602, 0.0599, 0.0598, 0.0589, 0.0587, 0.0583, 0.0582, 0.0582, 0.0581,\n",
      "                0.0580, 0.0578, 0.0577, 0.0575, 0.0569, 0.0569, 0.0568, 0.0567, 0.0566,\n",
      "                0.0563, 0.0562], device='cuda:0')\n",
      "    bboxes_3d: CameraInstance3DBoxes(\n",
      "            tensor([[-8.7883,  2.0479, 17.7831,  ...,  1.5384,  1.8703,  4.7125],\n",
      "                [ 1.3042,  1.8116, 14.2548,  ...,  1.7986,  0.6964,  3.0756],\n",
      "                [ 3.5948,  1.5768, 12.2000,  ...,  1.7429,  0.6630,  3.4421],\n",
      "                ...,\n",
      "                [-7.4290,  2.0211, 15.5054,  ...,  1.1294,  0.6817,  4.7259],\n",
      "                [-6.1091,  1.7787,  9.7548,  ...,  0.9992,  0.6684,  3.0971],\n",
      "                [-6.8716,  1.8952, 14.4061,  ...,  0.8391,  0.3748,  5.0023]],\n",
      "               device='cuda:0'))\n",
      ") at 0x7fcc68b773a0>\n"
     ]
    }
   ],
   "source": [
    "print(result.pred_instances_3d)"
   ]
  },
  {
   "cell_type": "code",
   "execution_count": 7,
   "metadata": {},
   "outputs": [
    {
     "name": "stdout",
     "output_type": "stream",
     "text": [
      "[3.594799757003784, 1.5768046379089355, 12.20003604888916]\n",
      "[1.538368821144104, 4.552109718322754, 1.870301604270935]\n",
      "-8.788290977478027 2.047874689102173 17.783077239990234 -4.7125420570373535\n",
      "[1.7985625267028809, 0.8252890706062317, 0.6963988542556763]\n",
      "1.304242730140686 1.8115705251693726 14.254770278930664 -3.0756232738494873\n",
      "[1.7429064512252808, 0.7310580611228943, 0.6629711389541626]\n",
      "3.594799757003784 1.5768046379089355 12.20003604888916 -3.4421067237854004\n",
      "[1.7755929231643677, 0.7312778830528259, 0.6679725646972656]\n",
      "3.661858320236206 1.603421688079834 12.427329063415527 -3.4673285484313965\n",
      "[1.7231777906417847, 0.8489084243774414, 0.6954624056816101]\n",
      "1.9305311441421509 1.882718801498413 13.319366455078125 -3.4222676753997803\n",
      "[0.7702171802520752, 0.3507826626300812, 0.3687049150466919]\n",
      "-6.541754245758057 1.8602951765060425 14.086527824401855 -1.5765447616577148\n",
      "[1.5263906717300415, 4.544149875640869, 1.8639020919799805]\n",
      "-8.666945457458496 2.0545244216918945 17.533512115478516 -4.7254109382629395\n",
      "[1.7167316675186157, 0.8343793153762817, 0.700461745262146]\n",
      "1.8768924474716187 1.8693597316741943 13.199012756347656 -3.365922451019287\n"
     ]
    },
    {
     "data": {
      "text/plain": [
       "True"
      ]
     },
     "execution_count": 7,
     "metadata": {},
     "output_type": "execute_result"
    }
   ],
   "source": [
    "viz = ImageVisualizer(img)\n",
    "bbox = result.pred_instances_3d[2].bboxes_3d.tensor[0].cpu().tolist()\n",
    "bbox_location = bbox[0:3]\n",
    "bbox_dim = bbox[3:6]\n",
    "bbox_rotation = bbox[6] - np.pi/2\n",
    "\n",
    "# Load the calibration matrix\n",
    "intrinsic_matrix = load(ann_file)[0]['images']['CAM_BACK']['cam2img']\n",
    "bbox_dim = [bbox_dim[1], bbox_dim[0], bbox_dim[2]]\n",
    "print(bbox_location)\n",
    "image = viz.image\n",
    "\n",
    "for bbox in result.pred_instances_3d:\n",
    "    if bbox.scores_3d[0] > 0.3:\n",
    "        bbox = bbox.bboxes_3d.tensor[0].cpu().tolist()\n",
    "        bbox_location = bbox[0:3]\n",
    "        bbox_dim = bbox[3:6]\n",
    "        bbox_rotation = bbox[6] - np.pi/2\n",
    "        bbox_dim = [bbox_dim[1], bbox_dim[0], bbox_dim[2]]\n",
    "        image = viz.draw_3d_bbox(bbox_dim, bbox_location, bbox_rotation, intrinsic_matrix, 0.0)\n",
    "# Save the image\n",
    "cv2.imwrite('image_with_bbox_vis.png', image)"
   ]
  },
  {
   "attachments": {},
   "cell_type": "markdown",
   "metadata": {},
   "source": [
    "# Same inference with dair img"
   ]
  },
  {
   "cell_type": "code",
   "execution_count": 7,
   "metadata": {},
   "outputs": [],
   "source": [
    "ann_file = '/home/javier/sensus-loci/sensus/notebooks/tmp/data/dair/002238.pkl'\n",
    "img = '/home/javier/sensus-loci/sensus/notebooks/tmp/data/dair/002238.png'\n",
    "cam_type = 'CAM_BACK'"
   ]
  },
  {
   "cell_type": "code",
   "execution_count": 8,
   "metadata": {},
   "outputs": [
    {
     "name": "stdout",
     "output_type": "stream",
     "text": [
      "Loads checkpoint by local backend from path: /home/javier/sensus-loci/mmdetection3d/checkpoints/fcos3d_r101_caffe_fpn_gn-head_dcn_2x8_1x_nus-mono3d_finetune_20210717_095645-8d806dc2.pth\n"
     ]
    }
   ],
   "source": [
    "config_fcos_mmdet = '/home/javier/sensus-loci/mmdetection3d/configs/fcos3d/fcos3d_r101-caffe-dcn_fpn_head-gn_8xb2-1x_nus-mono3d_finetune.py'\n",
    "checkpoint_fcos_mmdet = '/home/javier/sensus-loci/mmdetection3d/checkpoints/fcos3d_r101_caffe_fpn_gn-head_dcn_2x8_1x_nus-mono3d_finetune_20210717_095645-8d806dc2.pth'\n",
    "device = 'cuda:0'\n",
    "\n",
    "model_mmdet = init_model(config_fcos_mmdet, checkpoint_fcos_mmdet, device=device)\n",
    "result = inference_mono_3d_detector(model_mmdet, img, ann_file, cam_type)"
   ]
  },
  {
   "cell_type": "code",
   "execution_count": 9,
   "metadata": {},
   "outputs": [
    {
     "name": "stdout",
     "output_type": "stream",
     "text": [
      "[1.8768924474716187, 1.8693597316741943, 13.199012756347656]\n",
      "[1.505855679512024, 4.660029411315918, 1.935239553451538]\n",
      "-10.54447078704834 -3.4203410148620605 33.65921401977539 -1.5478957891464233\n",
      "[1.8625723123550415, 4.630361080169678, 1.996287226676941]\n",
      "0.4844247102737427 -2.126079559326172 29.004966735839844 -4.6877899169921875\n",
      "[1.7880585193634033, 4.781535625457764, 2.06673526763916]\n",
      "-11.248488426208496 -7.060381889343262 51.089778900146484 -4.627062797546387\n"
     ]
    },
    {
     "data": {
      "text/plain": [
       "True"
      ]
     },
     "execution_count": 9,
     "metadata": {},
     "output_type": "execute_result"
    }
   ],
   "source": [
    "viz = ImageVisualizer(img)\n",
    "\n",
    "# Load the calibration matrix\n",
    "intrinsic_matrix = load(ann_file)[0]['images']['CAM_BACK']['cam2img']\n",
    "\n",
    "bbox_dim = [bbox_dim[1], bbox_dim[0], bbox_dim[2]]\n",
    "print(bbox_location)\n",
    "image = viz.image\n",
    "\n",
    "for bbox in result.pred_instances_3d:\n",
    "    if bbox.scores_3d[0] > 0.3:\n",
    "        bbox = bbox.bboxes_3d.tensor[0].cpu().tolist()\n",
    "        bbox_location = bbox[0:3]\n",
    "        bbox_dim = bbox[3:6]\n",
    "        bbox_rotation = bbox[6] - np.pi/2\n",
    "        bbox_dim = [bbox_dim[1], bbox_dim[0], bbox_dim[2]]\n",
    "        image = viz.draw_3d_bbox(bbox_dim, bbox_location, bbox_rotation, intrinsic_matrix, 0.0)\n",
    "# Save the image\n",
    "cv2.imwrite('image_with_bbox_vis.png', image)"
   ]
  }
 ],
 "metadata": {
  "kernelspec": {
   "display_name": "openmmlab",
   "language": "python",
   "name": "python3"
  },
  "language_info": {
   "codemirror_mode": {
    "name": "ipython",
    "version": 3
   },
   "file_extension": ".py",
   "mimetype": "text/x-python",
   "name": "python",
   "nbconvert_exporter": "python",
   "pygments_lexer": "ipython3",
   "version": "3.8.16"
  },
  "orig_nbformat": 4
 },
 "nbformat": 4,
 "nbformat_minor": 2
}
