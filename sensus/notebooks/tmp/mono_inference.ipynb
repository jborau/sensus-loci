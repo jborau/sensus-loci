{
 "cells": [
  {
   "cell_type": "code",
   "execution_count": 1,
   "metadata": {},
   "outputs": [],
   "source": [
    "%load_ext autoreload\n",
    "%autoreload 2\n",
    "\n",
    "from argparse import ArgumentParser\n",
    "\n",
    "import mmcv\n",
    "\n",
    "from mmdet3d.apis import inference_mono_3d_detector, init_model\n",
    "from mmdet3d.registry import VISUALIZERS\n",
    "from mmengine import load, dump"
   ]
  },
  {
   "cell_type": "code",
   "execution_count": 2,
   "metadata": {},
   "outputs": [],
   "source": [
    "# # Create PKL file\n",
    "# data = [{'images': {'CAM_BACK': {'img_path': 'sample.png', 'cam2img': [[809.2209905677063, 0.0, 829.2196003259838], [0.0, 809.2209905677063, 481.77842384512485], [0.0, 0.0, 1.0]]}}}]\n",
    "# dump(data, 'sample.pkl')"
   ]
  },
  {
   "attachments": {},
   "cell_type": "markdown",
   "metadata": {},
   "source": [
    "# Inference MMDET Config"
   ]
  },
  {
   "cell_type": "code",
   "execution_count": 18,
   "metadata": {},
   "outputs": [],
   "source": [
    "ann_file = '/home/javier/sensus-loci/sensus/notebooks/tmp/data/dair/002238.pkl'\n",
    "img = '/home/javier/sensus-loci/sensus/notebooks/tmp/data/dair/002238.png'\n",
    "cam_type = 'CAM_BACK'\n",
    "# ann_file = '/home/javier/sensus-loci/sensus/notebooks/tmp/data/nuscenes/ANN_CAM_BACK.pkl'\n",
    "# img = '/home/javier/sensus-loci/sensus/notebooks/tmp/data/nuscenes/n015-2018-07-24-11-22-45+0800__CAM_BACK__1532402927637525.jpg'"
   ]
  },
  {
   "cell_type": "code",
   "execution_count": 19,
   "metadata": {},
   "outputs": [
    {
     "name": "stdout",
     "output_type": "stream",
     "text": [
      "Loads checkpoint by local backend from path: /home/javier/sensus-loci/mmdetection3d/checkpoints/fcos3d_r101_caffe_fpn_gn-head_dcn_2x8_1x_nus-mono3d_finetune_20210717_095645-8d806dc2.pth\n"
     ]
    }
   ],
   "source": [
    "config_fcos_mmdet = '/home/javier/sensus-loci/mmdetection3d/configs/fcos3d/fcos3d_r101-caffe-dcn_fpn_head-gn_8xb2-1x_nus-mono3d_finetune.py'\n",
    "checkpoint_fcos_mmdet = '/home/javier/sensus-loci/mmdetection3d/checkpoints/fcos3d_r101_caffe_fpn_gn-head_dcn_2x8_1x_nus-mono3d_finetune_20210717_095645-8d806dc2.pth'\n",
    "device = 'cuda:0'\n",
    "\n",
    "model_mmdet = init_model(config_fcos_mmdet, checkpoint_fcos_mmdet, device=device)"
   ]
  },
  {
   "cell_type": "code",
   "execution_count": 20,
   "metadata": {},
   "outputs": [
    {
     "name": "stderr",
     "output_type": "stream",
     "text": [
      "/home/javier/miniconda3/envs/openmmlab/lib/python3.8/site-packages/mmengine/utils/manager.py:113: UserWarning: <class 'mmdet3d.visualization.local_visualizer.Det3DLocalVisualizer'> instance named of visualizer has been created, the method `get_instance` should not accept any other arguments\n",
      "  warnings.warn(\n"
     ]
    }
   ],
   "source": [
    "# init visualizer\n",
    "visualizer_mmdet = VISUALIZERS.build(model_mmdet.cfg.visualizer)\n",
    "visualizer_mmdet.dataset_meta = model_mmdet.dataset_meta\n",
    "# test a single image\n",
    "result = inference_mono_3d_detector(model_mmdet, img, ann_file, cam_type)"
   ]
  },
  {
   "cell_type": "code",
   "execution_count": 24,
   "metadata": {},
   "outputs": [],
   "source": [
    "\n",
    "img = mmcv.imread(img)\n",
    "img = mmcv.imconvert(img, 'bgr', 'rgb')\n",
    "data_input = dict(img=img)\n",
    "# show the results\n",
    "visualizer_mmdet.add_datasample(\n",
    "    'result',\n",
    "    data_input,\n",
    "    data_sample=result,\n",
    "    draw_gt=False,\n",
    "    show=True,\n",
    "    wait_time=0,\n",
    "    out_file='result_mmdet',\n",
    "    pred_score_thr= 0.39,\n",
    "    vis_task='mono_det')"
   ]
  },
  {
   "cell_type": "code",
   "execution_count": 23,
   "metadata": {},
   "outputs": [
    {
     "name": "stdout",
     "output_type": "stream",
     "text": [
      "CameraInstance3DBoxes(\n",
      "    tensor([[-10.5445,  -3.4203,  33.6592,   4.6600,   1.5059,   1.9352,   1.5479]],\n",
      "       device='cuda:0'))\n",
      "tensor(0.3940, device='cuda:0')\n",
      "tensor(0, device='cuda:0')\n",
      "tensor([0.3940, 0.3304, 0.3110, 0.2979, 0.2948, 0.2944, 0.2757, 0.2739, 0.2657,\n",
      "        0.2170, 0.2117, 0.1892, 0.1873, 0.1785, 0.1621, 0.1419, 0.1398, 0.1344,\n",
      "        0.1266, 0.1260, 0.1242, 0.1233, 0.1199, 0.1149, 0.1048, 0.1044, 0.0975,\n",
      "        0.0970, 0.0966, 0.0962, 0.0957, 0.0956, 0.0950, 0.0947, 0.0935, 0.0895,\n",
      "        0.0892, 0.0884, 0.0883, 0.0872, 0.0856, 0.0849, 0.0834, 0.0809, 0.0789,\n",
      "        0.0757, 0.0723, 0.0705, 0.0676, 0.0666, 0.0640, 0.0634, 0.0631, 0.0603,\n",
      "        0.0599, 0.0579, 0.0565, 0.0542, 0.0531, 0.0525, 0.0512, 0.0508, 0.0625,\n",
      "        0.0612, 0.0560, 0.1779, 0.1088, 0.0878, 0.0868, 0.0755, 0.0733, 0.0732,\n",
      "        0.0626, 0.0568, 0.0554, 0.0521, 0.0516, 0.0502], device='cuda:0')\n"
     ]
    }
   ],
   "source": [
    "print(result.pred_instances_3d.bboxes_3d[0])\n",
    "print(result.pred_instances_3d.scores_3d[0])\n",
    "print(result.pred_instances_3d.labels_3d[0])\n",
    "print(result.pred_instances_3d.scores_3d)"
   ]
  },
  {
   "attachments": {},
   "cell_type": "markdown",
   "metadata": {},
   "source": [
    "# Dair trained fcos"
   ]
  },
  {
   "cell_type": "code",
   "execution_count": 32,
   "metadata": {},
   "outputs": [],
   "source": [
    "\n",
    "\n",
    "ann_file = '/home/javier/sensus-loci/sensus/notebooks/tmp/data/dair/002238.pkl'\n",
    "img = '/home/javier/sensus-loci/sensus/notebooks/tmp/data/dair/002238.png'\n",
    "cam_type = 'CAM_BACK'\n",
    "\n",
    "# ann_file = '/home/javier/sensus-loci/sensus/notebooks/tmp/data/nuscenes/sample.pkl'\n",
    "# img = '/home/javier/sensus-loci/sensus/notebooks/tmp/data/nuscenes/sample.png'\n",
    "# cam_type = 'CAM_BACK'"
   ]
  },
  {
   "cell_type": "code",
   "execution_count": 33,
   "metadata": {},
   "outputs": [
    {
     "name": "stdout",
     "output_type": "stream",
     "text": [
      "Loads checkpoint by local backend from path: /home/javier/sensus-loci/work_dirs/fcos3d_r101-caffe-dcn_fpn_head-gn_8xb2-1x_nus-mono3d_finetune/epoch_30.pth\n",
      "07/03 13:17:03 - mmengine - \u001b[4m\u001b[97mINFO\u001b[0m - ModulatedDeformConvPack backbone.layer3.0.conv2 is upgraded to version 2.\n",
      "07/03 13:17:03 - mmengine - \u001b[4m\u001b[97mINFO\u001b[0m - ModulatedDeformConvPack backbone.layer3.1.conv2 is upgraded to version 2.\n",
      "07/03 13:17:03 - mmengine - \u001b[4m\u001b[97mINFO\u001b[0m - ModulatedDeformConvPack backbone.layer3.2.conv2 is upgraded to version 2.\n",
      "07/03 13:17:03 - mmengine - \u001b[4m\u001b[97mINFO\u001b[0m - ModulatedDeformConvPack backbone.layer3.3.conv2 is upgraded to version 2.\n",
      "07/03 13:17:03 - mmengine - \u001b[4m\u001b[97mINFO\u001b[0m - ModulatedDeformConvPack backbone.layer3.4.conv2 is upgraded to version 2.\n",
      "07/03 13:17:03 - mmengine - \u001b[4m\u001b[97mINFO\u001b[0m - ModulatedDeformConvPack backbone.layer3.5.conv2 is upgraded to version 2.\n",
      "07/03 13:17:03 - mmengine - \u001b[4m\u001b[97mINFO\u001b[0m - ModulatedDeformConvPack backbone.layer3.6.conv2 is upgraded to version 2.\n",
      "07/03 13:17:03 - mmengine - \u001b[4m\u001b[97mINFO\u001b[0m - ModulatedDeformConvPack backbone.layer3.7.conv2 is upgraded to version 2.\n",
      "07/03 13:17:03 - mmengine - \u001b[4m\u001b[97mINFO\u001b[0m - ModulatedDeformConvPack backbone.layer3.8.conv2 is upgraded to version 2.\n",
      "07/03 13:17:03 - mmengine - \u001b[4m\u001b[97mINFO\u001b[0m - ModulatedDeformConvPack backbone.layer3.9.conv2 is upgraded to version 2.\n",
      "07/03 13:17:03 - mmengine - \u001b[4m\u001b[97mINFO\u001b[0m - ModulatedDeformConvPack backbone.layer3.10.conv2 is upgraded to version 2.\n",
      "07/03 13:17:03 - mmengine - \u001b[4m\u001b[97mINFO\u001b[0m - ModulatedDeformConvPack backbone.layer3.11.conv2 is upgraded to version 2.\n",
      "07/03 13:17:03 - mmengine - \u001b[4m\u001b[97mINFO\u001b[0m - ModulatedDeformConvPack backbone.layer3.12.conv2 is upgraded to version 2.\n",
      "07/03 13:17:03 - mmengine - \u001b[4m\u001b[97mINFO\u001b[0m - ModulatedDeformConvPack backbone.layer3.13.conv2 is upgraded to version 2.\n",
      "07/03 13:17:03 - mmengine - \u001b[4m\u001b[97mINFO\u001b[0m - ModulatedDeformConvPack backbone.layer3.14.conv2 is upgraded to version 2.\n",
      "07/03 13:17:03 - mmengine - \u001b[4m\u001b[97mINFO\u001b[0m - ModulatedDeformConvPack backbone.layer3.15.conv2 is upgraded to version 2.\n",
      "07/03 13:17:03 - mmengine - \u001b[4m\u001b[97mINFO\u001b[0m - ModulatedDeformConvPack backbone.layer3.16.conv2 is upgraded to version 2.\n",
      "07/03 13:17:03 - mmengine - \u001b[4m\u001b[97mINFO\u001b[0m - ModulatedDeformConvPack backbone.layer3.17.conv2 is upgraded to version 2.\n",
      "07/03 13:17:03 - mmengine - \u001b[4m\u001b[97mINFO\u001b[0m - ModulatedDeformConvPack backbone.layer3.18.conv2 is upgraded to version 2.\n",
      "07/03 13:17:03 - mmengine - \u001b[4m\u001b[97mINFO\u001b[0m - ModulatedDeformConvPack backbone.layer3.19.conv2 is upgraded to version 2.\n",
      "07/03 13:17:03 - mmengine - \u001b[4m\u001b[97mINFO\u001b[0m - ModulatedDeformConvPack backbone.layer3.20.conv2 is upgraded to version 2.\n",
      "07/03 13:17:03 - mmengine - \u001b[4m\u001b[97mINFO\u001b[0m - ModulatedDeformConvPack backbone.layer3.21.conv2 is upgraded to version 2.\n",
      "07/03 13:17:03 - mmengine - \u001b[4m\u001b[97mINFO\u001b[0m - ModulatedDeformConvPack backbone.layer3.22.conv2 is upgraded to version 2.\n",
      "07/03 13:17:03 - mmengine - \u001b[4m\u001b[97mINFO\u001b[0m - ModulatedDeformConvPack backbone.layer4.0.conv2 is upgraded to version 2.\n",
      "07/03 13:17:03 - mmengine - \u001b[4m\u001b[97mINFO\u001b[0m - ModulatedDeformConvPack backbone.layer4.1.conv2 is upgraded to version 2.\n",
      "07/03 13:17:03 - mmengine - \u001b[4m\u001b[97mINFO\u001b[0m - ModulatedDeformConvPack backbone.layer4.2.conv2 is upgraded to version 2.\n",
      "07/03 13:17:03 - mmengine - \u001b[4m\u001b[97mINFO\u001b[0m - ModulatedDeformConvPack bbox_head.cls_convs.1.conv is upgraded to version 2.\n",
      "07/03 13:17:03 - mmengine - \u001b[4m\u001b[97mINFO\u001b[0m - ModulatedDeformConvPack bbox_head.reg_convs.1.conv is upgraded to version 2.\n"
     ]
    }
   ],
   "source": [
    "config_fcos_dair = '/home/javier/sensus-loci/sensus/configs/tmp/dair_fcos/fcos3d_r101-caffe-dcn_fpn_head-gn_8xb2-1x_nus-mono3d_finetune.py'\n",
    "checkpoint_fcos_dair = '/home/javier/sensus-loci/work_dirs/fcos3d_r101-caffe-dcn_fpn_head-gn_8xb2-1x_nus-mono3d_finetune/epoch_30.pth'\n",
    "# checkpoint_fcos_dair = '/home/javier/sensus-loci/work_dirs/fcos_dair/epoch_12.pth'\n",
    "device = 'cuda:0'\n",
    "\n",
    "model_dair = init_model(config_fcos_dair, checkpoint_fcos_dair, device=device)"
   ]
  },
  {
   "cell_type": "code",
   "execution_count": 35,
   "metadata": {},
   "outputs": [],
   "source": [
    "# init visualizer\n",
    "visualizer_dair = VISUALIZERS.build(model_dair.cfg.visualizer)\n",
    "visualizer_dair.dataset_meta = model_dair.dataset_meta\n",
    "# test a single image\n",
    "result_sensus = inference_mono_3d_detector(model_dair, img, ann_file, cam_type)\n",
    "\n"
   ]
  },
  {
   "cell_type": "code",
   "execution_count": 37,
   "metadata": {},
   "outputs": [
    {
     "name": "stdout",
     "output_type": "stream",
     "text": [
      "CameraInstance3DBoxes(\n",
      "    tensor([[-8.4133, -4.9801, 32.2280,  3.8852,  1.4269,  1.6141,  1.5811]],\n",
      "       device='cuda:0'))\n",
      "tensor(0.4113, device='cuda:0')\n",
      "tensor(2, device='cuda:0')\n",
      "tensor([0.4113, 0.3618, 0.3080, 0.2515, 0.2338, 0.2256, 0.2195, 0.2127, 0.2106,\n",
      "        0.1882, 0.1792, 0.1787, 0.1782, 0.1753, 0.1660, 0.1480, 0.1421, 0.1326,\n",
      "        0.1313, 0.1289, 0.1206, 0.1177, 0.1167, 0.1161, 0.1113, 0.1088, 0.0988,\n",
      "        0.0979, 0.0925, 0.0863, 0.0823, 0.0806, 0.0798, 0.0797, 0.0793, 0.0779,\n",
      "        0.0756, 0.0753, 0.0715, 0.0682, 0.0682, 0.0598, 0.0545, 0.0529],\n",
      "       device='cuda:0')\n"
     ]
    }
   ],
   "source": [
    "print(result_sensus.pred_instances_3d.bboxes_3d[0])\n",
    "print(result_sensus.pred_instances_3d.scores_3d[0])\n",
    "print(result_sensus.pred_instances_3d.labels_3d[0])\n",
    "print(result_sensus.pred_instances_3d.scores_3d)"
   ]
  },
  {
   "cell_type": "code",
   "execution_count": null,
   "metadata": {},
   "outputs": [],
   "source": [
    "img = mmcv.imread(img)\n",
    "img = mmcv.imconvert(img, 'bgr', 'rgb')\n",
    "data_input = dict(img=img)\n",
    "# show the results\n",
    "visualizer_dair.add_datasample(\n",
    "    'result',\n",
    "    data_input,\n",
    "    data_sample=result_sensus,\n",
    "    draw_gt=False,\n",
    "    show=True,\n",
    "    wait_time=0,\n",
    "    out_file='result_sensus',\n",
    "    pred_score_thr= 0.25,\n",
    "    vis_task='mono_det')"
   ]
  }
 ],
 "metadata": {
  "kernelspec": {
   "display_name": "openmmlab",
   "language": "python",
   "name": "python3"
  },
  "language_info": {
   "codemirror_mode": {
    "name": "ipython",
    "version": 3
   },
   "file_extension": ".py",
   "mimetype": "text/x-python",
   "name": "python",
   "nbconvert_exporter": "python",
   "pygments_lexer": "ipython3",
   "version": "3.8.16"
  },
  "orig_nbformat": 4
 },
 "nbformat": 4,
 "nbformat_minor": 2
}
