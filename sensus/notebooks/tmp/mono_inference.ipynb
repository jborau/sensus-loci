{
 "cells": [
  {
   "cell_type": "code",
   "execution_count": 1,
   "metadata": {},
   "outputs": [],
   "source": [
    "%load_ext autoreload\n",
    "%autoreload 2\n",
    "\n",
    "from argparse import ArgumentParser\n",
    "\n",
    "import mmcv\n",
    "\n",
    "from mmdet3d.apis import inference_mono_3d_detector, init_model\n",
    "from mmdet3d.registry import VISUALIZERS\n",
    "from mmengine import load, dump"
   ]
  },
  {
   "cell_type": "code",
   "execution_count": 2,
   "metadata": {},
   "outputs": [],
   "source": [
    "# # Create PKL file\n",
    "# data = [{'images': {'CAM_BACK': {'img_path': 'sample.png', 'cam2img': [[809.2209905677063, 0.0, 829.2196003259838], [0.0, 809.2209905677063, 481.77842384512485], [0.0, 0.0, 1.0]]}}}]\n",
    "# dump(data, 'sample.pkl')"
   ]
  },
  {
   "attachments": {},
   "cell_type": "markdown",
   "metadata": {},
   "source": [
    "# Inference MMDET Config"
   ]
  },
  {
   "cell_type": "code",
   "execution_count": 2,
   "metadata": {},
   "outputs": [],
   "source": [
    "ann_file = '/home/javier/sensus-loci/sensus/notebooks/tmp/data/dair/002238.pkl'\n",
    "img = '/home/javier/sensus-loci/sensus/notebooks/tmp/data/dair/002238.png'\n",
    "cam_type = 'CAM_BACK'\n",
    "ann_file = '/home/javier/sensus-loci/sensus/notebooks/tmp/data/nuscenes/ANN_CAM_BACK.pkl'\n",
    "img = '/home/javier/sensus-loci/sensus/notebooks/tmp/data/nuscenes/n015-2018-07-24-11-22-45+0800__CAM_BACK__1532402927637525.jpg'"
   ]
  },
  {
   "cell_type": "code",
   "execution_count": 3,
   "metadata": {},
   "outputs": [
    {
     "name": "stdout",
     "output_type": "stream",
     "text": [
      "Loads checkpoint by local backend from path: /home/javier/sensus-loci/mmdetection3d/checkpoints/fcos3d_r101_caffe_fpn_gn-head_dcn_2x8_1x_nus-mono3d_finetune_20210717_095645-8d806dc2.pth\n"
     ]
    }
   ],
   "source": [
    "config_fcos_mmdet = '/home/javier/sensus-loci/mmdetection3d/configs/fcos3d/fcos3d_r101-caffe-dcn_fpn_head-gn_8xb2-1x_nus-mono3d_finetune.py'\n",
    "checkpoint_fcos_mmdet = '/home/javier/sensus-loci/mmdetection3d/checkpoints/fcos3d_r101_caffe_fpn_gn-head_dcn_2x8_1x_nus-mono3d_finetune_20210717_095645-8d806dc2.pth'\n",
    "device = 'cuda:0'\n",
    "\n",
    "model_mmdet = init_model(config_fcos_mmdet, checkpoint_fcos_mmdet, device=device)"
   ]
  },
  {
   "cell_type": "code",
   "execution_count": 4,
   "metadata": {},
   "outputs": [
    {
     "name": "stdout",
     "output_type": "stream",
     "text": [
      "Jupyter environment detected. Enabling Open3D WebVisualizer.\n",
      "[Open3D INFO] WebRTC GUI backend enabled.\n",
      "[Open3D INFO] WebRTCWindowSystem: HTTP handshake server disabled.\n",
      "06/17 16:27:17 - mmengine - \u001b[5m\u001b[4m\u001b[33mWARNING\u001b[0m - `Visualizer` backend is not initialized because save_dir is None.\n"
     ]
    },
    {
     "name": "stderr",
     "output_type": "stream",
     "text": [
      "/home/javier/miniconda3/envs/openmmlab/lib/python3.8/site-packages/torch/functional.py:504: UserWarning: torch.meshgrid: in an upcoming release, it will be required to pass the indexing argument. (Triggered internally at /opt/conda/conda-bld/pytorch_1670525552411/work/aten/src/ATen/native/TensorShape.cpp:3190.)\n",
      "  return _VF.meshgrid(tensors, **kwargs)  # type: ignore[attr-defined]\n"
     ]
    }
   ],
   "source": [
    "# init visualizer\n",
    "visualizer_mmdet = VISUALIZERS.build(model_mmdet.cfg.visualizer)\n",
    "visualizer_mmdet.dataset_meta = model_mmdet.dataset_meta\n",
    "# test a single image\n",
    "result = inference_mono_3d_detector(model_mmdet, img, ann_file, cam_type)"
   ]
  },
  {
   "cell_type": "code",
   "execution_count": 5,
   "metadata": {},
   "outputs": [],
   "source": [
    "\n",
    "img = mmcv.imread(img)\n",
    "img = mmcv.imconvert(img, 'bgr', 'rgb')\n",
    "data_input = dict(img=img)\n",
    "# show the results\n",
    "visualizer_mmdet.add_datasample(\n",
    "    'result',\n",
    "    data_input,\n",
    "    data_sample=result,\n",
    "    draw_gt=False,\n",
    "    show=True,\n",
    "    wait_time=0,\n",
    "    out_file='result_mmdet',\n",
    "    pred_score_thr= 0.30,\n",
    "    vis_task='mono_det')"
   ]
  },
  {
   "attachments": {},
   "cell_type": "markdown",
   "metadata": {},
   "source": [
    "# Dair trained fcos"
   ]
  },
  {
   "cell_type": "code",
   "execution_count": 2,
   "metadata": {},
   "outputs": [],
   "source": [
    "ann_file = '/home/javier/sensus-loci/sensus/notebooks/tmp/data/kitti/003252.pkl'\n",
    "img = '/home/javier/sensus-loci/sensus/notebooks/tmp/data/kitti/003252.png'\n",
    "cam_type = 'CAM_BACK'\n",
    "\n",
    "# ann_file = '/home/javier/sensus-loci/sensus/notebooks/tmp/data/dair/002238.pkl'\n",
    "# img = '/home/javier/sensus-loci/sensus/notebooks/tmp/data/dair/002238.png'\n",
    "# cam_type = 'CAM_BACK'\n",
    "\n",
    "# ann_file = '/home/javier/sensus-loci/sensus/notebooks/tmp/data/nuscenes/sample.pkl'\n",
    "# img = '/home/javier/sensus-loci/sensus/notebooks/tmp/data/nuscenes/sample.png'\n",
    "# cam_type = 'CAM_BACK'"
   ]
  },
  {
   "cell_type": "code",
   "execution_count": 3,
   "metadata": {},
   "outputs": [
    {
     "name": "stdout",
     "output_type": "stream",
     "text": [
      "Loads checkpoint by local backend from path: /home/javier/sensus-loci/work_dirs/fcos3d_r101-caffe-dcn_fpn_head-gn_8xb2-1x_nus-mono3d_finetune/epoch_30.pth\n",
      "06/15 11:22:00 - mmengine - \u001b[4m\u001b[97mINFO\u001b[0m - ModulatedDeformConvPack backbone.layer3.0.conv2 is upgraded to version 2.\n",
      "06/15 11:22:00 - mmengine - \u001b[4m\u001b[97mINFO\u001b[0m - ModulatedDeformConvPack backbone.layer3.1.conv2 is upgraded to version 2.\n",
      "06/15 11:22:00 - mmengine - \u001b[4m\u001b[97mINFO\u001b[0m - ModulatedDeformConvPack backbone.layer3.2.conv2 is upgraded to version 2.\n",
      "06/15 11:22:00 - mmengine - \u001b[4m\u001b[97mINFO\u001b[0m - ModulatedDeformConvPack backbone.layer3.3.conv2 is upgraded to version 2.\n",
      "06/15 11:22:00 - mmengine - \u001b[4m\u001b[97mINFO\u001b[0m - ModulatedDeformConvPack backbone.layer3.4.conv2 is upgraded to version 2.\n",
      "06/15 11:22:00 - mmengine - \u001b[4m\u001b[97mINFO\u001b[0m - ModulatedDeformConvPack backbone.layer3.5.conv2 is upgraded to version 2.\n",
      "06/15 11:22:00 - mmengine - \u001b[4m\u001b[97mINFO\u001b[0m - ModulatedDeformConvPack backbone.layer3.6.conv2 is upgraded to version 2.\n",
      "06/15 11:22:00 - mmengine - \u001b[4m\u001b[97mINFO\u001b[0m - ModulatedDeformConvPack backbone.layer3.7.conv2 is upgraded to version 2.\n",
      "06/15 11:22:00 - mmengine - \u001b[4m\u001b[97mINFO\u001b[0m - ModulatedDeformConvPack backbone.layer3.8.conv2 is upgraded to version 2.\n",
      "06/15 11:22:00 - mmengine - \u001b[4m\u001b[97mINFO\u001b[0m - ModulatedDeformConvPack backbone.layer3.9.conv2 is upgraded to version 2.\n",
      "06/15 11:22:00 - mmengine - \u001b[4m\u001b[97mINFO\u001b[0m - ModulatedDeformConvPack backbone.layer3.10.conv2 is upgraded to version 2.\n",
      "06/15 11:22:00 - mmengine - \u001b[4m\u001b[97mINFO\u001b[0m - ModulatedDeformConvPack backbone.layer3.11.conv2 is upgraded to version 2.\n",
      "06/15 11:22:00 - mmengine - \u001b[4m\u001b[97mINFO\u001b[0m - ModulatedDeformConvPack backbone.layer3.12.conv2 is upgraded to version 2.\n",
      "06/15 11:22:00 - mmengine - \u001b[4m\u001b[97mINFO\u001b[0m - ModulatedDeformConvPack backbone.layer3.13.conv2 is upgraded to version 2.\n",
      "06/15 11:22:00 - mmengine - \u001b[4m\u001b[97mINFO\u001b[0m - ModulatedDeformConvPack backbone.layer3.14.conv2 is upgraded to version 2.\n",
      "06/15 11:22:00 - mmengine - \u001b[4m\u001b[97mINFO\u001b[0m - ModulatedDeformConvPack backbone.layer3.15.conv2 is upgraded to version 2.\n",
      "06/15 11:22:00 - mmengine - \u001b[4m\u001b[97mINFO\u001b[0m - ModulatedDeformConvPack backbone.layer3.16.conv2 is upgraded to version 2.\n",
      "06/15 11:22:00 - mmengine - \u001b[4m\u001b[97mINFO\u001b[0m - ModulatedDeformConvPack backbone.layer3.17.conv2 is upgraded to version 2.\n",
      "06/15 11:22:00 - mmengine - \u001b[4m\u001b[97mINFO\u001b[0m - ModulatedDeformConvPack backbone.layer3.18.conv2 is upgraded to version 2.\n",
      "06/15 11:22:00 - mmengine - \u001b[4m\u001b[97mINFO\u001b[0m - ModulatedDeformConvPack backbone.layer3.19.conv2 is upgraded to version 2.\n",
      "06/15 11:22:00 - mmengine - \u001b[4m\u001b[97mINFO\u001b[0m - ModulatedDeformConvPack backbone.layer3.20.conv2 is upgraded to version 2.\n",
      "06/15 11:22:00 - mmengine - \u001b[4m\u001b[97mINFO\u001b[0m - ModulatedDeformConvPack backbone.layer3.21.conv2 is upgraded to version 2.\n",
      "06/15 11:22:00 - mmengine - \u001b[4m\u001b[97mINFO\u001b[0m - ModulatedDeformConvPack backbone.layer3.22.conv2 is upgraded to version 2.\n",
      "06/15 11:22:00 - mmengine - \u001b[4m\u001b[97mINFO\u001b[0m - ModulatedDeformConvPack backbone.layer4.0.conv2 is upgraded to version 2.\n",
      "06/15 11:22:00 - mmengine - \u001b[4m\u001b[97mINFO\u001b[0m - ModulatedDeformConvPack backbone.layer4.1.conv2 is upgraded to version 2.\n",
      "06/15 11:22:00 - mmengine - \u001b[4m\u001b[97mINFO\u001b[0m - ModulatedDeformConvPack backbone.layer4.2.conv2 is upgraded to version 2.\n",
      "06/15 11:22:00 - mmengine - \u001b[4m\u001b[97mINFO\u001b[0m - ModulatedDeformConvPack bbox_head.cls_convs.1.conv is upgraded to version 2.\n",
      "06/15 11:22:00 - mmengine - \u001b[4m\u001b[97mINFO\u001b[0m - ModulatedDeformConvPack bbox_head.reg_convs.1.conv is upgraded to version 2.\n"
     ]
    }
   ],
   "source": [
    "config_fcos_dair = '/home/javier/sensus-loci/sensus/configs/dair_fcos/fcos3d_r101-caffe-dcn_fpn_head-gn_8xb2-1x_nus-mono3d_finetune.py'\n",
    "checkpoint_fcos_dair = '/home/javier/sensus-loci/work_dirs/fcos3d_r101-caffe-dcn_fpn_head-gn_8xb2-1x_nus-mono3d_finetune/epoch_30.pth'\n",
    "# checkpoint_fcos_dair = '/home/javier/sensus-loci/work_dirs/fcos_dair/epoch_12.pth'\n",
    "device = 'cuda:0'\n",
    "\n",
    "model_dair = init_model(config_fcos_dair, checkpoint_fcos_dair, device=device)"
   ]
  },
  {
   "cell_type": "code",
   "execution_count": 4,
   "metadata": {},
   "outputs": [
    {
     "name": "stdout",
     "output_type": "stream",
     "text": [
      "Jupyter environment detected. Enabling Open3D WebVisualizer.\n",
      "[Open3D INFO] WebRTC GUI backend enabled.\n",
      "[Open3D INFO] WebRTCWindowSystem: HTTP handshake server disabled.\n",
      "06/15 11:22:17 - mmengine - \u001b[5m\u001b[4m\u001b[33mWARNING\u001b[0m - `Visualizer` backend is not initialized because save_dir is None.\n",
      "<Det3DDataSample(\n",
      "\n",
      "    META INFORMATION\n",
      "    pad_shape: (384, 1248)\n",
      "    cam2img: [[721.5377, 0.0, 609.5593], [0.0, 721.5377, 172.854], [0.0, 0.0, 1.0]]\n",
      "    ori_shape: (375, 1242)\n",
      "    scale_factor: (1.0, 1.0)\n",
      "    box_mode_3d: <Box3DMode.CAM: 1>\n",
      "    batch_input_shape: (384, 1248)\n",
      "    box_type_3d: <class 'mmdet3d.structures.bbox_3d.cam_box3d.CameraInstance3DBoxes'>\n",
      "    img_shape: (375, 1242)\n",
      "\n",
      "    DATA FIELDS\n",
      "    pred_instances_3d: <InstanceData(\n",
      "        \n",
      "            META INFORMATION\n",
      "        \n",
      "            DATA FIELDS\n",
      "            bboxes_3d: CameraInstance3DBoxes(\n",
      "                    tensor([[-1.1333e+01,  7.9015e-02,  3.4089e+01,  4.4127e+00,  1.5352e+00,\n",
      "                          1.6807e+00,  1.4094e+00],\n",
      "                        [ 1.6062e-01,  9.0697e-01,  1.1742e+01,  3.8199e+00,  1.5524e+00,\n",
      "                          1.6122e+00,  4.4996e+00],\n",
      "                        [-1.1916e+00,  2.0517e-01,  1.9936e+01,  4.1790e+00,  1.5505e+00,\n",
      "                          1.6350e+00,  4.7297e+00],\n",
      "                        [ 3.6651e-01,  8.4517e-01,  1.1477e+01,  3.7431e+00,  1.5663e+00,\n",
      "                          1.6381e+00,  4.6472e+00],\n",
      "                        [-1.0443e+00,  4.3858e-01,  1.7668e+01,  4.2416e+00,  1.5668e+00,\n",
      "                          1.6486e+00,  4.6382e+00],\n",
      "                        [-3.1397e+00, -1.1065e-02,  2.7069e+01,  4.2129e+00,  1.5232e+00,\n",
      "                          1.6579e+00,  4.7054e+00],\n",
      "                        [-9.6762e-03,  6.6704e-01,  1.2420e+01,  4.0010e+00,  1.5487e+00,\n",
      "                          1.6233e+00,  4.5022e+00],\n",
      "                        [ 2.3547e-01,  4.7087e-01,  1.2805e+01,  3.8463e+00,  1.5276e+00,\n",
      "                          1.6199e+00,  4.6430e+00],\n",
      "                        [-1.1596e+01, -2.2766e-02,  3.4960e+01,  4.4448e+00,  1.5277e+00,\n",
      "                          1.6915e+00,  1.4526e+00],\n",
      "                        [ 6.5732e-01,  8.9968e-01,  1.3076e+01,  3.6373e+00,  1.5306e+00,\n",
      "                          1.5758e+00,  4.6253e+00],\n",
      "                        [-1.2707e+01, -1.3242e-01,  4.1992e+01,  4.4064e+00,  1.5339e+00,\n",
      "                          1.6706e+00,  1.3995e+00],\n",
      "                        [-2.7408e+00,  2.1947e-01,  2.5080e+01,  4.1770e+00,  1.5610e+00,\n",
      "                          1.6578e+00,  4.7107e+00],\n",
      "                        [ 3.7141e-01,  1.4195e+00,  9.8864e+00,  3.7697e+00,  1.5174e+00,\n",
      "                          1.5925e+00,  4.4453e+00],\n",
      "                        [-4.7722e+00,  2.2661e-01,  3.2564e+01,  4.3816e+00,  1.5593e+00,\n",
      "                          1.6840e+00,  4.6309e+00],\n",
      "                        [ 6.3846e-01,  8.5502e-01,  1.1017e+01,  3.6418e+00,  1.5439e+00,\n",
      "                          1.6131e+00,  4.7030e+00],\n",
      "                        [-1.0362e+01, -2.0372e-01,  5.0918e+01,  4.4007e+00,  1.5550e+00,\n",
      "                          1.6755e+00,  4.5576e+00]], device='cuda:0'))\n",
      "            labels_3d: tensor([2, 2, 2, 2, 2, 2, 2, 2, 2, 2, 2, 2, 2, 2, 2, 2], device='cuda:0')\n",
      "            scores_3d: tensor([0.1859, 0.1702, 0.1623, 0.1566, 0.1389, 0.1377, 0.1354, 0.1155, 0.0899,\n",
      "                        0.0765, 0.0753, 0.0677, 0.0577, 0.0541, 0.0531, 0.0521],\n",
      "                       device='cuda:0')\n",
      "        ) at 0x7f434b9e9b50>\n",
      "    gt_instances: <InstanceData(\n",
      "        \n",
      "            META INFORMATION\n",
      "        \n",
      "            DATA FIELDS\n",
      "        ) at 0x7f434b9e9520>\n",
      "    gt_pts_seg: <PointData(\n",
      "        \n",
      "            META INFORMATION\n",
      "        \n",
      "            DATA FIELDS\n",
      "        ) at 0x7f434b9e95b0>\n",
      "    gt_instances_3d: <InstanceData(\n",
      "        \n",
      "            META INFORMATION\n",
      "        \n",
      "            DATA FIELDS\n",
      "        ) at 0x7f434b9e94f0>\n",
      "    pred_instances: <InstanceData(\n",
      "        \n",
      "            META INFORMATION\n",
      "        \n",
      "            DATA FIELDS\n",
      "        ) at 0x7f439c7e7b20>\n",
      "    eval_ann_info: None\n",
      ") at 0x7f434b9e9490>\n"
     ]
    },
    {
     "name": "stderr",
     "output_type": "stream",
     "text": [
      "/home/javier/miniconda3/envs/openmmlab/lib/python3.8/site-packages/torch/functional.py:504: UserWarning: torch.meshgrid: in an upcoming release, it will be required to pass the indexing argument. (Triggered internally at /opt/conda/conda-bld/pytorch_1670525552411/work/aten/src/ATen/native/TensorShape.cpp:3190.)\n",
      "  return _VF.meshgrid(tensors, **kwargs)  # type: ignore[attr-defined]\n"
     ]
    }
   ],
   "source": [
    "# init visualizer\n",
    "visualizer_dair = VISUALIZERS.build(model_dair.cfg.visualizer)\n",
    "visualizer_dair.dataset_meta = model_dair.dataset_meta\n",
    "# test a single image\n",
    "result_sensus = inference_mono_3d_detector(model_dair, img, ann_file, cam_type)\n",
    "print(result_sensus)"
   ]
  },
  {
   "cell_type": "code",
   "execution_count": 6,
   "metadata": {},
   "outputs": [],
   "source": [
    "img = mmcv.imread(img)\n",
    "img = mmcv.imconvert(img, 'bgr', 'rgb')\n",
    "data_input = dict(img=img)\n",
    "# show the results\n",
    "visualizer_dair.add_datasample(\n",
    "    'result',\n",
    "    data_input,\n",
    "    data_sample=result_sensus,\n",
    "    draw_gt=False,\n",
    "    show=True,\n",
    "    wait_time=0,\n",
    "    out_file='result_sensus',\n",
    "    pred_score_thr= 0.10,\n",
    "    vis_task='mono_det')"
   ]
  }
 ],
 "metadata": {
  "kernelspec": {
   "display_name": "openmmlab",
   "language": "python",
   "name": "python3"
  },
  "language_info": {
   "codemirror_mode": {
    "name": "ipython",
    "version": 3
   },
   "file_extension": ".py",
   "mimetype": "text/x-python",
   "name": "python",
   "nbconvert_exporter": "python",
   "pygments_lexer": "ipython3",
   "version": "3.8.16"
  },
  "orig_nbformat": 4
 },
 "nbformat": 4,
 "nbformat_minor": 2
}
