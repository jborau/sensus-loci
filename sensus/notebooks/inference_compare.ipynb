{
 "cells": [
  {
   "attachments": {},
   "cell_type": "markdown",
   "metadata": {},
   "source": [
    "# Inference PointCloud MMDetection3D"
   ]
  },
  {
   "cell_type": "code",
   "execution_count": 1,
   "metadata": {},
   "outputs": [
    {
     "name": "stdout",
     "output_type": "stream",
     "text": [
      "Jupyter environment detected. Enabling Open3D WebVisualizer.\n",
      "[Open3D INFO] WebRTC GUI backend enabled.\n",
      "[Open3D INFO] WebRTCWindowSystem: HTTP handshake server disabled.\n",
      "[Open3D INFO] Resetting default logger to print to terminal.\n"
     ]
    }
   ],
   "source": [
    "import pickle\n",
    "import os\n",
    "\n",
    "import open3d as o3d\n",
    "import numpy as np\n",
    "from open3d.web_visualizer import draw\n",
    "import matplotlib.pyplot as plt\n",
    "import matplotlib.image as mpimg\n",
    "\n",
    "import mmdet3d\n",
    "\n",
    "from mmdet3d.apis import inference_detector, init_model\n",
    "# from sensus.utils.data_converter import pc2pc_object\n",
    "from mmdet3d.utils import register_all_modules\n",
    "\n",
    "\n"
   ]
  },
  {
   "cell_type": "code",
   "execution_count": 22,
   "metadata": {},
   "outputs": [],
   "source": [
    "def generate_bbox(bbox_tensor, color):\n",
    "    # Extract label info\n",
    "    dimensions = bbox_tensor[3:6]\n",
    "    position = bbox_tensor[0:3]\n",
    "    rotation = bbox_tensor[6]\n",
    "\n",
    "    print(position)\n",
    "    \n",
    "    # Generate bbox\n",
    "    box = o3d.geometry.TriangleMesh.create_box(width=dimensions[0], height=dimensions[1], depth=dimensions[2])\n",
    "\n",
    "    # Width is x, height is -y and z is up\n",
    "    box.paint_uniform_color([1.0, 0.0, 0.0]) # Set color to red\n",
    "\n",
    "    # Translate box\n",
    "    box.translate(position)\n",
    "\n",
    "    # Translate box to center\n",
    "    box.translate([-dimensions[0]/2, -dimensions[1]/2, 0])\n",
    "\n",
    "    # Rotate box\n",
    "    center = box.get_center()\n",
    "    # rotation = box.get_rotation_matrix_from_xyz((0, 0, -rotation - np.pi/2)) # Notice the negative sign for rotation\n",
    "    rotation = box.get_rotation_matrix_from_xyz((0, 0, -rotation)) # Notice the negative sign for rotation\n",
    "\n",
    "    box.rotate(rotation, center=center)\n",
    "\n",
    "    lines = o3d.geometry.LineSet.create_from_triangle_mesh(box)\n",
    "    # Remove lines that connect non-adjacent points\n",
    "    lines.lines = o3d.utility.Vector2iVector(np.array([[0, 1], [2, 0], [2, 3], [3, 1], [4, 5], [4, 6], [6, 7], [7, 5], [0, 4], [1, 5], [2, 6], [3, 7]]))\n",
    "    lines.paint_uniform_color(color)\n",
    "\n",
    "    return lines"
   ]
  },
  {
   "cell_type": "code",
   "execution_count": 23,
   "metadata": {},
   "outputs": [],
   "source": [
    "def generate_cars(num_cars, bbox_mmdet, bbox_dair):\n",
    "    # Generate bbox\n",
    "    boxes_mmdet = []\n",
    "    boxes_dair = []\n",
    "    for i in range(num_cars):\n",
    "        boxes_mmdet.append(generate_bbox(bbox_mmdet[i], [1.0, 0.0, 0.0]))\n",
    "        boxes_dair.append(generate_bbox(bbox_dair[i], [0.0, 1.0, 0.0]))\n",
    "\n",
    "    return boxes_mmdet, boxes_dair    "
   ]
  },
  {
   "cell_type": "code",
   "execution_count": 24,
   "metadata": {},
   "outputs": [
    {
     "name": "stdout",
     "output_type": "stream",
     "text": [
      "Loads checkpoint by local backend from path: ../../mmdetection3d/checkpoints/hv_pointpillars_secfpn_6x8_160e_kitti-3d-car_20220331_134606-d42d15ed.pth\n",
      "Loads checkpoint by local backend from path: ../../work_dirs/pointpillars_hv_secfpn_8xb6-160e_kitti-3d-car/epoch_80.pth\n"
     ]
    },
    {
     "name": "stderr",
     "output_type": "stream",
     "text": [
      "/home/javier/sensus-loci/mmdetection3d/mmdet3d/models/dense_heads/anchor3d_head.py:92: UserWarning: dir_offset and dir_limit_offset will be depressed and be incorporated into box coder in the future\n",
      "  warnings.warn(\n"
     ]
    }
   ],
   "source": [
    "register_all_modules()\n",
    "\n",
    "## Model provided by mmdetection3d\n",
    "config_mmdet = '../../mmdetection3d/configs/pointpillars/pointpillars_hv_secfpn_8xb6-160e_kitti-3d-car.py'\n",
    "checkpoint_mmdet = '../../mmdetection3d/checkpoints/hv_pointpillars_secfpn_6x8_160e_kitti-3d-car_20220331_134606-d42d15ed.pth'\n",
    "\n",
    "## Model trained on DAIR\n",
    "config_dair = '../configs/dair_pointpillars/pointpillars_hv_secfpn_8xb6-160e_kitti-3d-car.py'\n",
    "checkpoint_dair = '../../work_dirs/pointpillars_hv_secfpn_8xb6-160e_kitti-3d-car/epoch_80.pth'\n",
    "\n",
    "## PCD file\n",
    "pcd_path = 'DAIR/000000/000000.bin'\n",
    "\n",
    "model_mmdet = init_model(config_mmdet, checkpoint_mmdet, device='cuda:1')\n",
    "result_mmdet, data_mmdet = inference_detector(model_mmdet, pcd_path)\n",
    "\n",
    "model_dair = init_model(config_dair, checkpoint_dair, device='cuda:1')\n",
    "result_dair, data_dair = inference_detector(model_dair, pcd_path)\n"
   ]
  },
  {
   "cell_type": "code",
   "execution_count": 25,
   "metadata": {},
   "outputs": [
    {
     "name": "stdout",
     "output_type": "stream",
     "text": [
      "PointCloud with 56285 points.\n"
     ]
    }
   ],
   "source": [
    "# Read pc from bin file\n",
    "with open(pcd_path, 'rb') as f:\n",
    "    points = np.fromfile(f, dtype=np.float32, count=-1).reshape([-1, 4])\n",
    "\n",
    "pcd_bin = o3d.geometry.PointCloud()\n",
    "pcd_bin.points = o3d.utility.Vector3dVector(points[:, :3])\n",
    "print(pcd_bin)"
   ]
  },
  {
   "cell_type": "code",
   "execution_count": 26,
   "metadata": {},
   "outputs": [
    {
     "name": "stdout",
     "output_type": "stream",
     "text": [
      "[ 44.75114  -31.048635  -1.839023]\n",
      "[58.372177  16.275192  -1.7608439]\n",
      "[24.033167  -1.0474998 -1.6393907]\n",
      "[56.51944   25.349005  -1.9438548]\n",
      "[44.986683  12.826962  -1.7199826]\n",
      "[30.146275 17.045673 -1.79806 ]\n",
      "[37.006264  -7.928218  -1.6966988]\n",
      "[44.477684  17.050266  -1.7670798]\n",
      "[29.778257  13.562961  -1.7374878]\n",
      "[52.028023  -4.910778  -1.6688635]\n",
      "[18.163797   2.2201302 -1.6274009]\n",
      "[50.649563  -1.6643411 -1.671246 ]\n",
      "[20.23532   -3.8236191 -1.65694  ]\n",
      "[48.24469   19.852705  -1.8306892]\n",
      "[24.072868  -7.769876  -1.6758342]\n",
      "[38.541016  -4.735648  -1.6788976]\n",
      "[39.61857   26.672215  -1.9174638]\n",
      "[Open3D INFO] Window window_8 created.\n"
     ]
    },
    {
     "data": {
      "application/vnd.jupyter.widget-view+json": {
       "model_id": "c27513a0a53b4a0ab9a02dd44fe7dac4",
       "version_major": 2,
       "version_minor": 0
      },
      "text/plain": [
       "WebVisualizer(window_uid='window_8')"
      ]
     },
     "metadata": {},
     "output_type": "display_data"
    },
    {
     "name": "stdout",
     "output_type": "stream",
     "text": [
      "[Open3D INFO] [Called HTTP API (custom handshake)] /api/getIceServers\n",
      "[Open3D INFO] [Called HTTP API (custom handshake)] /api/call\n",
      "[Open3D INFO] [Called HTTP API (custom handshake)] /api/addIceCandidate\n",
      "[Open3D INFO] [Called HTTP API (custom handshake)] /api/addIceCandidate\n",
      "[Open3D INFO] [Called HTTP API (custom handshake)] /api/addIceCandidate\n",
      "[Open3D INFO] [Called HTTP API (custom handshake)] /api/addIceCandidate\n",
      "[Open3D INFO] [Called HTTP API (custom handshake)] /api/addIceCandidate\n",
      "[Open3D INFO] [Called HTTP API (custom handshake)] /api/addIceCandidate\n",
      "[Open3D INFO] [Called HTTP API (custom handshake)] /api/getIceCandidate\n",
      "[Open3D INFO] DataChannelObserver::OnStateChange label: ServerDataChannel, state: open, peerid: 0.9105426356436352\n",
      "[Open3D INFO] DataChannelObserver::OnStateChange label: ClientDataChannel, state: open, peerid: 0.9105426356436352\n",
      "[Open3D INFO] Sending init frames to window_8.\n"
     ]
    },
    {
     "name": "stderr",
     "output_type": "stream",
     "text": [
      "[341:693][856301] (stun_port.cc:96): Binding request timed out from 163.117.150.x:39300 (enp4s0)\n",
      "[369:174][856301] (stun_port.cc:96): Binding request timed out from 163.117.150.x:52636 (enp4s0)\n"
     ]
    }
   ],
   "source": [
    "bboxes3d_mmdet = result_mmdet.pred_instances_3d.bboxes_3d.tensor.to('cpu').detach().numpy()\n",
    "bboxes3d_dair = result_dair.pred_instances_3d.bboxes_3d.tensor.to('cpu').detach().numpy()\n",
    "\n",
    "# Generate boxes\n",
    "boxes_mmdet, boxes_dair = generate_cars(10, bboxes3d_mmdet, bboxes3d_dair)\n",
    "\n",
    "\n",
    "# draw([pcd_bin] + boxes_dair + boxes_mmdet, width=900, height=600, point_size=1)\n",
    "draw([pcd_bin] + boxes_dair, width=900, height=900, point_size=2)\n"
   ]
  },
  {
   "cell_type": "code",
   "execution_count": 10,
   "metadata": {},
   "outputs": [],
   "source": [
    "def process_label_file(file_path):\n",
    "    labels = []\n",
    "    with open(file_path, 'r') as file:\n",
    "        for line in file:\n",
    "            label = process_label_line(line)\n",
    "            labels.append(label)\n",
    "    return labels\n",
    "\n",
    "def process_label_line(label_line):\n",
    "    label_line = label_line.split(' ')\n",
    "    label = dict()\n",
    "    label['type'] = label_line[0]\n",
    "    label['truncated'] = float(label_line[1])\n",
    "    label['occluded'] = int(label_line[2])\n",
    "    label['alpha'] = float(label_line[3])\n",
    "    label['bbox'] = [float(label_line[i]) for i in range(4, 8)]\n",
    "    label['dimensions'] = [float(label_line[i]) for i in range(8, 11)]\n",
    "    label['location'] = [float(label_line[i]) for i in range(11, 14)]\n",
    "    label['rotation_y'] = float(label_line[14])\n",
    "    label['score'] = float(label_line[15]) if len(label_line) == 16 else None\n",
    "    return label\n",
    "\n",
    "def get_lidar_in_cam_T(calib):\n",
    "    Tr_velo_to_cam = np.array(calib['Tr_velo_to_cam'])\n",
    "    Tr_velo_to_cam = Tr_velo_to_cam.reshape(3, 4)\n",
    "    R = Tr_velo_to_cam[0:3, 0:3]\n",
    "    T = Tr_velo_to_cam[0:3, 3]\n",
    "    lidar_in_cam_T = np.eye(4)\n",
    "    lidar_in_cam_T[0:3, 0:3] = R.T\n",
    "    lidar_in_cam_T[0:3, 3] = -R.T @ T\n",
    "    return lidar_in_cam_T\n",
    "\n",
    "def generate_bbox_label(label, calib):\n",
    "    # Extract label info\n",
    "    dimensions = label['dimensions']\n",
    "    position = label['location']\n",
    "    rotation_y = label['rotation_y']\n",
    "    \n",
    "    # Generate bbox\n",
    "    box = o3d.geometry.TriangleMesh.create_box(width=dimensions[2], height=dimensions[1], depth=dimensions[0])\n",
    "    box.paint_uniform_color([1.0, 0.0, 0.0]) # Set color to red\n",
    "\n",
    "    center = box.get_center()\n",
    "\n",
    "    # Convert position to lidar coordinates\n",
    "    lidar_in_cam_T = get_lidar_in_cam_T(calib)\n",
    "    pos_in_cam = np.array(position + [1])\n",
    "\n",
    "    pos_in_lidar = lidar_in_cam_T @ pos_in_cam\n",
    "\n",
    "    # Translate box\n",
    "    box.translate([pos_in_lidar[0], pos_in_lidar[1], pos_in_lidar[2]])\n",
    "\n",
    "    # Translate box to center\n",
    "    box.translate([-dimensions[2]/2, -dimensions[1]/2, 0])\n",
    "\n",
    "    # Rotate box\n",
    "    center = box.get_center()\n",
    "    rotation = box.get_rotation_matrix_from_xyz((0, 0, -rotation_y - np.pi/2)) # Notice the negative sign for rotation_y\n",
    "    box.rotate(rotation, center=center)\n",
    "\n",
    "    lines = o3d.geometry.LineSet.create_from_triangle_mesh(box)\n",
    "    # Remove lines that connect non-adjacent points\n",
    "    lines.lines = o3d.utility.Vector2iVector(np.array([[0, 1], [2, 0], [2, 3], [3, 1], [4, 5], [4, 6], [6, 7], [7, 5], [0, 4], [1, 5], [2, 6], [3, 7]]))\n",
    "    lines.paint_uniform_color([1, 0, 0])\n",
    "\n",
    "    return lines\n",
    "\n",
    "def process_label_file(file_path):\n",
    "    labels = []\n",
    "    with open(file_path, 'r') as file:\n",
    "        for line in file:\n",
    "            label = process_label_line(line)\n",
    "            labels.append(label)\n",
    "    return labels\n",
    "\n",
    "def process_label_line(label_line):\n",
    "    label_line = label_line.split(' ')\n",
    "    label = dict()\n",
    "    label['type'] = label_line[0]\n",
    "    label['truncated'] = float(label_line[1])\n",
    "    label['occluded'] = int(label_line[2])\n",
    "    label['alpha'] = float(label_line[3])\n",
    "    label['bbox'] = [float(label_line[i]) for i in range(4, 8)]\n",
    "    label['dimensions'] = [float(label_line[i]) for i in range(8, 11)]\n",
    "    label['location'] = [float(label_line[i]) for i in range(11, 14)]\n",
    "    label['rotation_y'] = float(label_line[14])\n",
    "    label['score'] = float(label_line[15]) if len(label_line) == 16 else None\n",
    "    return label\n",
    "\n",
    "def process_calib_file(file_path):\n",
    "    calib = dict()\n",
    "    with open(file_path, 'r') as file:\n",
    "        for line in file:\n",
    "            line = line.split(' ')\n",
    "            if line[0] == 'P2:':\n",
    "                calib['P2'] = [float(line[i]) for i in range(1, len(line))]\n",
    "            elif line[0] == 'Tr_velo_to_cam:':\n",
    "                calib['Tr_velo_to_cam'] = [float(line[i]) for i in range(1, len(line))]\n",
    "            elif line[0] == 'R0_rect:':\n",
    "                calib['R0_rect'] = [float(line[i]) for i in range(1, len(line))]\n",
    "            elif line[0] == 'Tr_imu_to_velo:':\n",
    "                calib['Tr_imu_to_velo'] = [float(line[i]) for i in range(1, len(line))]\n",
    "    return calib"
   ]
  },
  {
   "cell_type": "code",
   "execution_count": 12,
   "metadata": {},
   "outputs": [
    {
     "name": "stdout",
     "output_type": "stream",
     "text": [
      "Loads checkpoint by local backend from path: ../../mmdetection3d/checkpoints/hv_pointpillars_secfpn_6x8_160e_kitti-3d-car_20220331_134606-d42d15ed.pth\n",
      "Loads checkpoint by local backend from path: ../../work_dirs/pointpillars_hv_secfpn_8xb6-160e_kitti-3d-car/epoch_80.pth\n"
     ]
    }
   ],
   "source": [
    "register_all_modules()\n",
    "\n",
    "## Model provided by mmdetection3d\n",
    "config_mmdet = '../../mmdetection3d/configs/pointpillars/pointpillars_hv_secfpn_8xb6-160e_kitti-3d-car.py'\n",
    "checkpoint_mmdet = '../../mmdetection3d/checkpoints/hv_pointpillars_secfpn_6x8_160e_kitti-3d-car_20220331_134606-d42d15ed.pth'\n",
    "\n",
    "## Model trained on DAIR\n",
    "config_dair = '../configs/dair_pointpillars/pointpillars_hv_secfpn_8xb6-160e_kitti-3d-car.py'\n",
    "checkpoint_dair = '../../work_dirs/pointpillars_hv_secfpn_8xb6-160e_kitti-3d-car/epoch_80.pth'\n",
    "\n",
    "## PCD file\n",
    "pcd_path = 'DAIR/000000/000000.bin'\n",
    "\n",
    "# ground truth label file\n",
    "labels_path = 'DAIR/000000/000000_label.txt'\n",
    "calib_path = 'DAIR/000000/000000_calib.txt'\n",
    "\n",
    "model_mmdet = init_model(config_mmdet, checkpoint_mmdet, device='cuda:1')\n",
    "result_mmdet, data_mmdet = inference_detector(model_mmdet, pcd_path)\n",
    "\n",
    "model_dair = init_model(config_dair, checkpoint_dair, device='cuda:1')\n",
    "result_dair, data_dair = inference_detector(model_dair, pcd_path)"
   ]
  },
  {
   "cell_type": "code",
   "execution_count": 20,
   "metadata": {},
   "outputs": [
    {
     "name": "stdout",
     "output_type": "stream",
     "text": [
      "[4.0514374 1.6541232 1.5466162]\n",
      "[1.8801833 4.5953155 1.5821688]\n",
      "[3.878345  1.684742  1.5655102]\n",
      "[1.9794471 4.307521  1.653958 ]\n",
      "[4.0842986 1.6384016 1.4938534]\n",
      "[1.9051155 4.0928574 1.591927 ]\n",
      "[3.8466456 1.6580328 1.5148071]\n",
      "[1.9339418 4.482034  1.6168844]\n",
      "[3.6529348 1.6881094 1.6065358]\n",
      "[1.9963703 4.4733334 1.4839885]\n",
      "[4.4700203 1.6758642 1.492532 ]\n",
      "[2.0118613 4.4417753 1.5312076]\n",
      "[4.5527864 1.6643423 1.5655023]\n",
      "[1.8662988 4.259191  1.4923718]\n",
      "[4.4382505 1.7186098 1.7801328]\n",
      "[2.0015652 4.778095  1.7901412]\n",
      "[4.2194533 1.6571625 1.5270119]\n",
      "[1.9509887 4.741187  1.5100716]\n",
      "[4.203699  1.6529942 1.5301385]\n",
      "[1.8546014 4.2000256 1.506009 ]\n",
      "[4.292528  1.7210178 1.491722 ]\n",
      "[2.0171442 4.4273486 1.4583255]\n",
      "[Open3D INFO] Window window_10 created.\n"
     ]
    },
    {
     "data": {
      "application/vnd.jupyter.widget-view+json": {
       "model_id": "f0d91b29e29a4ff28a23e7f8bdef9a9f",
       "version_major": 2,
       "version_minor": 0
      },
      "text/plain": [
       "WebVisualizer(window_uid='window_10')"
      ]
     },
     "metadata": {},
     "output_type": "display_data"
    },
    {
     "name": "stdout",
     "output_type": "stream",
     "text": [
      "[Open3D INFO] [Called HTTP API (custom handshake)] /api/getIceServers\n",
      "[Open3D INFO] [Called HTTP API (custom handshake)] /api/call\n",
      "[Open3D INFO] [Called HTTP API (custom handshake)] /api/addIceCandidate\n",
      "[Open3D INFO] [Called HTTP API (custom handshake)] /api/addIceCandidate\n",
      "[Open3D INFO] [Called HTTP API (custom handshake)] /api/addIceCandidate\n",
      "[Open3D INFO] [Called HTTP API (custom handshake)] /api/addIceCandidate\n",
      "[Open3D INFO] [Called HTTP API (custom handshake)] /api/addIceCandidate\n",
      "[Open3D INFO] [Called HTTP API (custom handshake)] /api/addIceCandidate\n",
      "[Open3D INFO] [Called HTTP API (custom handshake)] /api/getIceCandidate\n",
      "[Open3D INFO] DataChannelObserver::OnStateChange label: ServerDataChannel, state: open, peerid: 0.3203637160731647\n",
      "[Open3D INFO] DataChannelObserver::OnStateChange label: ClientDataChannel, state: open, peerid: 0.3203637160731647\n",
      "[Open3D INFO] Sending init frames to window_10.\n"
     ]
    },
    {
     "name": "stderr",
     "output_type": "stream",
     "text": [
      "[212:460][855809] (stun_port.cc:96): Binding request timed out from 163.117.150.x:59712 (enp4s0)\n",
      "[219:892][855809] (stun_port.cc:96): Binding request timed out from 163.117.150.x:55076 (enp4s0)\n",
      "[240:407][855809] (stun_port.cc:96): Binding request timed out from 163.117.150.x:42993 (enp4s0)\n",
      "[250:021][855809] (stun_port.cc:96): Binding request timed out from 163.117.150.x:51065 (enp4s0)\n"
     ]
    }
   ],
   "source": [
    "bboxes3d_mmdet = result_mmdet.pred_instances_3d.bboxes_3d.tensor.to('cpu').detach().numpy()\n",
    "bboxes3d_dair = result_dair.pred_instances_3d.bboxes_3d.tensor.to('cpu').detach().numpy()\n",
    "\n",
    "# Generate boxes\n",
    "boxes_mmdet, boxes_dair = generate_cars(11, bboxes3d_mmdet, bboxes3d_dair)\n",
    "\n",
    "# labels\n",
    "labels = process_label_file(labels_path)\n",
    "calib = process_calib_file(calib_path)\n",
    "\n",
    "label = labels[14]\n",
    "\n",
    "# Generate bbox\n",
    "lines = generate_bbox_label(label, calib)\n",
    "\n",
    "draw([pcd_bin, lines] + boxes_dair, width=900, height=600, point_size=2)\n"
   ]
  }
 ],
 "metadata": {
  "kernelspec": {
   "display_name": "openmmlab",
   "language": "python",
   "name": "python3"
  },
  "language_info": {
   "codemirror_mode": {
    "name": "ipython",
    "version": 3
   },
   "file_extension": ".py",
   "mimetype": "text/x-python",
   "name": "python",
   "nbconvert_exporter": "python",
   "pygments_lexer": "ipython3",
   "version": "3.8.16"
  },
  "orig_nbformat": 4
 },
 "nbformat": 4,
 "nbformat_minor": 2
}
