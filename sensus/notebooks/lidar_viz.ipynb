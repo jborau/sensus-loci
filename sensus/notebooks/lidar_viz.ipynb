{
 "cells": [
  {
   "cell_type": "code",
   "execution_count": 3,
   "metadata": {},
   "outputs": [
    {
     "name": "stdout",
     "output_type": "stream",
     "text": [
      "The autoreload extension is already loaded. To reload it, use:\n",
      "  %reload_ext autoreload\n"
     ]
    }
   ],
   "source": [
    "%load_ext autoreload\n",
    "%autoreload 2\n",
    "import mmcv\n",
    "from mmdet3d.apis import inference_mono_3d_detector, init_model\n",
    "from mmdet3d.registry import VISUALIZERS\n",
    "from mmengine import load, dump\n",
    "from mmdet3d.registry import VISUALIZERS\n",
    "import cv2\n",
    "import numpy as np\n",
    "\n",
    "\n",
    "from mmdet3d.apis import inference_detector, init_model\n",
    "from mmdet3d.utils import register_all_modules\n",
    "\n",
    "from sensus.tools.new_visualizer import draw_lidar_labels, draw_lidar_results"
   ]
  },
  {
   "cell_type": "code",
   "execution_count": 4,
   "metadata": {},
   "outputs": [],
   "source": [
    "file = '002238'\n",
    "dataset = 'dair'\n",
    "if dataset == 'kitti':\n",
    "    lidar_file = '/home/javier/datasets/kitti/training/velodyne/' + file + '.bin'\n",
    "    labels_file = '/home/javier/datasets/kitti/training/label_2/'+ file + '.txt'\n",
    "    calib_file = '/home/javier/datasets/kitti/training/calib/'+ file + '.txt'\n",
    "    pitch = 0.0\n",
    "elif dataset == 'dair':\n",
    "    lidar_file = '/home/javier/datasets/DAIR/single-infrastructure-side-mmdet/training/velodyne/' + file + '.bin'\n",
    "    labels_file = '/home/javier/datasets/DAIR/single-infrastructure-side-mmdet/training/label_2/'+ file + '.txt'\n",
    "    calib_file = '/home/javier/datasets/DAIR/single-infrastructure-side-mmdet/training/calib/'+ file + '.txt'\n",
    "    pitch = 0.2031\n",
    "\n",
    "ann_file = '/home/javier/sensus-loci/sensus/notebooks/002238.pkl'\n",
    "cam_type = 'CAM_BACK'"
   ]
  },
  {
   "cell_type": "code",
   "execution_count": 4,
   "metadata": {},
   "outputs": [
    {
     "name": "stdout",
     "output_type": "stream",
     "text": [
      "[Open3D INFO] Window window_1 created.\n"
     ]
    },
    {
     "data": {
      "application/vnd.jupyter.widget-view+json": {
       "model_id": "98e095e64b164b84907b60f33d09a5c0",
       "version_major": 2,
       "version_minor": 0
      },
      "text/plain": [
       "WebVisualizer(window_uid='window_1')"
      ]
     },
     "metadata": {},
     "output_type": "display_data"
    }
   ],
   "source": [
    "data = draw_lidar_labels(lidar_file, calib_file, labels_file)"
   ]
  },
  {
   "cell_type": "code",
   "execution_count": 8,
   "metadata": {},
   "outputs": [
    {
     "name": "stdout",
     "output_type": "stream",
     "text": [
      "LidarBbox Type: Car, Location: [54.31270072 -4.67327514 -1.67634704], \n",
      " Dimensions: (4.311423, 2.09444, 1.795317), Rotation Y: [3.1393161427362717], Score: Not available)\n"
     ]
    }
   ],
   "source": [
    "print(data.lidar_bboxes[3])"
   ]
  },
  {
   "cell_type": "markdown",
   "metadata": {},
   "source": [
    "## Inference"
   ]
  },
  {
   "cell_type": "code",
   "execution_count": 7,
   "metadata": {},
   "outputs": [],
   "source": [
    "register_all_modules()\n",
    "\n",
    "## Build the model from a config file and a checkpoint file\n",
    "config = '/home/javier/sensus-loci/sensus/configs/centerpoint/centerpoint_voxel01_second_secfpn_8xb4-cyclic-20e_dair-3d.py'\n",
    "checkpoint = '/home/javier/sensus-loci/work_dirs/second_hv_secfpn_8xb6-80e_dair-3d-car-pretrained-kitty/epoch_40.pth'"
   ]
  },
  {
   "cell_type": "code",
   "execution_count": 8,
   "metadata": {},
   "outputs": [
    {
     "name": "stdout",
     "output_type": "stream",
     "text": [
      "Loads checkpoint by local backend from path: /home/javier/sensus-loci/work_dirs/second_hv_secfpn_8xb6-80e_dair-3d-car-pretrained-kitty/epoch_40.pth\n",
      "The model and loaded state dict do not match exactly\n",
      "\n",
      "unexpected key in source state_dict: backbone.blocks.0.0.weight, backbone.blocks.0.1.weight, backbone.blocks.0.1.bias, backbone.blocks.0.1.running_mean, backbone.blocks.0.1.running_var, backbone.blocks.0.1.num_batches_tracked, backbone.blocks.0.3.weight, backbone.blocks.0.4.weight, backbone.blocks.0.4.bias, backbone.blocks.0.4.running_mean, backbone.blocks.0.4.running_var, backbone.blocks.0.4.num_batches_tracked, backbone.blocks.0.6.weight, backbone.blocks.0.7.weight, backbone.blocks.0.7.bias, backbone.blocks.0.7.running_mean, backbone.blocks.0.7.running_var, backbone.blocks.0.7.num_batches_tracked, backbone.blocks.0.9.weight, backbone.blocks.0.10.weight, backbone.blocks.0.10.bias, backbone.blocks.0.10.running_mean, backbone.blocks.0.10.running_var, backbone.blocks.0.10.num_batches_tracked, backbone.blocks.0.12.weight, backbone.blocks.0.13.weight, backbone.blocks.0.13.bias, backbone.blocks.0.13.running_mean, backbone.blocks.0.13.running_var, backbone.blocks.0.13.num_batches_tracked, backbone.blocks.0.15.weight, backbone.blocks.0.16.weight, backbone.blocks.0.16.bias, backbone.blocks.0.16.running_mean, backbone.blocks.0.16.running_var, backbone.blocks.0.16.num_batches_tracked, backbone.blocks.1.0.weight, backbone.blocks.1.1.weight, backbone.blocks.1.1.bias, backbone.blocks.1.1.running_mean, backbone.blocks.1.1.running_var, backbone.blocks.1.1.num_batches_tracked, backbone.blocks.1.3.weight, backbone.blocks.1.4.weight, backbone.blocks.1.4.bias, backbone.blocks.1.4.running_mean, backbone.blocks.1.4.running_var, backbone.blocks.1.4.num_batches_tracked, backbone.blocks.1.6.weight, backbone.blocks.1.7.weight, backbone.blocks.1.7.bias, backbone.blocks.1.7.running_mean, backbone.blocks.1.7.running_var, backbone.blocks.1.7.num_batches_tracked, backbone.blocks.1.9.weight, backbone.blocks.1.10.weight, backbone.blocks.1.10.bias, backbone.blocks.1.10.running_mean, backbone.blocks.1.10.running_var, backbone.blocks.1.10.num_batches_tracked, backbone.blocks.1.12.weight, backbone.blocks.1.13.weight, backbone.blocks.1.13.bias, backbone.blocks.1.13.running_mean, backbone.blocks.1.13.running_var, backbone.blocks.1.13.num_batches_tracked, backbone.blocks.1.15.weight, backbone.blocks.1.16.weight, backbone.blocks.1.16.bias, backbone.blocks.1.16.running_mean, backbone.blocks.1.16.running_var, backbone.blocks.1.16.num_batches_tracked, neck.deblocks.0.0.weight, neck.deblocks.0.1.weight, neck.deblocks.0.1.bias, neck.deblocks.0.1.running_mean, neck.deblocks.0.1.running_var, neck.deblocks.0.1.num_batches_tracked, neck.deblocks.1.0.weight, neck.deblocks.1.1.weight, neck.deblocks.1.1.bias, neck.deblocks.1.1.running_mean, neck.deblocks.1.1.running_var, neck.deblocks.1.1.num_batches_tracked, bbox_head.conv_cls.weight, bbox_head.conv_cls.bias, bbox_head.conv_reg.weight, bbox_head.conv_reg.bias, bbox_head.conv_dir_cls.weight, bbox_head.conv_dir_cls.bias, middle_encoder.conv_input.0.weight, middle_encoder.conv_input.1.weight, middle_encoder.conv_input.1.bias, middle_encoder.conv_input.1.running_mean, middle_encoder.conv_input.1.running_var, middle_encoder.conv_input.1.num_batches_tracked, middle_encoder.encoder_layers.encoder_layer1.0.0.weight, middle_encoder.encoder_layers.encoder_layer1.0.1.weight, middle_encoder.encoder_layers.encoder_layer1.0.1.bias, middle_encoder.encoder_layers.encoder_layer1.0.1.running_mean, middle_encoder.encoder_layers.encoder_layer1.0.1.running_var, middle_encoder.encoder_layers.encoder_layer1.0.1.num_batches_tracked, middle_encoder.encoder_layers.encoder_layer2.0.0.weight, middle_encoder.encoder_layers.encoder_layer2.0.1.weight, middle_encoder.encoder_layers.encoder_layer2.0.1.bias, middle_encoder.encoder_layers.encoder_layer2.0.1.running_mean, middle_encoder.encoder_layers.encoder_layer2.0.1.running_var, middle_encoder.encoder_layers.encoder_layer2.0.1.num_batches_tracked, middle_encoder.encoder_layers.encoder_layer2.1.0.weight, middle_encoder.encoder_layers.encoder_layer2.1.1.weight, middle_encoder.encoder_layers.encoder_layer2.1.1.bias, middle_encoder.encoder_layers.encoder_layer2.1.1.running_mean, middle_encoder.encoder_layers.encoder_layer2.1.1.running_var, middle_encoder.encoder_layers.encoder_layer2.1.1.num_batches_tracked, middle_encoder.encoder_layers.encoder_layer2.2.0.weight, middle_encoder.encoder_layers.encoder_layer2.2.1.weight, middle_encoder.encoder_layers.encoder_layer2.2.1.bias, middle_encoder.encoder_layers.encoder_layer2.2.1.running_mean, middle_encoder.encoder_layers.encoder_layer2.2.1.running_var, middle_encoder.encoder_layers.encoder_layer2.2.1.num_batches_tracked, middle_encoder.encoder_layers.encoder_layer3.0.0.weight, middle_encoder.encoder_layers.encoder_layer3.0.1.weight, middle_encoder.encoder_layers.encoder_layer3.0.1.bias, middle_encoder.encoder_layers.encoder_layer3.0.1.running_mean, middle_encoder.encoder_layers.encoder_layer3.0.1.running_var, middle_encoder.encoder_layers.encoder_layer3.0.1.num_batches_tracked, middle_encoder.encoder_layers.encoder_layer3.1.0.weight, middle_encoder.encoder_layers.encoder_layer3.1.1.weight, middle_encoder.encoder_layers.encoder_layer3.1.1.bias, middle_encoder.encoder_layers.encoder_layer3.1.1.running_mean, middle_encoder.encoder_layers.encoder_layer3.1.1.running_var, middle_encoder.encoder_layers.encoder_layer3.1.1.num_batches_tracked, middle_encoder.encoder_layers.encoder_layer3.2.0.weight, middle_encoder.encoder_layers.encoder_layer3.2.1.weight, middle_encoder.encoder_layers.encoder_layer3.2.1.bias, middle_encoder.encoder_layers.encoder_layer3.2.1.running_mean, middle_encoder.encoder_layers.encoder_layer3.2.1.running_var, middle_encoder.encoder_layers.encoder_layer3.2.1.num_batches_tracked, middle_encoder.encoder_layers.encoder_layer4.0.0.weight, middle_encoder.encoder_layers.encoder_layer4.0.1.weight, middle_encoder.encoder_layers.encoder_layer4.0.1.bias, middle_encoder.encoder_layers.encoder_layer4.0.1.running_mean, middle_encoder.encoder_layers.encoder_layer4.0.1.running_var, middle_encoder.encoder_layers.encoder_layer4.0.1.num_batches_tracked, middle_encoder.encoder_layers.encoder_layer4.1.0.weight, middle_encoder.encoder_layers.encoder_layer4.1.1.weight, middle_encoder.encoder_layers.encoder_layer4.1.1.bias, middle_encoder.encoder_layers.encoder_layer4.1.1.running_mean, middle_encoder.encoder_layers.encoder_layer4.1.1.running_var, middle_encoder.encoder_layers.encoder_layer4.1.1.num_batches_tracked, middle_encoder.encoder_layers.encoder_layer4.2.0.weight, middle_encoder.encoder_layers.encoder_layer4.2.1.weight, middle_encoder.encoder_layers.encoder_layer4.2.1.bias, middle_encoder.encoder_layers.encoder_layer4.2.1.running_mean, middle_encoder.encoder_layers.encoder_layer4.2.1.running_var, middle_encoder.encoder_layers.encoder_layer4.2.1.num_batches_tracked, middle_encoder.conv_out.0.weight, middle_encoder.conv_out.1.weight, middle_encoder.conv_out.1.bias, middle_encoder.conv_out.1.running_mean, middle_encoder.conv_out.1.running_var, middle_encoder.conv_out.1.num_batches_tracked\n",
      "\n",
      "missing keys in source state_dict: pts_middle_encoder.conv_input.0.weight, pts_middle_encoder.conv_input.1.weight, pts_middle_encoder.conv_input.1.bias, pts_middle_encoder.conv_input.1.running_mean, pts_middle_encoder.conv_input.1.running_var, pts_middle_encoder.encoder_layers.encoder_layer1.0.conv1.weight, pts_middle_encoder.encoder_layers.encoder_layer1.0.bn1.weight, pts_middle_encoder.encoder_layers.encoder_layer1.0.bn1.bias, pts_middle_encoder.encoder_layers.encoder_layer1.0.bn1.running_mean, pts_middle_encoder.encoder_layers.encoder_layer1.0.bn1.running_var, pts_middle_encoder.encoder_layers.encoder_layer1.0.conv2.weight, pts_middle_encoder.encoder_layers.encoder_layer1.0.bn2.weight, pts_middle_encoder.encoder_layers.encoder_layer1.0.bn2.bias, pts_middle_encoder.encoder_layers.encoder_layer1.0.bn2.running_mean, pts_middle_encoder.encoder_layers.encoder_layer1.0.bn2.running_var, pts_middle_encoder.encoder_layers.encoder_layer1.1.conv1.weight, pts_middle_encoder.encoder_layers.encoder_layer1.1.bn1.weight, pts_middle_encoder.encoder_layers.encoder_layer1.1.bn1.bias, pts_middle_encoder.encoder_layers.encoder_layer1.1.bn1.running_mean, pts_middle_encoder.encoder_layers.encoder_layer1.1.bn1.running_var, pts_middle_encoder.encoder_layers.encoder_layer1.1.conv2.weight, pts_middle_encoder.encoder_layers.encoder_layer1.1.bn2.weight, pts_middle_encoder.encoder_layers.encoder_layer1.1.bn2.bias, pts_middle_encoder.encoder_layers.encoder_layer1.1.bn2.running_mean, pts_middle_encoder.encoder_layers.encoder_layer1.1.bn2.running_var, pts_middle_encoder.encoder_layers.encoder_layer1.2.0.weight, pts_middle_encoder.encoder_layers.encoder_layer1.2.1.weight, pts_middle_encoder.encoder_layers.encoder_layer1.2.1.bias, pts_middle_encoder.encoder_layers.encoder_layer1.2.1.running_mean, pts_middle_encoder.encoder_layers.encoder_layer1.2.1.running_var, pts_middle_encoder.encoder_layers.encoder_layer2.0.conv1.weight, pts_middle_encoder.encoder_layers.encoder_layer2.0.bn1.weight, pts_middle_encoder.encoder_layers.encoder_layer2.0.bn1.bias, pts_middle_encoder.encoder_layers.encoder_layer2.0.bn1.running_mean, pts_middle_encoder.encoder_layers.encoder_layer2.0.bn1.running_var, pts_middle_encoder.encoder_layers.encoder_layer2.0.conv2.weight, pts_middle_encoder.encoder_layers.encoder_layer2.0.bn2.weight, pts_middle_encoder.encoder_layers.encoder_layer2.0.bn2.bias, pts_middle_encoder.encoder_layers.encoder_layer2.0.bn2.running_mean, pts_middle_encoder.encoder_layers.encoder_layer2.0.bn2.running_var, pts_middle_encoder.encoder_layers.encoder_layer2.1.conv1.weight, pts_middle_encoder.encoder_layers.encoder_layer2.1.bn1.weight, pts_middle_encoder.encoder_layers.encoder_layer2.1.bn1.bias, pts_middle_encoder.encoder_layers.encoder_layer2.1.bn1.running_mean, pts_middle_encoder.encoder_layers.encoder_layer2.1.bn1.running_var, pts_middle_encoder.encoder_layers.encoder_layer2.1.conv2.weight, pts_middle_encoder.encoder_layers.encoder_layer2.1.bn2.weight, pts_middle_encoder.encoder_layers.encoder_layer2.1.bn2.bias, pts_middle_encoder.encoder_layers.encoder_layer2.1.bn2.running_mean, pts_middle_encoder.encoder_layers.encoder_layer2.1.bn2.running_var, pts_middle_encoder.encoder_layers.encoder_layer2.2.0.weight, pts_middle_encoder.encoder_layers.encoder_layer2.2.1.weight, pts_middle_encoder.encoder_layers.encoder_layer2.2.1.bias, pts_middle_encoder.encoder_layers.encoder_layer2.2.1.running_mean, pts_middle_encoder.encoder_layers.encoder_layer2.2.1.running_var, pts_middle_encoder.encoder_layers.encoder_layer3.0.conv1.weight, pts_middle_encoder.encoder_layers.encoder_layer3.0.bn1.weight, pts_middle_encoder.encoder_layers.encoder_layer3.0.bn1.bias, pts_middle_encoder.encoder_layers.encoder_layer3.0.bn1.running_mean, pts_middle_encoder.encoder_layers.encoder_layer3.0.bn1.running_var, pts_middle_encoder.encoder_layers.encoder_layer3.0.conv2.weight, pts_middle_encoder.encoder_layers.encoder_layer3.0.bn2.weight, pts_middle_encoder.encoder_layers.encoder_layer3.0.bn2.bias, pts_middle_encoder.encoder_layers.encoder_layer3.0.bn2.running_mean, pts_middle_encoder.encoder_layers.encoder_layer3.0.bn2.running_var, pts_middle_encoder.encoder_layers.encoder_layer3.1.conv1.weight, pts_middle_encoder.encoder_layers.encoder_layer3.1.bn1.weight, pts_middle_encoder.encoder_layers.encoder_layer3.1.bn1.bias, pts_middle_encoder.encoder_layers.encoder_layer3.1.bn1.running_mean, pts_middle_encoder.encoder_layers.encoder_layer3.1.bn1.running_var, pts_middle_encoder.encoder_layers.encoder_layer3.1.conv2.weight, pts_middle_encoder.encoder_layers.encoder_layer3.1.bn2.weight, pts_middle_encoder.encoder_layers.encoder_layer3.1.bn2.bias, pts_middle_encoder.encoder_layers.encoder_layer3.1.bn2.running_mean, pts_middle_encoder.encoder_layers.encoder_layer3.1.bn2.running_var, pts_middle_encoder.encoder_layers.encoder_layer3.2.0.weight, pts_middle_encoder.encoder_layers.encoder_layer3.2.1.weight, pts_middle_encoder.encoder_layers.encoder_layer3.2.1.bias, pts_middle_encoder.encoder_layers.encoder_layer3.2.1.running_mean, pts_middle_encoder.encoder_layers.encoder_layer3.2.1.running_var, pts_middle_encoder.encoder_layers.encoder_layer4.0.conv1.weight, pts_middle_encoder.encoder_layers.encoder_layer4.0.bn1.weight, pts_middle_encoder.encoder_layers.encoder_layer4.0.bn1.bias, pts_middle_encoder.encoder_layers.encoder_layer4.0.bn1.running_mean, pts_middle_encoder.encoder_layers.encoder_layer4.0.bn1.running_var, pts_middle_encoder.encoder_layers.encoder_layer4.0.conv2.weight, pts_middle_encoder.encoder_layers.encoder_layer4.0.bn2.weight, pts_middle_encoder.encoder_layers.encoder_layer4.0.bn2.bias, pts_middle_encoder.encoder_layers.encoder_layer4.0.bn2.running_mean, pts_middle_encoder.encoder_layers.encoder_layer4.0.bn2.running_var, pts_middle_encoder.encoder_layers.encoder_layer4.1.conv1.weight, pts_middle_encoder.encoder_layers.encoder_layer4.1.bn1.weight, pts_middle_encoder.encoder_layers.encoder_layer4.1.bn1.bias, pts_middle_encoder.encoder_layers.encoder_layer4.1.bn1.running_mean, pts_middle_encoder.encoder_layers.encoder_layer4.1.bn1.running_var, pts_middle_encoder.encoder_layers.encoder_layer4.1.conv2.weight, pts_middle_encoder.encoder_layers.encoder_layer4.1.bn2.weight, pts_middle_encoder.encoder_layers.encoder_layer4.1.bn2.bias, pts_middle_encoder.encoder_layers.encoder_layer4.1.bn2.running_mean, pts_middle_encoder.encoder_layers.encoder_layer4.1.bn2.running_var, pts_middle_encoder.conv_out.0.weight, pts_middle_encoder.conv_out.1.weight, pts_middle_encoder.conv_out.1.bias, pts_middle_encoder.conv_out.1.running_mean, pts_middle_encoder.conv_out.1.running_var, pts_backbone.blocks.0.0.weight, pts_backbone.blocks.0.1.weight, pts_backbone.blocks.0.1.bias, pts_backbone.blocks.0.1.running_mean, pts_backbone.blocks.0.1.running_var, pts_backbone.blocks.0.3.weight, pts_backbone.blocks.0.4.weight, pts_backbone.blocks.0.4.bias, pts_backbone.blocks.0.4.running_mean, pts_backbone.blocks.0.4.running_var, pts_backbone.blocks.0.6.weight, pts_backbone.blocks.0.7.weight, pts_backbone.blocks.0.7.bias, pts_backbone.blocks.0.7.running_mean, pts_backbone.blocks.0.7.running_var, pts_backbone.blocks.0.9.weight, pts_backbone.blocks.0.10.weight, pts_backbone.blocks.0.10.bias, pts_backbone.blocks.0.10.running_mean, pts_backbone.blocks.0.10.running_var, pts_backbone.blocks.0.12.weight, pts_backbone.blocks.0.13.weight, pts_backbone.blocks.0.13.bias, pts_backbone.blocks.0.13.running_mean, pts_backbone.blocks.0.13.running_var, pts_backbone.blocks.0.15.weight, pts_backbone.blocks.0.16.weight, pts_backbone.blocks.0.16.bias, pts_backbone.blocks.0.16.running_mean, pts_backbone.blocks.0.16.running_var, pts_backbone.blocks.1.0.weight, pts_backbone.blocks.1.1.weight, pts_backbone.blocks.1.1.bias, pts_backbone.blocks.1.1.running_mean, pts_backbone.blocks.1.1.running_var, pts_backbone.blocks.1.3.weight, pts_backbone.blocks.1.4.weight, pts_backbone.blocks.1.4.bias, pts_backbone.blocks.1.4.running_mean, pts_backbone.blocks.1.4.running_var, pts_backbone.blocks.1.6.weight, pts_backbone.blocks.1.7.weight, pts_backbone.blocks.1.7.bias, pts_backbone.blocks.1.7.running_mean, pts_backbone.blocks.1.7.running_var, pts_backbone.blocks.1.9.weight, pts_backbone.blocks.1.10.weight, pts_backbone.blocks.1.10.bias, pts_backbone.blocks.1.10.running_mean, pts_backbone.blocks.1.10.running_var, pts_backbone.blocks.1.12.weight, pts_backbone.blocks.1.13.weight, pts_backbone.blocks.1.13.bias, pts_backbone.blocks.1.13.running_mean, pts_backbone.blocks.1.13.running_var, pts_backbone.blocks.1.15.weight, pts_backbone.blocks.1.16.weight, pts_backbone.blocks.1.16.bias, pts_backbone.blocks.1.16.running_mean, pts_backbone.blocks.1.16.running_var, pts_neck.deblocks.0.0.weight, pts_neck.deblocks.0.1.weight, pts_neck.deblocks.0.1.bias, pts_neck.deblocks.0.1.running_mean, pts_neck.deblocks.0.1.running_var, pts_neck.deblocks.1.0.weight, pts_neck.deblocks.1.1.weight, pts_neck.deblocks.1.1.bias, pts_neck.deblocks.1.1.running_mean, pts_neck.deblocks.1.1.running_var, pts_bbox_head.shared_conv.conv.weight, pts_bbox_head.shared_conv.bn.weight, pts_bbox_head.shared_conv.bn.bias, pts_bbox_head.shared_conv.bn.running_mean, pts_bbox_head.shared_conv.bn.running_var, pts_bbox_head.task_heads.0.reg.0.conv.weight, pts_bbox_head.task_heads.0.reg.0.bn.weight, pts_bbox_head.task_heads.0.reg.0.bn.bias, pts_bbox_head.task_heads.0.reg.0.bn.running_mean, pts_bbox_head.task_heads.0.reg.0.bn.running_var, pts_bbox_head.task_heads.0.reg.1.weight, pts_bbox_head.task_heads.0.reg.1.bias, pts_bbox_head.task_heads.0.height.0.conv.weight, pts_bbox_head.task_heads.0.height.0.bn.weight, pts_bbox_head.task_heads.0.height.0.bn.bias, pts_bbox_head.task_heads.0.height.0.bn.running_mean, pts_bbox_head.task_heads.0.height.0.bn.running_var, pts_bbox_head.task_heads.0.height.1.weight, pts_bbox_head.task_heads.0.height.1.bias, pts_bbox_head.task_heads.0.dim.0.conv.weight, pts_bbox_head.task_heads.0.dim.0.bn.weight, pts_bbox_head.task_heads.0.dim.0.bn.bias, pts_bbox_head.task_heads.0.dim.0.bn.running_mean, pts_bbox_head.task_heads.0.dim.0.bn.running_var, pts_bbox_head.task_heads.0.dim.1.weight, pts_bbox_head.task_heads.0.dim.1.bias, pts_bbox_head.task_heads.0.rot.0.conv.weight, pts_bbox_head.task_heads.0.rot.0.bn.weight, pts_bbox_head.task_heads.0.rot.0.bn.bias, pts_bbox_head.task_heads.0.rot.0.bn.running_mean, pts_bbox_head.task_heads.0.rot.0.bn.running_var, pts_bbox_head.task_heads.0.rot.1.weight, pts_bbox_head.task_heads.0.rot.1.bias, pts_bbox_head.task_heads.0.vel.0.conv.weight, pts_bbox_head.task_heads.0.vel.0.bn.weight, pts_bbox_head.task_heads.0.vel.0.bn.bias, pts_bbox_head.task_heads.0.vel.0.bn.running_mean, pts_bbox_head.task_heads.0.vel.0.bn.running_var, pts_bbox_head.task_heads.0.vel.1.weight, pts_bbox_head.task_heads.0.vel.1.bias, pts_bbox_head.task_heads.0.heatmap.0.conv.weight, pts_bbox_head.task_heads.0.heatmap.0.bn.weight, pts_bbox_head.task_heads.0.heatmap.0.bn.bias, pts_bbox_head.task_heads.0.heatmap.0.bn.running_mean, pts_bbox_head.task_heads.0.heatmap.0.bn.running_var, pts_bbox_head.task_heads.0.heatmap.1.weight, pts_bbox_head.task_heads.0.heatmap.1.bias\n",
      "\n"
     ]
    },
    {
     "name": "stderr",
     "output_type": "stream",
     "text": [
      "/home/javier/sensus-loci/mmdetection3d/mmdet3d/apis/inference.py:109: UserWarning: Don't suggest using CPU device. Some functions are not supported for now.\n",
      "  warnings.warn('Don\\'t suggest using CPU device. '\n"
     ]
    },
    {
     "ename": "RuntimeError",
     "evalue": "get_indice_pairs is not implemented on CPU",
     "output_type": "error",
     "traceback": [
      "\u001b[0;31m---------------------------------------------------------------------------\u001b[0m",
      "\u001b[0;31mRuntimeError\u001b[0m                              Traceback (most recent call last)",
      "Cell \u001b[0;32mIn[8], line 2\u001b[0m\n\u001b[1;32m      1\u001b[0m model \u001b[38;5;241m=\u001b[39m init_model(config, checkpoint, device\u001b[38;5;241m=\u001b[39m\u001b[38;5;124m'\u001b[39m\u001b[38;5;124mcpu\u001b[39m\u001b[38;5;124m'\u001b[39m)\n\u001b[0;32m----> 2\u001b[0m result, data \u001b[38;5;241m=\u001b[39m \u001b[43minference_detector\u001b[49m\u001b[43m(\u001b[49m\u001b[43mmodel\u001b[49m\u001b[43m,\u001b[49m\u001b[43m \u001b[49m\u001b[43mlidar_file\u001b[49m\u001b[43m)\u001b[49m\n",
      "File \u001b[0;32m~/sensus-loci/mmdetection3d/mmdet3d/apis/inference.py:182\u001b[0m, in \u001b[0;36minference_detector\u001b[0;34m(model, pcds)\u001b[0m\n\u001b[1;32m    180\u001b[0m \u001b[38;5;66;03m# forward the model\u001b[39;00m\n\u001b[1;32m    181\u001b[0m \u001b[38;5;28;01mwith\u001b[39;00m torch\u001b[38;5;241m.\u001b[39mno_grad():\n\u001b[0;32m--> 182\u001b[0m     results \u001b[38;5;241m=\u001b[39m \u001b[43mmodel\u001b[49m\u001b[38;5;241;43m.\u001b[39;49m\u001b[43mtest_step\u001b[49m\u001b[43m(\u001b[49m\u001b[43mcollate_data\u001b[49m\u001b[43m)\u001b[49m\n\u001b[1;32m    184\u001b[0m \u001b[38;5;28;01mif\u001b[39;00m \u001b[38;5;129;01mnot\u001b[39;00m is_batch:\n\u001b[1;32m    185\u001b[0m     \u001b[38;5;28;01mreturn\u001b[39;00m results[\u001b[38;5;241m0\u001b[39m], data[\u001b[38;5;241m0\u001b[39m]\n",
      "File \u001b[0;32m~/miniconda3/envs/openmmlab/lib/python3.8/site-packages/mmengine/model/base_model/base_model.py:145\u001b[0m, in \u001b[0;36mBaseModel.test_step\u001b[0;34m(self, data)\u001b[0m\n\u001b[1;32m    136\u001b[0m \u001b[38;5;250m\u001b[39m\u001b[38;5;124;03m\"\"\"``BaseModel`` implements ``test_step`` the same as ``val_step``.\u001b[39;00m\n\u001b[1;32m    137\u001b[0m \n\u001b[1;32m    138\u001b[0m \u001b[38;5;124;03mArgs:\u001b[39;00m\n\u001b[0;32m   (...)\u001b[0m\n\u001b[1;32m    142\u001b[0m \u001b[38;5;124;03m    list: The predictions of given data.\u001b[39;00m\n\u001b[1;32m    143\u001b[0m \u001b[38;5;124;03m\"\"\"\u001b[39;00m\n\u001b[1;32m    144\u001b[0m data \u001b[38;5;241m=\u001b[39m \u001b[38;5;28mself\u001b[39m\u001b[38;5;241m.\u001b[39mdata_preprocessor(data, \u001b[38;5;28;01mFalse\u001b[39;00m)\n\u001b[0;32m--> 145\u001b[0m \u001b[38;5;28;01mreturn\u001b[39;00m \u001b[38;5;28;43mself\u001b[39;49m\u001b[38;5;241;43m.\u001b[39;49m\u001b[43m_run_forward\u001b[49m\u001b[43m(\u001b[49m\u001b[43mdata\u001b[49m\u001b[43m,\u001b[49m\u001b[43m \u001b[49m\u001b[43mmode\u001b[49m\u001b[38;5;241;43m=\u001b[39;49m\u001b[38;5;124;43m'\u001b[39;49m\u001b[38;5;124;43mpredict\u001b[39;49m\u001b[38;5;124;43m'\u001b[39;49m\u001b[43m)\u001b[49m\n",
      "File \u001b[0;32m~/miniconda3/envs/openmmlab/lib/python3.8/site-packages/mmengine/model/base_model/base_model.py:340\u001b[0m, in \u001b[0;36mBaseModel._run_forward\u001b[0;34m(self, data, mode)\u001b[0m\n\u001b[1;32m    330\u001b[0m \u001b[38;5;250m\u001b[39m\u001b[38;5;124;03m\"\"\"Unpacks data for :meth:`forward`\u001b[39;00m\n\u001b[1;32m    331\u001b[0m \n\u001b[1;32m    332\u001b[0m \u001b[38;5;124;03mArgs:\u001b[39;00m\n\u001b[0;32m   (...)\u001b[0m\n\u001b[1;32m    337\u001b[0m \u001b[38;5;124;03m    dict or list: Results of training or testing mode.\u001b[39;00m\n\u001b[1;32m    338\u001b[0m \u001b[38;5;124;03m\"\"\"\u001b[39;00m\n\u001b[1;32m    339\u001b[0m \u001b[38;5;28;01mif\u001b[39;00m \u001b[38;5;28misinstance\u001b[39m(data, \u001b[38;5;28mdict\u001b[39m):\n\u001b[0;32m--> 340\u001b[0m     results \u001b[38;5;241m=\u001b[39m \u001b[38;5;28;43mself\u001b[39;49m\u001b[43m(\u001b[49m\u001b[38;5;241;43m*\u001b[39;49m\u001b[38;5;241;43m*\u001b[39;49m\u001b[43mdata\u001b[49m\u001b[43m,\u001b[49m\u001b[43m \u001b[49m\u001b[43mmode\u001b[49m\u001b[38;5;241;43m=\u001b[39;49m\u001b[43mmode\u001b[49m\u001b[43m)\u001b[49m\n\u001b[1;32m    341\u001b[0m \u001b[38;5;28;01melif\u001b[39;00m \u001b[38;5;28misinstance\u001b[39m(data, (\u001b[38;5;28mlist\u001b[39m, \u001b[38;5;28mtuple\u001b[39m)):\n\u001b[1;32m    342\u001b[0m     results \u001b[38;5;241m=\u001b[39m \u001b[38;5;28mself\u001b[39m(\u001b[38;5;241m*\u001b[39mdata, mode\u001b[38;5;241m=\u001b[39mmode)\n",
      "File \u001b[0;32m~/miniconda3/envs/openmmlab/lib/python3.8/site-packages/torch/nn/modules/module.py:1194\u001b[0m, in \u001b[0;36mModule._call_impl\u001b[0;34m(self, *input, **kwargs)\u001b[0m\n\u001b[1;32m   1190\u001b[0m \u001b[38;5;66;03m# If we don't have any hooks, we want to skip the rest of the logic in\u001b[39;00m\n\u001b[1;32m   1191\u001b[0m \u001b[38;5;66;03m# this function, and just call forward.\u001b[39;00m\n\u001b[1;32m   1192\u001b[0m \u001b[38;5;28;01mif\u001b[39;00m \u001b[38;5;129;01mnot\u001b[39;00m (\u001b[38;5;28mself\u001b[39m\u001b[38;5;241m.\u001b[39m_backward_hooks \u001b[38;5;129;01mor\u001b[39;00m \u001b[38;5;28mself\u001b[39m\u001b[38;5;241m.\u001b[39m_forward_hooks \u001b[38;5;129;01mor\u001b[39;00m \u001b[38;5;28mself\u001b[39m\u001b[38;5;241m.\u001b[39m_forward_pre_hooks \u001b[38;5;129;01mor\u001b[39;00m _global_backward_hooks\n\u001b[1;32m   1193\u001b[0m         \u001b[38;5;129;01mor\u001b[39;00m _global_forward_hooks \u001b[38;5;129;01mor\u001b[39;00m _global_forward_pre_hooks):\n\u001b[0;32m-> 1194\u001b[0m     \u001b[38;5;28;01mreturn\u001b[39;00m \u001b[43mforward_call\u001b[49m\u001b[43m(\u001b[49m\u001b[38;5;241;43m*\u001b[39;49m\u001b[38;5;28;43minput\u001b[39;49m\u001b[43m,\u001b[49m\u001b[43m \u001b[49m\u001b[38;5;241;43m*\u001b[39;49m\u001b[38;5;241;43m*\u001b[39;49m\u001b[43mkwargs\u001b[49m\u001b[43m)\u001b[49m\n\u001b[1;32m   1195\u001b[0m \u001b[38;5;66;03m# Do not call functions when jit is used\u001b[39;00m\n\u001b[1;32m   1196\u001b[0m full_backward_hooks, non_full_backward_hooks \u001b[38;5;241m=\u001b[39m [], []\n",
      "File \u001b[0;32m~/sensus-loci/mmdetection3d/mmdet3d/models/detectors/base.py:86\u001b[0m, in \u001b[0;36mBase3DDetector.forward\u001b[0;34m(self, inputs, data_samples, mode, **kwargs)\u001b[0m\n\u001b[1;32m     84\u001b[0m         \u001b[38;5;28;01mreturn\u001b[39;00m \u001b[38;5;28mself\u001b[39m\u001b[38;5;241m.\u001b[39maug_test(inputs, data_samples, \u001b[38;5;241m*\u001b[39m\u001b[38;5;241m*\u001b[39mkwargs)\n\u001b[1;32m     85\u001b[0m     \u001b[38;5;28;01melse\u001b[39;00m:\n\u001b[0;32m---> 86\u001b[0m         \u001b[38;5;28;01mreturn\u001b[39;00m \u001b[38;5;28;43mself\u001b[39;49m\u001b[38;5;241;43m.\u001b[39;49m\u001b[43mpredict\u001b[49m\u001b[43m(\u001b[49m\u001b[43minputs\u001b[49m\u001b[43m,\u001b[49m\u001b[43m \u001b[49m\u001b[43mdata_samples\u001b[49m\u001b[43m,\u001b[49m\u001b[43m \u001b[49m\u001b[38;5;241;43m*\u001b[39;49m\u001b[38;5;241;43m*\u001b[39;49m\u001b[43mkwargs\u001b[49m\u001b[43m)\u001b[49m\n\u001b[1;32m     87\u001b[0m \u001b[38;5;28;01melif\u001b[39;00m mode \u001b[38;5;241m==\u001b[39m \u001b[38;5;124m'\u001b[39m\u001b[38;5;124mtensor\u001b[39m\u001b[38;5;124m'\u001b[39m:\n\u001b[1;32m     88\u001b[0m     \u001b[38;5;28;01mreturn\u001b[39;00m \u001b[38;5;28mself\u001b[39m\u001b[38;5;241m.\u001b[39m_forward(inputs, data_samples, \u001b[38;5;241m*\u001b[39m\u001b[38;5;241m*\u001b[39mkwargs)\n",
      "File \u001b[0;32m~/sensus-loci/mmdetection3d/mmdet3d/models/detectors/mvx_two_stage.py:389\u001b[0m, in \u001b[0;36mMVXTwoStageDetector.predict\u001b[0;34m(self, batch_inputs_dict, batch_data_samples, **kwargs)\u001b[0m\n\u001b[1;32m    364\u001b[0m \u001b[38;5;250m\u001b[39m\u001b[38;5;124;03m\"\"\"Forward of testing.\u001b[39;00m\n\u001b[1;32m    365\u001b[0m \n\u001b[1;32m    366\u001b[0m \u001b[38;5;124;03mArgs:\u001b[39;00m\n\u001b[0;32m   (...)\u001b[0m\n\u001b[1;32m    386\u001b[0m \u001b[38;5;124;03m        contains a tensor with shape (num_instances, 7).\u001b[39;00m\n\u001b[1;32m    387\u001b[0m \u001b[38;5;124;03m\"\"\"\u001b[39;00m\n\u001b[1;32m    388\u001b[0m batch_input_metas \u001b[38;5;241m=\u001b[39m [item\u001b[38;5;241m.\u001b[39mmetainfo \u001b[38;5;28;01mfor\u001b[39;00m item \u001b[38;5;129;01min\u001b[39;00m batch_data_samples]\n\u001b[0;32m--> 389\u001b[0m img_feats, pts_feats \u001b[38;5;241m=\u001b[39m \u001b[38;5;28;43mself\u001b[39;49m\u001b[38;5;241;43m.\u001b[39;49m\u001b[43mextract_feat\u001b[49m\u001b[43m(\u001b[49m\u001b[43mbatch_inputs_dict\u001b[49m\u001b[43m,\u001b[49m\n\u001b[1;32m    390\u001b[0m \u001b[43m                                         \u001b[49m\u001b[43mbatch_input_metas\u001b[49m\u001b[43m)\u001b[49m\n\u001b[1;32m    391\u001b[0m \u001b[38;5;28;01mif\u001b[39;00m pts_feats \u001b[38;5;129;01mand\u001b[39;00m \u001b[38;5;28mself\u001b[39m\u001b[38;5;241m.\u001b[39mwith_pts_bbox:\n\u001b[1;32m    392\u001b[0m     results_list_3d \u001b[38;5;241m=\u001b[39m \u001b[38;5;28mself\u001b[39m\u001b[38;5;241m.\u001b[39mpts_bbox_head\u001b[38;5;241m.\u001b[39mpredict(\n\u001b[1;32m    393\u001b[0m         pts_feats, batch_data_samples, \u001b[38;5;241m*\u001b[39m\u001b[38;5;241m*\u001b[39mkwargs)\n",
      "File \u001b[0;32m~/sensus-loci/mmdetection3d/mmdet3d/models/detectors/mvx_two_stage.py:242\u001b[0m, in \u001b[0;36mMVXTwoStageDetector.extract_feat\u001b[0;34m(self, batch_inputs_dict, batch_input_metas)\u001b[0m\n\u001b[1;32m    240\u001b[0m points \u001b[38;5;241m=\u001b[39m batch_inputs_dict\u001b[38;5;241m.\u001b[39mget(\u001b[38;5;124m'\u001b[39m\u001b[38;5;124mpoints\u001b[39m\u001b[38;5;124m'\u001b[39m, \u001b[38;5;28;01mNone\u001b[39;00m)\n\u001b[1;32m    241\u001b[0m img_feats \u001b[38;5;241m=\u001b[39m \u001b[38;5;28mself\u001b[39m\u001b[38;5;241m.\u001b[39mextract_img_feat(imgs, batch_input_metas)\n\u001b[0;32m--> 242\u001b[0m pts_feats \u001b[38;5;241m=\u001b[39m \u001b[38;5;28;43mself\u001b[39;49m\u001b[38;5;241;43m.\u001b[39;49m\u001b[43mextract_pts_feat\u001b[49m\u001b[43m(\u001b[49m\n\u001b[1;32m    243\u001b[0m \u001b[43m    \u001b[49m\u001b[43mvoxel_dict\u001b[49m\u001b[43m,\u001b[49m\n\u001b[1;32m    244\u001b[0m \u001b[43m    \u001b[49m\u001b[43mpoints\u001b[49m\u001b[38;5;241;43m=\u001b[39;49m\u001b[43mpoints\u001b[49m\u001b[43m,\u001b[49m\n\u001b[1;32m    245\u001b[0m \u001b[43m    \u001b[49m\u001b[43mimg_feats\u001b[49m\u001b[38;5;241;43m=\u001b[39;49m\u001b[43mimg_feats\u001b[49m\u001b[43m,\u001b[49m\n\u001b[1;32m    246\u001b[0m \u001b[43m    \u001b[49m\u001b[43mbatch_input_metas\u001b[49m\u001b[38;5;241;43m=\u001b[39;49m\u001b[43mbatch_input_metas\u001b[49m\u001b[43m)\u001b[49m\n\u001b[1;32m    247\u001b[0m \u001b[38;5;28;01mreturn\u001b[39;00m (img_feats, pts_feats)\n",
      "File \u001b[0;32m~/sensus-loci/mmdetection3d/mmdet3d/models/detectors/mvx_two_stage.py:214\u001b[0m, in \u001b[0;36mMVXTwoStageDetector.extract_pts_feat\u001b[0;34m(self, voxel_dict, points, img_feats, batch_input_metas)\u001b[0m\n\u001b[1;32m    209\u001b[0m voxel_features \u001b[38;5;241m=\u001b[39m \u001b[38;5;28mself\u001b[39m\u001b[38;5;241m.\u001b[39mpts_voxel_encoder(voxel_dict[\u001b[38;5;124m'\u001b[39m\u001b[38;5;124mvoxels\u001b[39m\u001b[38;5;124m'\u001b[39m],\n\u001b[1;32m    210\u001b[0m                                         voxel_dict[\u001b[38;5;124m'\u001b[39m\u001b[38;5;124mnum_points\u001b[39m\u001b[38;5;124m'\u001b[39m],\n\u001b[1;32m    211\u001b[0m                                         voxel_dict[\u001b[38;5;124m'\u001b[39m\u001b[38;5;124mcoors\u001b[39m\u001b[38;5;124m'\u001b[39m], img_feats,\n\u001b[1;32m    212\u001b[0m                                         batch_input_metas)\n\u001b[1;32m    213\u001b[0m batch_size \u001b[38;5;241m=\u001b[39m voxel_dict[\u001b[38;5;124m'\u001b[39m\u001b[38;5;124mcoors\u001b[39m\u001b[38;5;124m'\u001b[39m][\u001b[38;5;241m-\u001b[39m\u001b[38;5;241m1\u001b[39m, \u001b[38;5;241m0\u001b[39m] \u001b[38;5;241m+\u001b[39m \u001b[38;5;241m1\u001b[39m\n\u001b[0;32m--> 214\u001b[0m x \u001b[38;5;241m=\u001b[39m \u001b[38;5;28;43mself\u001b[39;49m\u001b[38;5;241;43m.\u001b[39;49m\u001b[43mpts_middle_encoder\u001b[49m\u001b[43m(\u001b[49m\u001b[43mvoxel_features\u001b[49m\u001b[43m,\u001b[49m\u001b[43m \u001b[49m\u001b[43mvoxel_dict\u001b[49m\u001b[43m[\u001b[49m\u001b[38;5;124;43m'\u001b[39;49m\u001b[38;5;124;43mcoors\u001b[39;49m\u001b[38;5;124;43m'\u001b[39;49m\u001b[43m]\u001b[49m\u001b[43m,\u001b[49m\n\u001b[1;32m    215\u001b[0m \u001b[43m                            \u001b[49m\u001b[43mbatch_size\u001b[49m\u001b[43m)\u001b[49m\n\u001b[1;32m    216\u001b[0m x \u001b[38;5;241m=\u001b[39m \u001b[38;5;28mself\u001b[39m\u001b[38;5;241m.\u001b[39mpts_backbone(x)\n\u001b[1;32m    217\u001b[0m \u001b[38;5;28;01mif\u001b[39;00m \u001b[38;5;28mself\u001b[39m\u001b[38;5;241m.\u001b[39mwith_pts_neck:\n",
      "File \u001b[0;32m~/miniconda3/envs/openmmlab/lib/python3.8/site-packages/torch/nn/modules/module.py:1194\u001b[0m, in \u001b[0;36mModule._call_impl\u001b[0;34m(self, *input, **kwargs)\u001b[0m\n\u001b[1;32m   1190\u001b[0m \u001b[38;5;66;03m# If we don't have any hooks, we want to skip the rest of the logic in\u001b[39;00m\n\u001b[1;32m   1191\u001b[0m \u001b[38;5;66;03m# this function, and just call forward.\u001b[39;00m\n\u001b[1;32m   1192\u001b[0m \u001b[38;5;28;01mif\u001b[39;00m \u001b[38;5;129;01mnot\u001b[39;00m (\u001b[38;5;28mself\u001b[39m\u001b[38;5;241m.\u001b[39m_backward_hooks \u001b[38;5;129;01mor\u001b[39;00m \u001b[38;5;28mself\u001b[39m\u001b[38;5;241m.\u001b[39m_forward_hooks \u001b[38;5;129;01mor\u001b[39;00m \u001b[38;5;28mself\u001b[39m\u001b[38;5;241m.\u001b[39m_forward_pre_hooks \u001b[38;5;129;01mor\u001b[39;00m _global_backward_hooks\n\u001b[1;32m   1193\u001b[0m         \u001b[38;5;129;01mor\u001b[39;00m _global_forward_hooks \u001b[38;5;129;01mor\u001b[39;00m _global_forward_pre_hooks):\n\u001b[0;32m-> 1194\u001b[0m     \u001b[38;5;28;01mreturn\u001b[39;00m \u001b[43mforward_call\u001b[49m\u001b[43m(\u001b[49m\u001b[38;5;241;43m*\u001b[39;49m\u001b[38;5;28;43minput\u001b[39;49m\u001b[43m,\u001b[49m\u001b[43m \u001b[49m\u001b[38;5;241;43m*\u001b[39;49m\u001b[38;5;241;43m*\u001b[39;49m\u001b[43mkwargs\u001b[49m\u001b[43m)\u001b[49m\n\u001b[1;32m   1195\u001b[0m \u001b[38;5;66;03m# Do not call functions when jit is used\u001b[39;00m\n\u001b[1;32m   1196\u001b[0m full_backward_hooks, non_full_backward_hooks \u001b[38;5;241m=\u001b[39m [], []\n",
      "File \u001b[0;32m~/miniconda3/envs/openmmlab/lib/python3.8/contextlib.py:75\u001b[0m, in \u001b[0;36mContextDecorator.__call__.<locals>.inner\u001b[0;34m(*args, **kwds)\u001b[0m\n\u001b[1;32m     72\u001b[0m \u001b[38;5;129m@wraps\u001b[39m(func)\n\u001b[1;32m     73\u001b[0m \u001b[38;5;28;01mdef\u001b[39;00m \u001b[38;5;21minner\u001b[39m(\u001b[38;5;241m*\u001b[39margs, \u001b[38;5;241m*\u001b[39m\u001b[38;5;241m*\u001b[39mkwds):\n\u001b[1;32m     74\u001b[0m     \u001b[38;5;28;01mwith\u001b[39;00m \u001b[38;5;28mself\u001b[39m\u001b[38;5;241m.\u001b[39m_recreate_cm():\n\u001b[0;32m---> 75\u001b[0m         \u001b[38;5;28;01mreturn\u001b[39;00m \u001b[43mfunc\u001b[49m\u001b[43m(\u001b[49m\u001b[38;5;241;43m*\u001b[39;49m\u001b[43margs\u001b[49m\u001b[43m,\u001b[49m\u001b[43m \u001b[49m\u001b[38;5;241;43m*\u001b[39;49m\u001b[38;5;241;43m*\u001b[39;49m\u001b[43mkwds\u001b[49m\u001b[43m)\u001b[49m\n",
      "File \u001b[0;32m~/sensus-loci/mmdetection3d/mmdet3d/models/middle_encoders/sparse_encoder.py:145\u001b[0m, in \u001b[0;36mSparseEncoder.forward\u001b[0;34m(self, voxel_features, coors, batch_size)\u001b[0m\n\u001b[1;32m    142\u001b[0m coors \u001b[38;5;241m=\u001b[39m coors\u001b[38;5;241m.\u001b[39mint()\n\u001b[1;32m    143\u001b[0m input_sp_tensor \u001b[38;5;241m=\u001b[39m SparseConvTensor(voxel_features, coors,\n\u001b[1;32m    144\u001b[0m                                    \u001b[38;5;28mself\u001b[39m\u001b[38;5;241m.\u001b[39msparse_shape, batch_size)\n\u001b[0;32m--> 145\u001b[0m x \u001b[38;5;241m=\u001b[39m \u001b[38;5;28;43mself\u001b[39;49m\u001b[38;5;241;43m.\u001b[39;49m\u001b[43mconv_input\u001b[49m\u001b[43m(\u001b[49m\u001b[43minput_sp_tensor\u001b[49m\u001b[43m)\u001b[49m\n\u001b[1;32m    147\u001b[0m encode_features \u001b[38;5;241m=\u001b[39m []\n\u001b[1;32m    148\u001b[0m \u001b[38;5;28;01mfor\u001b[39;00m encoder_layer \u001b[38;5;129;01min\u001b[39;00m \u001b[38;5;28mself\u001b[39m\u001b[38;5;241m.\u001b[39mencoder_layers:\n",
      "File \u001b[0;32m~/miniconda3/envs/openmmlab/lib/python3.8/site-packages/torch/nn/modules/module.py:1194\u001b[0m, in \u001b[0;36mModule._call_impl\u001b[0;34m(self, *input, **kwargs)\u001b[0m\n\u001b[1;32m   1190\u001b[0m \u001b[38;5;66;03m# If we don't have any hooks, we want to skip the rest of the logic in\u001b[39;00m\n\u001b[1;32m   1191\u001b[0m \u001b[38;5;66;03m# this function, and just call forward.\u001b[39;00m\n\u001b[1;32m   1192\u001b[0m \u001b[38;5;28;01mif\u001b[39;00m \u001b[38;5;129;01mnot\u001b[39;00m (\u001b[38;5;28mself\u001b[39m\u001b[38;5;241m.\u001b[39m_backward_hooks \u001b[38;5;129;01mor\u001b[39;00m \u001b[38;5;28mself\u001b[39m\u001b[38;5;241m.\u001b[39m_forward_hooks \u001b[38;5;129;01mor\u001b[39;00m \u001b[38;5;28mself\u001b[39m\u001b[38;5;241m.\u001b[39m_forward_pre_hooks \u001b[38;5;129;01mor\u001b[39;00m _global_backward_hooks\n\u001b[1;32m   1193\u001b[0m         \u001b[38;5;129;01mor\u001b[39;00m _global_forward_hooks \u001b[38;5;129;01mor\u001b[39;00m _global_forward_pre_hooks):\n\u001b[0;32m-> 1194\u001b[0m     \u001b[38;5;28;01mreturn\u001b[39;00m \u001b[43mforward_call\u001b[49m\u001b[43m(\u001b[49m\u001b[38;5;241;43m*\u001b[39;49m\u001b[38;5;28;43minput\u001b[39;49m\u001b[43m,\u001b[49m\u001b[43m \u001b[49m\u001b[38;5;241;43m*\u001b[39;49m\u001b[38;5;241;43m*\u001b[39;49m\u001b[43mkwargs\u001b[49m\u001b[43m)\u001b[49m\n\u001b[1;32m   1195\u001b[0m \u001b[38;5;66;03m# Do not call functions when jit is used\u001b[39;00m\n\u001b[1;32m   1196\u001b[0m full_backward_hooks, non_full_backward_hooks \u001b[38;5;241m=\u001b[39m [], []\n",
      "File \u001b[0;32m~/miniconda3/envs/openmmlab/lib/python3.8/site-packages/mmcv/ops/sparse_modules.py:135\u001b[0m, in \u001b[0;36mSparseSequential.forward\u001b[0;34m(self, input)\u001b[0m\n\u001b[1;32m    133\u001b[0m     \u001b[38;5;28;01massert\u001b[39;00m \u001b[38;5;28misinstance\u001b[39m(\u001b[38;5;28minput\u001b[39m, SparseConvTensor)\n\u001b[1;32m    134\u001b[0m     \u001b[38;5;28mself\u001b[39m\u001b[38;5;241m.\u001b[39m_sparity_dict[k] \u001b[38;5;241m=\u001b[39m \u001b[38;5;28minput\u001b[39m\u001b[38;5;241m.\u001b[39msparity\n\u001b[0;32m--> 135\u001b[0m     \u001b[38;5;28minput\u001b[39m \u001b[38;5;241m=\u001b[39m \u001b[43mmodule\u001b[49m\u001b[43m(\u001b[49m\u001b[38;5;28;43minput\u001b[39;49m\u001b[43m)\u001b[49m\n\u001b[1;32m    136\u001b[0m \u001b[38;5;28;01melse\u001b[39;00m:\n\u001b[1;32m    137\u001b[0m     \u001b[38;5;28;01mif\u001b[39;00m \u001b[38;5;28misinstance\u001b[39m(\u001b[38;5;28minput\u001b[39m, SparseConvTensor):\n",
      "File \u001b[0;32m~/miniconda3/envs/openmmlab/lib/python3.8/site-packages/torch/nn/modules/module.py:1194\u001b[0m, in \u001b[0;36mModule._call_impl\u001b[0;34m(self, *input, **kwargs)\u001b[0m\n\u001b[1;32m   1190\u001b[0m \u001b[38;5;66;03m# If we don't have any hooks, we want to skip the rest of the logic in\u001b[39;00m\n\u001b[1;32m   1191\u001b[0m \u001b[38;5;66;03m# this function, and just call forward.\u001b[39;00m\n\u001b[1;32m   1192\u001b[0m \u001b[38;5;28;01mif\u001b[39;00m \u001b[38;5;129;01mnot\u001b[39;00m (\u001b[38;5;28mself\u001b[39m\u001b[38;5;241m.\u001b[39m_backward_hooks \u001b[38;5;129;01mor\u001b[39;00m \u001b[38;5;28mself\u001b[39m\u001b[38;5;241m.\u001b[39m_forward_hooks \u001b[38;5;129;01mor\u001b[39;00m \u001b[38;5;28mself\u001b[39m\u001b[38;5;241m.\u001b[39m_forward_pre_hooks \u001b[38;5;129;01mor\u001b[39;00m _global_backward_hooks\n\u001b[1;32m   1193\u001b[0m         \u001b[38;5;129;01mor\u001b[39;00m _global_forward_hooks \u001b[38;5;129;01mor\u001b[39;00m _global_forward_pre_hooks):\n\u001b[0;32m-> 1194\u001b[0m     \u001b[38;5;28;01mreturn\u001b[39;00m \u001b[43mforward_call\u001b[49m\u001b[43m(\u001b[49m\u001b[38;5;241;43m*\u001b[39;49m\u001b[38;5;28;43minput\u001b[39;49m\u001b[43m,\u001b[49m\u001b[43m \u001b[49m\u001b[38;5;241;43m*\u001b[39;49m\u001b[38;5;241;43m*\u001b[39;49m\u001b[43mkwargs\u001b[49m\u001b[43m)\u001b[49m\n\u001b[1;32m   1195\u001b[0m \u001b[38;5;66;03m# Do not call functions when jit is used\u001b[39;00m\n\u001b[1;32m   1196\u001b[0m full_backward_hooks, non_full_backward_hooks \u001b[38;5;241m=\u001b[39m [], []\n",
      "File \u001b[0;32m~/miniconda3/envs/openmmlab/lib/python3.8/site-packages/mmcv/ops/sparse_conv.py:157\u001b[0m, in \u001b[0;36mSparseConvolution.forward\u001b[0;34m(self, input)\u001b[0m\n\u001b[1;32m    155\u001b[0m         outids, _, indice_pairs, indice_pair_num, _ \u001b[38;5;241m=\u001b[39m data\n\u001b[1;32m    156\u001b[0m     \u001b[38;5;28;01melse\u001b[39;00m:\n\u001b[0;32m--> 157\u001b[0m         outids, indice_pairs, indice_pair_num \u001b[38;5;241m=\u001b[39m \u001b[43mops\u001b[49m\u001b[38;5;241;43m.\u001b[39;49m\u001b[43mget_indice_pairs\u001b[49m\u001b[43m(\u001b[49m\n\u001b[1;32m    158\u001b[0m \u001b[43m            \u001b[49m\u001b[43mindices\u001b[49m\u001b[43m,\u001b[49m\n\u001b[1;32m    159\u001b[0m \u001b[43m            \u001b[49m\u001b[43mbatch_size\u001b[49m\u001b[43m,\u001b[49m\n\u001b[1;32m    160\u001b[0m \u001b[43m            \u001b[49m\u001b[43mspatial_shape\u001b[49m\u001b[43m,\u001b[49m\n\u001b[1;32m    161\u001b[0m \u001b[43m            \u001b[49m\u001b[38;5;28;43mself\u001b[39;49m\u001b[38;5;241;43m.\u001b[39;49m\u001b[43mkernel_size\u001b[49m\u001b[43m,\u001b[49m\n\u001b[1;32m    162\u001b[0m \u001b[43m            \u001b[49m\u001b[38;5;28;43mself\u001b[39;49m\u001b[38;5;241;43m.\u001b[39;49m\u001b[43mstride\u001b[49m\u001b[43m,\u001b[49m\n\u001b[1;32m    163\u001b[0m \u001b[43m            \u001b[49m\u001b[38;5;28;43mself\u001b[39;49m\u001b[38;5;241;43m.\u001b[39;49m\u001b[43mpadding\u001b[49m\u001b[43m,\u001b[49m\n\u001b[1;32m    164\u001b[0m \u001b[43m            \u001b[49m\u001b[38;5;28;43mself\u001b[39;49m\u001b[38;5;241;43m.\u001b[39;49m\u001b[43mdilation\u001b[49m\u001b[43m,\u001b[49m\n\u001b[1;32m    165\u001b[0m \u001b[43m            \u001b[49m\u001b[38;5;28;43mself\u001b[39;49m\u001b[38;5;241;43m.\u001b[39;49m\u001b[43moutput_padding\u001b[49m\u001b[43m,\u001b[49m\n\u001b[1;32m    166\u001b[0m \u001b[43m            \u001b[49m\u001b[38;5;28;43mself\u001b[39;49m\u001b[38;5;241;43m.\u001b[39;49m\u001b[43msubm\u001b[49m\u001b[43m,\u001b[49m\n\u001b[1;32m    167\u001b[0m \u001b[43m            \u001b[49m\u001b[38;5;28;43mself\u001b[39;49m\u001b[38;5;241;43m.\u001b[39;49m\u001b[43mtransposed\u001b[49m\u001b[43m,\u001b[49m\n\u001b[1;32m    168\u001b[0m \u001b[43m            \u001b[49m\u001b[43mgrid\u001b[49m\u001b[38;5;241;43m=\u001b[39;49m\u001b[38;5;28;43minput\u001b[39;49m\u001b[38;5;241;43m.\u001b[39;49m\u001b[43mgrid\u001b[49m\u001b[43m)\u001b[49m\n\u001b[1;32m    169\u001b[0m         \u001b[38;5;28minput\u001b[39m\u001b[38;5;241m.\u001b[39mindice_dict[\u001b[38;5;28mself\u001b[39m\u001b[38;5;241m.\u001b[39mindice_key] \u001b[38;5;241m=\u001b[39m (outids, indices,\n\u001b[1;32m    170\u001b[0m                                               indice_pairs,\n\u001b[1;32m    171\u001b[0m                                               indice_pair_num,\n\u001b[1;32m    172\u001b[0m                                               spatial_shape)\n\u001b[1;32m    173\u001b[0m \u001b[38;5;28;01mif\u001b[39;00m \u001b[38;5;28mself\u001b[39m\u001b[38;5;241m.\u001b[39mfused_bn:\n",
      "File \u001b[0;32m~/miniconda3/envs/openmmlab/lib/python3.8/site-packages/mmcv/ops/sparse_ops.py:99\u001b[0m, in \u001b[0;36mget_indice_pairs\u001b[0;34m(indices, batch_size, spatial_shape, ksize, stride, padding, dilation, out_padding, subm, transpose, grid)\u001b[0m\n\u001b[1;32m     97\u001b[0m     \u001b[38;5;28;01melse\u001b[39;00m:\n\u001b[1;32m     98\u001b[0m         \u001b[38;5;28;01mraise\u001b[39;00m \u001b[38;5;167;01mNotImplementedError\u001b[39;00m\n\u001b[0;32m---> 99\u001b[0m     \u001b[38;5;28;01mreturn\u001b[39;00m \u001b[43mget_indice_pairs_func\u001b[49m\u001b[43m(\u001b[49m\u001b[43mindices\u001b[49m\u001b[43m,\u001b[49m\u001b[43m \u001b[49m\u001b[43mbatch_size\u001b[49m\u001b[43m,\u001b[49m\u001b[43m \u001b[49m\u001b[43mout_shape\u001b[49m\u001b[43m,\u001b[49m\n\u001b[1;32m    100\u001b[0m \u001b[43m                                 \u001b[49m\u001b[43mspatial_shape\u001b[49m\u001b[43m,\u001b[49m\u001b[43m \u001b[49m\u001b[43mksize\u001b[49m\u001b[43m,\u001b[49m\u001b[43m \u001b[49m\u001b[43mstride\u001b[49m\u001b[43m,\u001b[49m\u001b[43m \u001b[49m\u001b[43mpadding\u001b[49m\u001b[43m,\u001b[49m\n\u001b[1;32m    101\u001b[0m \u001b[43m                                 \u001b[49m\u001b[43mdilation\u001b[49m\u001b[43m,\u001b[49m\u001b[43m \u001b[49m\u001b[43mout_padding\u001b[49m\u001b[43m,\u001b[49m\u001b[43m \u001b[49m\u001b[38;5;28;43mint\u001b[39;49m\u001b[43m(\u001b[49m\u001b[43msubm\u001b[49m\u001b[43m)\u001b[49m\u001b[43m,\u001b[49m\n\u001b[1;32m    102\u001b[0m \u001b[43m                                 \u001b[49m\u001b[38;5;28;43mint\u001b[39;49m\u001b[43m(\u001b[49m\u001b[43mtranspose\u001b[49m\u001b[43m)\u001b[49m\u001b[43m)\u001b[49m\n\u001b[1;32m    103\u001b[0m \u001b[38;5;28;01melse\u001b[39;00m:\n\u001b[1;32m    104\u001b[0m     \u001b[38;5;28;01mif\u001b[39;00m ndim \u001b[38;5;241m==\u001b[39m \u001b[38;5;241m2\u001b[39m:\n",
      "\u001b[0;31mRuntimeError\u001b[0m: get_indice_pairs is not implemented on CPU"
     ]
    }
   ],
   "source": [
    "model = init_model(config, checkpoint, device='cuda:0')\n",
    "result, data = inference_detector(model, lidar_file)"
   ]
  },
  {
   "cell_type": "code",
   "execution_count": null,
   "metadata": {},
   "outputs": [
    {
     "name": "stdout",
     "output_type": "stream",
     "text": [
      "<InstanceData(\n",
      "\n",
      "    META INFORMATION\n",
      "\n",
      "    DATA FIELDS\n",
      "    scores_3d: tensor([0.9620, 0.9497, 0.9463, 0.9442, 0.9399, 0.9363, 0.9287, 0.9246, 0.9120,\n",
      "                0.9050, 0.8887, 0.8858, 0.8724, 0.8671, 0.8497, 0.7904, 0.7747, 0.7638,\n",
      "                0.7520, 0.6505, 0.3597, 0.2749, 0.2695, 0.2632, 0.2456, 0.2292, 0.1187,\n",
      "                0.1150], device='cuda:1')\n",
      "    bboxes_3d: LiDARInstance3DBoxes(\n",
      "            tensor([[ 2.9751e+01,  1.3549e+01, -1.7173e+00,  4.7901e+00,  1.9501e+00,\n",
      "                  1.5284e+00,  3.1210e+00, -9.4957e-01, -8.0817e-02],\n",
      "                [ 3.0086e+01,  1.7061e+01, -1.7948e+00,  4.5996e+00,  1.8948e+00,\n",
      "                  1.5200e+00,  3.1316e+00, -5.9810e-01,  2.9452e-01],\n",
      "                [ 5.8442e+01,  1.6275e+01, -1.7472e+00,  4.3322e+00,  1.9623e+00,\n",
      "                  1.6758e+00,  3.0811e+00, -9.9426e-01, -6.0319e-02],\n",
      "                [ 4.4480e+01,  1.6975e+01, -1.7394e+00,  4.5174e+00,  2.0004e+00,\n",
      "                  1.7578e+00,  3.0879e+00, -1.1020e-01, -1.3749e-01],\n",
      "                [ 1.8157e+01,  2.2310e+00, -1.6687e+00,  4.3191e+00,  1.9253e+00,\n",
      "                  1.4719e+00, -3.1779e-02, -3.4344e-01,  2.3675e-01],\n",
      "                [ 4.8287e+01,  1.9857e+01, -1.7834e+00,  4.3829e+00,  1.9486e+00,\n",
      "                  1.6053e+00,  3.0786e+00, -2.0721e-01,  9.1832e-01],\n",
      "                [ 5.2020e+01, -4.9397e+00, -1.6807e+00,  4.2555e+00,  1.9054e+00,\n",
      "                  1.5193e+00, -4.5695e-02,  2.2363e-01,  2.9061e-01],\n",
      "                [ 5.0632e+01, -1.6378e+00, -1.6905e+00,  4.2281e+00,  1.9161e+00,\n",
      "                  1.6552e+00, -5.9231e-02, -5.0503e-01, -1.4227e-01],\n",
      "                [ 3.8581e+01, -4.7915e+00, -1.7022e+00,  4.2443e+00,  1.9118e+00,\n",
      "                  1.5929e+00, -1.8849e-02, -3.5869e-01, -5.2463e-05],\n",
      "                [ 2.4110e+01, -1.0533e+00, -1.6867e+00,  4.2377e+00,  1.9228e+00,\n",
      "                  1.6633e+00, -5.9862e-02,  8.2069e-01, -1.0186e-01],\n",
      "                [ 3.7000e+01, -7.9321e+00, -1.7096e+00,  4.2999e+00,  1.8887e+00,\n",
      "                  1.5223e+00, -1.0123e-02, -5.1897e-01,  2.3833e-01],\n",
      "                [ 4.5023e+01,  1.2868e+01, -1.7053e+00,  4.4491e+00,  1.9447e+00,\n",
      "                  1.5741e+00,  3.0890e+00, -5.4580e-01, -5.5315e-01],\n",
      "                [ 5.9996e+01,  1.2489e+01, -1.6577e+00,  4.3630e+00,  2.0349e+00,\n",
      "                  2.0479e+00,  3.1379e+00, -3.8422e-01,  4.4825e-01],\n",
      "                [ 2.4140e+01, -7.7795e+00, -1.7204e+00,  4.7030e+00,  1.9152e+00,\n",
      "                  1.5363e+00, -4.9982e-02, -4.7058e-01,  3.6478e-01],\n",
      "                [ 2.0266e+01, -3.7908e+00, -1.7064e+00,  4.3026e+00,  1.8976e+00,\n",
      "                  1.5069e+00,  8.4587e-03,  3.6052e-01, -3.7652e-01],\n",
      "                [ 3.7610e+01, -1.4036e+00, -1.6732e+00,  4.2287e+00,  1.9008e+00,\n",
      "                  1.6401e+00, -8.4159e-02, -1.0139e+00, -2.2333e-01],\n",
      "                [ 4.4783e+01, -3.1008e+01, -1.8422e+00,  4.6079e+00,  1.8948e+00,\n",
      "                  1.5562e+00,  1.5178e+00, -8.8691e-01,  2.9825e-01],\n",
      "                [ 3.9645e+01,  2.6618e+01, -1.8883e+00,  4.8168e+00,  1.9614e+00,\n",
      "                  1.6268e+00,  2.9624e+00, -4.6687e-01,  2.0619e-01],\n",
      "                [ 1.3111e+01, -5.6874e-01, -1.6555e+00,  4.2112e+00,  1.9474e+00,\n",
      "                  1.7296e+00, -2.7379e-02, -5.4267e-01,  2.0871e-01],\n",
      "                [ 1.3040e+01, -7.0883e+00, -1.6653e+00,  4.2128e+00,  1.8952e+00,\n",
      "                  1.4899e+00, -1.1143e-01, -6.8812e-01,  9.8454e-02],\n",
      "                [ 3.0311e+01, -3.9049e+01, -1.8255e+00,  4.5738e+00,  1.9134e+00,\n",
      "                  1.6535e+00,  1.5873e-01, -2.3137e-01,  3.2716e-01],\n",
      "                [ 4.0496e+01, -3.6613e+01, -1.9564e+00,  7.3518e+00,  2.3419e+00,\n",
      "                  2.1190e+00, -1.5997e+00, -7.1673e-01, -4.2322e-02],\n",
      "                [ 1.0946e+01, -1.0666e+01, -1.4801e+00,  7.0446e+00,  2.5314e+00,\n",
      "                  2.9882e+00,  2.7156e-02,  1.3899e-01,  6.0759e-02],\n",
      "                [ 1.8638e+01, -2.8592e+01, -1.7350e+00,  1.0969e+01,  2.9941e+00,\n",
      "                  3.5330e+00,  6.8260e-01, -1.5249e-01,  1.6851e-02],\n",
      "                [ 2.6135e+01,  3.3872e+01, -1.8154e+00,  4.4901e+00,  1.9396e+00,\n",
      "                  1.6382e+00, -6.3470e-01, -4.6404e-01,  6.8605e-02],\n",
      "                [ 5.6287e+01,  2.5289e+01, -1.8458e+00,  4.2533e+00,  1.8644e+00,\n",
      "                  1.5459e+00, -3.0652e+00, -3.3709e-01,  2.1701e-01],\n",
      "                [ 2.8660e+01,  3.3924e+01, -1.8566e+00,  4.4405e+00,  1.9166e+00,\n",
      "                  1.6293e+00, -1.4441e+00, -3.7360e-01, -7.4658e-02],\n",
      "                [ 1.2092e+01, -1.3483e+01, -1.5216e+00,  6.0182e+00,  2.2254e+00,\n",
      "                  2.0913e+00, -2.3457e-02, -6.9409e-03, -3.0383e-01]], device='cuda:1'))\n",
      "    labels_3d: tensor([0, 0, 0, 0, 0, 0, 0, 0, 0, 0, 0, 0, 0, 0, 0, 0, 0, 0, 0, 0, 0, 0, 0, 0,\n",
      "                0, 0, 0, 0], device='cuda:1', dtype=torch.int32)\n",
      ") at 0x7f52c5b7d490>\n"
     ]
    }
   ],
   "source": [
    "print(result.pred_instances_3d)"
   ]
  },
  {
   "cell_type": "code",
   "execution_count": null,
   "metadata": {},
   "outputs": [
    {
     "name": "stdout",
     "output_type": "stream",
     "text": [
      "[Open3D INFO] Window window_9 created.\n"
     ]
    },
    {
     "data": {
      "application/vnd.jupyter.widget-view+json": {
       "model_id": "9da33aa0cafe48f88b3721bb7e2ca3a8",
       "version_major": 2,
       "version_minor": 0
      },
      "text/plain": [
       "WebVisualizer(window_uid='window_9')"
      ]
     },
     "metadata": {},
     "output_type": "display_data"
    },
    {
     "name": "stdout",
     "output_type": "stream",
     "text": [
      "[Open3D INFO] Sending init frames to window_9.\n"
     ]
    },
    {
     "name": "stderr",
     "output_type": "stream",
     "text": [
      "[7011:413][613519] (stun_port.cc:96): Binding request timed out from 163.117.150.x:59955 (enp4s0)\n"
     ]
    }
   ],
   "source": [
    "data = draw_lidar_results(lidar_file, calib_file, result)"
   ]
  },
  {
   "cell_type": "code",
   "execution_count": null,
   "metadata": {},
   "outputs": [
    {
     "name": "stdout",
     "output_type": "stream",
     "text": [
      "LidarBbox Type: 0, Location: [59.038055419921875, 20.072513580322266, -1.7220239639282227], \n",
      " Dimensions: [4.2975239753723145, 1.9336073398590088, 1.6720019578933716], Rotation Y: [3.0715692043304443, -0.4534916877746582, -0.21350282430648804], Score: 0.9264719486236572)\n"
     ]
    },
    {
     "name": "stderr",
     "output_type": "stream",
     "text": [
      "[2287:101][599267] (stun_port.cc:96): Binding request timed out from 163.117.150.x:58861 (enp4s0)\n"
     ]
    }
   ],
   "source": [
    "print(data.lidar_bboxes[1])"
   ]
  }
 ],
 "metadata": {
  "kernelspec": {
   "display_name": "openmmlab",
   "language": "python",
   "name": "python3"
  },
  "language_info": {
   "codemirror_mode": {
    "name": "ipython",
    "version": 3
   },
   "file_extension": ".py",
   "mimetype": "text/x-python",
   "name": "python",
   "nbconvert_exporter": "python",
   "pygments_lexer": "ipython3",
   "version": "3.8.18"
  }
 },
 "nbformat": 4,
 "nbformat_minor": 2
}
