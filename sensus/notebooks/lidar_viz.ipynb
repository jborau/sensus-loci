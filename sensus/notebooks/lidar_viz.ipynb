{
 "cells": [
  {
   "cell_type": "code",
   "execution_count": 1,
   "metadata": {},
   "outputs": [
    {
     "name": "stdout",
     "output_type": "stream",
     "text": [
      "Jupyter environment detected. Enabling Open3D WebVisualizer.\n",
      "[Open3D INFO] WebRTC GUI backend enabled.\n",
      "[Open3D INFO] WebRTCWindowSystem: HTTP handshake server disabled.\n",
      "[Open3D INFO] Resetting default logger to print to terminal.\n"
     ]
    }
   ],
   "source": [
    "%load_ext autoreload\n",
    "%autoreload 2\n",
    "import mmcv\n",
    "from mmdet3d.apis import inference_mono_3d_detector, init_model\n",
    "from mmdet3d.registry import VISUALIZERS\n",
    "from mmengine import load, dump\n",
    "from mmdet3d.registry import VISUALIZERS\n",
    "import cv2\n",
    "import numpy as np\n",
    "\n",
    "\n",
    "from mmdet3d.apis import inference_detector, init_model\n",
    "from mmdet3d.utils import register_all_modules\n",
    "\n",
    "from sensus.tools.new_visualizer import draw_lidar_labels, draw_lidar_results"
   ]
  },
  {
   "cell_type": "code",
   "execution_count": 2,
   "metadata": {},
   "outputs": [],
   "source": [
    "file = '002238'\n",
    "dataset = 'dair'\n",
    "if dataset == 'kitti':\n",
    "    lidar_file = '/home/javier/datasets/kitti/training/velodyne/' + file + '.bin'\n",
    "    labels_file = '/home/javier/datasets/kitti/training/label_2/'+ file + '.txt'\n",
    "    calib_file = '/home/javier/datasets/kitti/training/calib/'+ file + '.txt'\n",
    "    pitch = 0.0\n",
    "elif dataset == 'dair':\n",
    "    lidar_file = '/home/javier/datasets/DAIR/single-infrastructure-side-mmdet/training/velodyne/' + file + '.bin'\n",
    "    labels_file = '/home/javier/datasets/DAIR/single-infrastructure-side-mmdet/training/label_2/'+ file + '.txt'\n",
    "    calib_file = '/home/javier/datasets/DAIR/single-infrastructure-side-mmdet/training/calib/'+ file + '.txt'\n",
    "    pitch = 0.2031\n",
    "\n",
    "ann_file = '/home/javier/sensus-loci/sensus/notebooks/002238.pkl'\n",
    "cam_type = 'CAM_BACK'"
   ]
  },
  {
   "cell_type": "code",
   "execution_count": 4,
   "metadata": {},
   "outputs": [
    {
     "name": "stdout",
     "output_type": "stream",
     "text": [
      "[Open3D INFO] Window window_1 created.\n"
     ]
    },
    {
     "data": {
      "application/vnd.jupyter.widget-view+json": {
       "model_id": "98e095e64b164b84907b60f33d09a5c0",
       "version_major": 2,
       "version_minor": 0
      },
      "text/plain": [
       "WebVisualizer(window_uid='window_1')"
      ]
     },
     "metadata": {},
     "output_type": "display_data"
    }
   ],
   "source": [
    "data = draw_lidar_labels(lidar_file, calib_file, labels_file)"
   ]
  },
  {
   "cell_type": "code",
   "execution_count": 8,
   "metadata": {},
   "outputs": [
    {
     "name": "stdout",
     "output_type": "stream",
     "text": [
      "LidarBbox Type: Car, Location: [54.31270072 -4.67327514 -1.67634704], \n",
      " Dimensions: (4.311423, 2.09444, 1.795317), Rotation Y: [3.1393161427362717], Score: Not available)\n"
     ]
    }
   ],
   "source": [
    "print(data.lidar_bboxes[3])"
   ]
  },
  {
   "cell_type": "markdown",
   "metadata": {},
   "source": [
    "## Inference"
   ]
  },
  {
   "cell_type": "code",
   "execution_count": 9,
   "metadata": {},
   "outputs": [
    {
     "name": "stderr",
     "output_type": "stream",
     "text": [
      "/home/javier/sensus-loci/mmdetection3d/mmdet3d/evaluation/functional/kitti_utils/eval.py:10: NumbaDeprecationWarning: \u001b[1mThe 'nopython' keyword argument was not supplied to the 'numba.jit' decorator. The implicit default value for this argument is currently False, but it will be changed to True in Numba 0.59.0. See https://numba.readthedocs.io/en/stable/reference/deprecation.html#deprecation-of-object-mode-fall-back-behaviour-when-using-jit for details.\u001b[0m\n",
      "  def get_thresholds(scores: np.ndarray, num_gt, num_sample_pts=41):\n"
     ]
    }
   ],
   "source": [
    "register_all_modules()\n",
    "\n",
    "## Build the model from a config file and a checkpoint file\n",
    "config = '/home/javier/sensus-loci/sensus/configs/centerpoint/centerpoint_voxel01_second_secfpn_8xb4-cyclic-20e_dair-3d.py'\n",
    "checkpoint = '/home/javier/sensus-loci/work_dirs/centerpoint_voxel01_second_secfpn_8xb4-cyclic-20e_dair-3d/epoch_40.pth'"
   ]
  },
  {
   "cell_type": "code",
   "execution_count": 10,
   "metadata": {},
   "outputs": [
    {
     "name": "stdout",
     "output_type": "stream",
     "text": [
      "Loads checkpoint by local backend from path: /home/javier/sensus-loci/work_dirs/centerpoint_voxel01_second_secfpn_8xb4-cyclic-20e_dair-3d/epoch_40.pth\n"
     ]
    },
    {
     "ename": "FileNotFoundError",
     "evalue": "/home/javier/sensus-loci/work_dirs/centerpoint_voxel01_second_secfpn_8xb4-cyclic-20e_dair-3d/epoch_40.pth can not be found.",
     "output_type": "error",
     "traceback": [
      "\u001b[0;31m---------------------------------------------------------------------------\u001b[0m",
      "\u001b[0;31mFileNotFoundError\u001b[0m                         Traceback (most recent call last)",
      "Cell \u001b[0;32mIn[10], line 1\u001b[0m\n\u001b[0;32m----> 1\u001b[0m model \u001b[38;5;241m=\u001b[39m \u001b[43minit_model\u001b[49m\u001b[43m(\u001b[49m\u001b[43mconfig\u001b[49m\u001b[43m,\u001b[49m\u001b[43m \u001b[49m\u001b[43mcheckpoint\u001b[49m\u001b[43m,\u001b[49m\u001b[43m \u001b[49m\u001b[43mdevice\u001b[49m\u001b[38;5;241;43m=\u001b[39;49m\u001b[38;5;124;43m'\u001b[39;49m\u001b[38;5;124;43mcuda:1\u001b[39;49m\u001b[38;5;124;43m'\u001b[39;49m\u001b[43m)\u001b[49m\n\u001b[1;32m      2\u001b[0m result, data \u001b[38;5;241m=\u001b[39m inference_detector(model, lidar_file)\n",
      "File \u001b[0;32m~/sensus-loci/mmdetection3d/mmdet3d/apis/inference.py:72\u001b[0m, in \u001b[0;36minit_model\u001b[0;34m(config, checkpoint, device, palette, cfg_options)\u001b[0m\n\u001b[1;32m     69\u001b[0m model \u001b[38;5;241m=\u001b[39m MODELS\u001b[38;5;241m.\u001b[39mbuild(config\u001b[38;5;241m.\u001b[39mmodel)\n\u001b[1;32m     71\u001b[0m \u001b[38;5;28;01mif\u001b[39;00m checkpoint \u001b[38;5;129;01mis\u001b[39;00m \u001b[38;5;129;01mnot\u001b[39;00m \u001b[38;5;28;01mNone\u001b[39;00m:\n\u001b[0;32m---> 72\u001b[0m     checkpoint \u001b[38;5;241m=\u001b[39m \u001b[43mload_checkpoint\u001b[49m\u001b[43m(\u001b[49m\u001b[43mmodel\u001b[49m\u001b[43m,\u001b[49m\u001b[43m \u001b[49m\u001b[43mcheckpoint\u001b[49m\u001b[43m,\u001b[49m\u001b[43m \u001b[49m\u001b[43mmap_location\u001b[49m\u001b[38;5;241;43m=\u001b[39;49m\u001b[38;5;124;43m'\u001b[39;49m\u001b[38;5;124;43mcpu\u001b[39;49m\u001b[38;5;124;43m'\u001b[39;49m\u001b[43m)\u001b[49m\n\u001b[1;32m     73\u001b[0m     \u001b[38;5;66;03m# save the dataset_meta in the model for convenience\u001b[39;00m\n\u001b[1;32m     74\u001b[0m     \u001b[38;5;28;01mif\u001b[39;00m \u001b[38;5;124m'\u001b[39m\u001b[38;5;124mdataset_meta\u001b[39m\u001b[38;5;124m'\u001b[39m \u001b[38;5;129;01min\u001b[39;00m checkpoint\u001b[38;5;241m.\u001b[39mget(\u001b[38;5;124m'\u001b[39m\u001b[38;5;124mmeta\u001b[39m\u001b[38;5;124m'\u001b[39m, {}):\n\u001b[1;32m     75\u001b[0m         \u001b[38;5;66;03m# mmdet3d 1.x\u001b[39;00m\n",
      "File \u001b[0;32m~/miniconda3/envs/openmmlab/lib/python3.8/site-packages/mmengine/runner/checkpoint.py:636\u001b[0m, in \u001b[0;36mload_checkpoint\u001b[0;34m(model, filename, map_location, strict, logger, revise_keys)\u001b[0m\n\u001b[1;32m    611\u001b[0m \u001b[38;5;28;01mdef\u001b[39;00m \u001b[38;5;21mload_checkpoint\u001b[39m(model,\n\u001b[1;32m    612\u001b[0m                     filename,\n\u001b[1;32m    613\u001b[0m                     map_location\u001b[38;5;241m=\u001b[39m\u001b[38;5;28;01mNone\u001b[39;00m,\n\u001b[1;32m    614\u001b[0m                     strict\u001b[38;5;241m=\u001b[39m\u001b[38;5;28;01mFalse\u001b[39;00m,\n\u001b[1;32m    615\u001b[0m                     logger\u001b[38;5;241m=\u001b[39m\u001b[38;5;28;01mNone\u001b[39;00m,\n\u001b[1;32m    616\u001b[0m                     revise_keys\u001b[38;5;241m=\u001b[39m[(\u001b[38;5;124mr\u001b[39m\u001b[38;5;124m'\u001b[39m\u001b[38;5;124m^module\u001b[39m\u001b[38;5;124m\\\u001b[39m\u001b[38;5;124m.\u001b[39m\u001b[38;5;124m'\u001b[39m, \u001b[38;5;124m'\u001b[39m\u001b[38;5;124m'\u001b[39m)]):\n\u001b[1;32m    617\u001b[0m \u001b[38;5;250m    \u001b[39m\u001b[38;5;124;03m\"\"\"Load checkpoint from a file or URI.\u001b[39;00m\n\u001b[1;32m    618\u001b[0m \n\u001b[1;32m    619\u001b[0m \u001b[38;5;124;03m    Args:\u001b[39;00m\n\u001b[0;32m   (...)\u001b[0m\n\u001b[1;32m    634\u001b[0m \u001b[38;5;124;03m        dict or OrderedDict: The loaded checkpoint.\u001b[39;00m\n\u001b[1;32m    635\u001b[0m \u001b[38;5;124;03m    \"\"\"\u001b[39;00m\n\u001b[0;32m--> 636\u001b[0m     checkpoint \u001b[38;5;241m=\u001b[39m \u001b[43m_load_checkpoint\u001b[49m\u001b[43m(\u001b[49m\u001b[43mfilename\u001b[49m\u001b[43m,\u001b[49m\u001b[43m \u001b[49m\u001b[43mmap_location\u001b[49m\u001b[43m,\u001b[49m\u001b[43m \u001b[49m\u001b[43mlogger\u001b[49m\u001b[43m)\u001b[49m\n\u001b[1;32m    637\u001b[0m     \u001b[38;5;66;03m# OrderedDict is a subclass of dict\u001b[39;00m\n\u001b[1;32m    638\u001b[0m     \u001b[38;5;28;01mif\u001b[39;00m \u001b[38;5;129;01mnot\u001b[39;00m \u001b[38;5;28misinstance\u001b[39m(checkpoint, \u001b[38;5;28mdict\u001b[39m):\n",
      "File \u001b[0;32m~/miniconda3/envs/openmmlab/lib/python3.8/site-packages/mmengine/runner/checkpoint.py:548\u001b[0m, in \u001b[0;36m_load_checkpoint\u001b[0;34m(filename, map_location, logger)\u001b[0m\n\u001b[1;32m    531\u001b[0m \u001b[38;5;28;01mdef\u001b[39;00m \u001b[38;5;21m_load_checkpoint\u001b[39m(filename, map_location\u001b[38;5;241m=\u001b[39m\u001b[38;5;28;01mNone\u001b[39;00m, logger\u001b[38;5;241m=\u001b[39m\u001b[38;5;28;01mNone\u001b[39;00m):\n\u001b[1;32m    532\u001b[0m \u001b[38;5;250m    \u001b[39m\u001b[38;5;124;03m\"\"\"Load checkpoint from somewhere (modelzoo, file, url).\u001b[39;00m\n\u001b[1;32m    533\u001b[0m \n\u001b[1;32m    534\u001b[0m \u001b[38;5;124;03m    Args:\u001b[39;00m\n\u001b[0;32m   (...)\u001b[0m\n\u001b[1;32m    546\u001b[0m \u001b[38;5;124;03m        information, which depends on the checkpoint.\u001b[39;00m\n\u001b[1;32m    547\u001b[0m \u001b[38;5;124;03m    \"\"\"\u001b[39;00m\n\u001b[0;32m--> 548\u001b[0m     \u001b[38;5;28;01mreturn\u001b[39;00m \u001b[43mCheckpointLoader\u001b[49m\u001b[38;5;241;43m.\u001b[39;49m\u001b[43mload_checkpoint\u001b[49m\u001b[43m(\u001b[49m\u001b[43mfilename\u001b[49m\u001b[43m,\u001b[49m\u001b[43m \u001b[49m\u001b[43mmap_location\u001b[49m\u001b[43m,\u001b[49m\u001b[43m \u001b[49m\u001b[43mlogger\u001b[49m\u001b[43m)\u001b[49m\n",
      "File \u001b[0;32m~/miniconda3/envs/openmmlab/lib/python3.8/site-packages/mmengine/runner/checkpoint.py:330\u001b[0m, in \u001b[0;36mCheckpointLoader.load_checkpoint\u001b[0;34m(cls, filename, map_location, logger)\u001b[0m\n\u001b[1;32m    325\u001b[0m class_name \u001b[38;5;241m=\u001b[39m checkpoint_loader\u001b[38;5;241m.\u001b[39m\u001b[38;5;18m__name__\u001b[39m\n\u001b[1;32m    326\u001b[0m print_log(\n\u001b[1;32m    327\u001b[0m     \u001b[38;5;124mf\u001b[39m\u001b[38;5;124m'\u001b[39m\u001b[38;5;124mLoads checkpoint by \u001b[39m\u001b[38;5;132;01m{\u001b[39;00mclass_name[\u001b[38;5;241m10\u001b[39m:]\u001b[38;5;132;01m}\u001b[39;00m\u001b[38;5;124m backend from path: \u001b[39m\u001b[38;5;124m'\u001b[39m\n\u001b[1;32m    328\u001b[0m     \u001b[38;5;124mf\u001b[39m\u001b[38;5;124m'\u001b[39m\u001b[38;5;132;01m{\u001b[39;00mfilename\u001b[38;5;132;01m}\u001b[39;00m\u001b[38;5;124m'\u001b[39m,\n\u001b[1;32m    329\u001b[0m     logger\u001b[38;5;241m=\u001b[39mlogger)\n\u001b[0;32m--> 330\u001b[0m \u001b[38;5;28;01mreturn\u001b[39;00m \u001b[43mcheckpoint_loader\u001b[49m\u001b[43m(\u001b[49m\u001b[43mfilename\u001b[49m\u001b[43m,\u001b[49m\u001b[43m \u001b[49m\u001b[43mmap_location\u001b[49m\u001b[43m)\u001b[49m\n",
      "File \u001b[0;32m~/miniconda3/envs/openmmlab/lib/python3.8/site-packages/mmengine/runner/checkpoint.py:346\u001b[0m, in \u001b[0;36mload_from_local\u001b[0;34m(filename, map_location)\u001b[0m\n\u001b[1;32m    344\u001b[0m filename \u001b[38;5;241m=\u001b[39m osp\u001b[38;5;241m.\u001b[39mexpanduser(filename)\n\u001b[1;32m    345\u001b[0m \u001b[38;5;28;01mif\u001b[39;00m \u001b[38;5;129;01mnot\u001b[39;00m osp\u001b[38;5;241m.\u001b[39misfile(filename):\n\u001b[0;32m--> 346\u001b[0m     \u001b[38;5;28;01mraise\u001b[39;00m \u001b[38;5;167;01mFileNotFoundError\u001b[39;00m(\u001b[38;5;124mf\u001b[39m\u001b[38;5;124m'\u001b[39m\u001b[38;5;132;01m{\u001b[39;00mfilename\u001b[38;5;132;01m}\u001b[39;00m\u001b[38;5;124m can not be found.\u001b[39m\u001b[38;5;124m'\u001b[39m)\n\u001b[1;32m    347\u001b[0m checkpoint \u001b[38;5;241m=\u001b[39m torch\u001b[38;5;241m.\u001b[39mload(filename, map_location\u001b[38;5;241m=\u001b[39mmap_location)\n\u001b[1;32m    348\u001b[0m \u001b[38;5;28;01mreturn\u001b[39;00m checkpoint\n",
      "\u001b[0;31mFileNotFoundError\u001b[0m: /home/javier/sensus-loci/work_dirs/centerpoint_voxel01_second_secfpn_8xb4-cyclic-20e_dair-3d/epoch_40.pth can not be found."
     ]
    }
   ],
   "source": [
    "model = init_model(config, checkpoint, device='cuda:1')\n",
    "result, data = inference_detector(model, lidar_file)"
   ]
  },
  {
   "cell_type": "code",
   "execution_count": null,
   "metadata": {},
   "outputs": [
    {
     "name": "stdout",
     "output_type": "stream",
     "text": [
      "<InstanceData(\n",
      "\n",
      "    META INFORMATION\n",
      "\n",
      "    DATA FIELDS\n",
      "    scores_3d: tensor([0.9620, 0.9497, 0.9463, 0.9442, 0.9399, 0.9363, 0.9287, 0.9246, 0.9120,\n",
      "                0.9050, 0.8887, 0.8858, 0.8724, 0.8671, 0.8497, 0.7904, 0.7747, 0.7638,\n",
      "                0.7520, 0.6505, 0.3597, 0.2749, 0.2695, 0.2632, 0.2456, 0.2292, 0.1187,\n",
      "                0.1150], device='cuda:1')\n",
      "    bboxes_3d: LiDARInstance3DBoxes(\n",
      "            tensor([[ 2.9751e+01,  1.3549e+01, -1.7173e+00,  4.7901e+00,  1.9501e+00,\n",
      "                  1.5284e+00,  3.1210e+00, -9.4957e-01, -8.0817e-02],\n",
      "                [ 3.0086e+01,  1.7061e+01, -1.7948e+00,  4.5996e+00,  1.8948e+00,\n",
      "                  1.5200e+00,  3.1316e+00, -5.9810e-01,  2.9452e-01],\n",
      "                [ 5.8442e+01,  1.6275e+01, -1.7472e+00,  4.3322e+00,  1.9623e+00,\n",
      "                  1.6758e+00,  3.0811e+00, -9.9426e-01, -6.0319e-02],\n",
      "                [ 4.4480e+01,  1.6975e+01, -1.7394e+00,  4.5174e+00,  2.0004e+00,\n",
      "                  1.7578e+00,  3.0879e+00, -1.1020e-01, -1.3749e-01],\n",
      "                [ 1.8157e+01,  2.2310e+00, -1.6687e+00,  4.3191e+00,  1.9253e+00,\n",
      "                  1.4719e+00, -3.1779e-02, -3.4344e-01,  2.3675e-01],\n",
      "                [ 4.8287e+01,  1.9857e+01, -1.7834e+00,  4.3829e+00,  1.9486e+00,\n",
      "                  1.6053e+00,  3.0786e+00, -2.0721e-01,  9.1832e-01],\n",
      "                [ 5.2020e+01, -4.9397e+00, -1.6807e+00,  4.2555e+00,  1.9054e+00,\n",
      "                  1.5193e+00, -4.5695e-02,  2.2363e-01,  2.9061e-01],\n",
      "                [ 5.0632e+01, -1.6378e+00, -1.6905e+00,  4.2281e+00,  1.9161e+00,\n",
      "                  1.6552e+00, -5.9231e-02, -5.0503e-01, -1.4227e-01],\n",
      "                [ 3.8581e+01, -4.7915e+00, -1.7022e+00,  4.2443e+00,  1.9118e+00,\n",
      "                  1.5929e+00, -1.8849e-02, -3.5869e-01, -5.2463e-05],\n",
      "                [ 2.4110e+01, -1.0533e+00, -1.6867e+00,  4.2377e+00,  1.9228e+00,\n",
      "                  1.6633e+00, -5.9862e-02,  8.2069e-01, -1.0186e-01],\n",
      "                [ 3.7000e+01, -7.9321e+00, -1.7096e+00,  4.2999e+00,  1.8887e+00,\n",
      "                  1.5223e+00, -1.0123e-02, -5.1897e-01,  2.3833e-01],\n",
      "                [ 4.5023e+01,  1.2868e+01, -1.7053e+00,  4.4491e+00,  1.9447e+00,\n",
      "                  1.5741e+00,  3.0890e+00, -5.4580e-01, -5.5315e-01],\n",
      "                [ 5.9996e+01,  1.2489e+01, -1.6577e+00,  4.3630e+00,  2.0349e+00,\n",
      "                  2.0479e+00,  3.1379e+00, -3.8422e-01,  4.4825e-01],\n",
      "                [ 2.4140e+01, -7.7795e+00, -1.7204e+00,  4.7030e+00,  1.9152e+00,\n",
      "                  1.5363e+00, -4.9982e-02, -4.7058e-01,  3.6478e-01],\n",
      "                [ 2.0266e+01, -3.7908e+00, -1.7064e+00,  4.3026e+00,  1.8976e+00,\n",
      "                  1.5069e+00,  8.4587e-03,  3.6052e-01, -3.7652e-01],\n",
      "                [ 3.7610e+01, -1.4036e+00, -1.6732e+00,  4.2287e+00,  1.9008e+00,\n",
      "                  1.6401e+00, -8.4159e-02, -1.0139e+00, -2.2333e-01],\n",
      "                [ 4.4783e+01, -3.1008e+01, -1.8422e+00,  4.6079e+00,  1.8948e+00,\n",
      "                  1.5562e+00,  1.5178e+00, -8.8691e-01,  2.9825e-01],\n",
      "                [ 3.9645e+01,  2.6618e+01, -1.8883e+00,  4.8168e+00,  1.9614e+00,\n",
      "                  1.6268e+00,  2.9624e+00, -4.6687e-01,  2.0619e-01],\n",
      "                [ 1.3111e+01, -5.6874e-01, -1.6555e+00,  4.2112e+00,  1.9474e+00,\n",
      "                  1.7296e+00, -2.7379e-02, -5.4267e-01,  2.0871e-01],\n",
      "                [ 1.3040e+01, -7.0883e+00, -1.6653e+00,  4.2128e+00,  1.8952e+00,\n",
      "                  1.4899e+00, -1.1143e-01, -6.8812e-01,  9.8454e-02],\n",
      "                [ 3.0311e+01, -3.9049e+01, -1.8255e+00,  4.5738e+00,  1.9134e+00,\n",
      "                  1.6535e+00,  1.5873e-01, -2.3137e-01,  3.2716e-01],\n",
      "                [ 4.0496e+01, -3.6613e+01, -1.9564e+00,  7.3518e+00,  2.3419e+00,\n",
      "                  2.1190e+00, -1.5997e+00, -7.1673e-01, -4.2322e-02],\n",
      "                [ 1.0946e+01, -1.0666e+01, -1.4801e+00,  7.0446e+00,  2.5314e+00,\n",
      "                  2.9882e+00,  2.7156e-02,  1.3899e-01,  6.0759e-02],\n",
      "                [ 1.8638e+01, -2.8592e+01, -1.7350e+00,  1.0969e+01,  2.9941e+00,\n",
      "                  3.5330e+00,  6.8260e-01, -1.5249e-01,  1.6851e-02],\n",
      "                [ 2.6135e+01,  3.3872e+01, -1.8154e+00,  4.4901e+00,  1.9396e+00,\n",
      "                  1.6382e+00, -6.3470e-01, -4.6404e-01,  6.8605e-02],\n",
      "                [ 5.6287e+01,  2.5289e+01, -1.8458e+00,  4.2533e+00,  1.8644e+00,\n",
      "                  1.5459e+00, -3.0652e+00, -3.3709e-01,  2.1701e-01],\n",
      "                [ 2.8660e+01,  3.3924e+01, -1.8566e+00,  4.4405e+00,  1.9166e+00,\n",
      "                  1.6293e+00, -1.4441e+00, -3.7360e-01, -7.4658e-02],\n",
      "                [ 1.2092e+01, -1.3483e+01, -1.5216e+00,  6.0182e+00,  2.2254e+00,\n",
      "                  2.0913e+00, -2.3457e-02, -6.9409e-03, -3.0383e-01]], device='cuda:1'))\n",
      "    labels_3d: tensor([0, 0, 0, 0, 0, 0, 0, 0, 0, 0, 0, 0, 0, 0, 0, 0, 0, 0, 0, 0, 0, 0, 0, 0,\n",
      "                0, 0, 0, 0], device='cuda:1', dtype=torch.int32)\n",
      ") at 0x7f52c5b7d490>\n"
     ]
    }
   ],
   "source": [
    "print(result.pred_instances_3d)"
   ]
  },
  {
   "cell_type": "code",
   "execution_count": null,
   "metadata": {},
   "outputs": [
    {
     "name": "stdout",
     "output_type": "stream",
     "text": [
      "[Open3D INFO] Window window_9 created.\n"
     ]
    },
    {
     "data": {
      "application/vnd.jupyter.widget-view+json": {
       "model_id": "9da33aa0cafe48f88b3721bb7e2ca3a8",
       "version_major": 2,
       "version_minor": 0
      },
      "text/plain": [
       "WebVisualizer(window_uid='window_9')"
      ]
     },
     "metadata": {},
     "output_type": "display_data"
    },
    {
     "name": "stdout",
     "output_type": "stream",
     "text": [
      "[Open3D INFO] Sending init frames to window_9.\n"
     ]
    },
    {
     "name": "stderr",
     "output_type": "stream",
     "text": [
      "[7011:413][613519] (stun_port.cc:96): Binding request timed out from 163.117.150.x:59955 (enp4s0)\n"
     ]
    }
   ],
   "source": [
    "data = draw_lidar_results(lidar_file, calib_file, result)"
   ]
  },
  {
   "cell_type": "code",
   "execution_count": null,
   "metadata": {},
   "outputs": [
    {
     "name": "stdout",
     "output_type": "stream",
     "text": [
      "LidarBbox Type: 0, Location: [59.038055419921875, 20.072513580322266, -1.7220239639282227], \n",
      " Dimensions: [4.2975239753723145, 1.9336073398590088, 1.6720019578933716], Rotation Y: [3.0715692043304443, -0.4534916877746582, -0.21350282430648804], Score: 0.9264719486236572)\n"
     ]
    },
    {
     "name": "stderr",
     "output_type": "stream",
     "text": [
      "[2287:101][599267] (stun_port.cc:96): Binding request timed out from 163.117.150.x:58861 (enp4s0)\n"
     ]
    }
   ],
   "source": [
    "print(data.lidar_bboxes[1])"
   ]
  }
 ],
 "metadata": {
  "kernelspec": {
   "display_name": "openmmlab",
   "language": "python",
   "name": "python3"
  },
  "language_info": {
   "codemirror_mode": {
    "name": "ipython",
    "version": 3
   },
   "file_extension": ".py",
   "mimetype": "text/x-python",
   "name": "python",
   "nbconvert_exporter": "python",
   "pygments_lexer": "ipython3",
   "version": "3.8.18"
  }
 },
 "nbformat": 4,
 "nbformat_minor": 2
}
