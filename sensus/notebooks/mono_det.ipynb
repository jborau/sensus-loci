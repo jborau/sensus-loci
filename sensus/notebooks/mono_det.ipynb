{
 "cells": [
  {
   "cell_type": "code",
   "execution_count": 4,
   "metadata": {},
   "outputs": [],
   "source": [
    "# Copyright (c) OpenMMLab. All rights reserved.\n",
    "from argparse import ArgumentParser\n",
    "\n",
    "import mmcv\n",
    "\n",
    "from mmdet3d.apis import inference_mono_3d_detector, init_model\n",
    "from mmdet3d.registry import VISUALIZERS\n",
    "from mmengine import load"
   ]
  },
  {
   "cell_type": "code",
   "execution_count": 5,
   "metadata": {},
   "outputs": [
    {
     "name": "stdout",
     "output_type": "stream",
     "text": [
      "Loads checkpoint by local backend from path: /home/javier/sensus-loci/mmdetection3d/checkpoints/fcos3d_r101_caffe_fpn_gn-head_dcn_2x8_1x_nus-mono3d_finetune_20210717_095645-8d806dc2.pth\n"
     ]
    }
   ],
   "source": [
    "# build the model from a config file and a checkpoint file\n",
    "config_file = '/home/javier/sensus-loci/mmdetection3d/configs/fcos3d/fcos3d_r101-caffe-dcn_fpn_head-gn_8xb2-1x_nus-mono3d_finetune.py'\n",
    "checkpoint_file = '/home/javier/sensus-loci/mmdetection3d/checkpoints/fcos3d_r101_caffe_fpn_gn-head_dcn_2x8_1x_nus-mono3d_finetune_20210717_095645-8d806dc2.pth'\n",
    "device = 'cuda:0'\n",
    "\n",
    "model = init_model(config_file, checkpoint_file, device=device)"
   ]
  },
  {
   "cell_type": "code",
   "execution_count": 29,
   "metadata": {},
   "outputs": [],
   "source": [
    "# init visualizer\n",
    "visualizer = VISUALIZERS.build(model.cfg.visualizer)\n",
    "visualizer.dataset_meta = model.dataset_meta\n",
    "\n",
    "# test demo image\n",
    "image_file = 'work/n015-2018-07-24-11-22-45+0800__CAM_BACK__1532402927637525.png'\n",
    "ann_file = 'mi_archivo.pkl'\n",
    "\n",
    "# test dair image\n",
    "dair_img = 'DAIR/000000.png'\n",
    "dair_ann = 'DAIR/kitti_infos_test.pkl'\n",
    "\n",
    "kitti_ann = 'kitti/kitti_infos_test.pkl'\n",
    "\n",
    "\n",
    "cam_type = 'CAM_BACK'\n",
    "result = inference_mono_3d_detector(model, image_file, ann_file, cam_type)\n",
    "\n",
    "img = mmcv.imread(image_file)\n",
    "img = mmcv.imconvert(img, 'bgr', 'rgb')\n",
    "data_input = dict(img=img)\n",
    "# show the results\n",
    "visualizer.add_datasample(\n",
    "    'result',\n",
    "    data_input,\n",
    "    data_sample=result,\n",
    "    draw_gt=False,\n",
    "    show=False,\n",
    "    wait_time=0,\n",
    "    out_file='demo',\n",
    "    pred_score_thr=0.30,\n",
    "    vis_task='mono_det')"
   ]
  }
 ],
 "metadata": {
  "kernelspec": {
   "display_name": "openmmlab",
   "language": "python",
   "name": "python3"
  },
  "language_info": {
   "codemirror_mode": {
    "name": "ipython",
    "version": 3
   },
   "file_extension": ".py",
   "mimetype": "text/x-python",
   "name": "python",
   "nbconvert_exporter": "python",
   "pygments_lexer": "ipython3",
   "version": "3.8.16"
  },
  "orig_nbformat": 4
 },
 "nbformat": 4,
 "nbformat_minor": 2
}
