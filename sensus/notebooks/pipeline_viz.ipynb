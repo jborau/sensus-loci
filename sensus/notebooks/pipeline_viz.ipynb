{
 "cells": [
  {
   "cell_type": "code",
   "execution_count": 1,
   "metadata": {},
   "outputs": [
    {
     "name": "stdout",
     "output_type": "stream",
     "text": [
      "Jupyter environment detected. Enabling Open3D WebVisualizer.\n",
      "[Open3D INFO] WebRTC GUI backend enabled.\n",
      "[Open3D INFO] WebRTCWindowSystem: HTTP handshake server disabled.\n",
      "[Open3D INFO] Resetting default logger to print to terminal.\n"
     ]
    }
   ],
   "source": [
    "%load_ext autoreload\n",
    "%autoreload 2\n",
    "\n",
    "import os.path as osp\n",
    "import sys\n",
    "from mmengine.config import Config, DictAction\n",
    "from mmengine.runner import Runner\n",
    "\n",
    "from mmdet3d.datasets import *\n",
    "from torch.utils.data import DataLoader\n",
    "\n",
    "sys.path.append('../tools')\n",
    "from visualizer import ImageVisualizer, draw_monodetection_labels, draw_monodetection_results, draw_monolabels_from_config"
   ]
  },
  {
   "cell_type": "code",
   "execution_count": 3,
   "metadata": {},
   "outputs": [
    {
     "name": "stdout",
     "output_type": "stream",
     "text": [
      "10/14 17:53:16 - mmengine - \u001b[4m\u001b[97mINFO\u001b[0m - ------------------------------\n",
      "10/14 17:53:16 - mmengine - \u001b[4m\u001b[97mINFO\u001b[0m - The length of the dataset: 5653\n",
      "10/14 17:53:16 - mmengine - \u001b[4m\u001b[97mINFO\u001b[0m - The number of instances per category in the dataset:\n",
      "+------------+--------+\n",
      "| category   | number |\n",
      "+------------+--------+\n",
      "| Pedestrian | 20266  |\n",
      "| Cyclist    | 13853  |\n",
      "| Car        | 84073  |\n",
      "+------------+--------+\n",
      "/home/javier/datasets/DAIR/single-infrastructure-side-mmdet/training/image_2/004041.png\n",
      "[2183.375019, 0.0, 940.590363, 0.0, 0.0, 2329.297332, 567.568513, 0.0, 0.0, 0.0, 1.0, 0.0]\n",
      "[1.4836070537567139, 1.9794689416885376, 4.39279317855835]\n",
      "[1.0624860525131226, 3.2255666255950928, 19.241079330444336]\n",
      "-1.5651224851608276\n",
      "[1.702968955039978, 0.510125994682312, 0.5786269903182983]\n",
      "[-0.5916775465011597, 0.43783900141716003, 31.46026039123535]\n",
      "3.137782096862793\n",
      "[1.5589369535446167, 1.8410149812698364, 4.7718939781188965]\n",
      "[7.846327781677246, -2.4178450107574463, 44.05837631225586]\n",
      "3.0972232818603516\n",
      "[1.4958109855651855, 2.019360065460205, 4.206157207489014]\n",
      "[-2.1745502948760986, 3.489691734313965, 17.78750228881836]\n",
      "-1.5785092115402222\n",
      "[1.7633049488067627, 0.5695539712905884, 0.6359239816665649]\n",
      "[-0.7411906719207764, 0.7295425534248352, 30.134559631347656]\n",
      "3.137786388397217\n",
      "{'P2': [2183.375019, 0.0, 940.590363, 0.0, 0.0, 2329.297332, 567.568513, 0.0, 0.0, 0.0, 1.0, 0.0]}\n"
     ]
    }
   ],
   "source": [
    "config_file = '/home/javier/sensus-loci/sensus/configs/smoke/smoke_dla34_dlaneck_gn-all_4xb8-6x_dair-mono3d.py'\n",
    "sample_id = 3\n",
    "cfg = draw_monolabels_from_config(config_file, sample_id)\n"
   ]
  },
  {
   "cell_type": "code",
   "execution_count": 17,
   "metadata": {},
   "outputs": [
    {
     "name": "stdout",
     "output_type": "stream",
     "text": [
      "{'type': 'KittiDataset', 'data_root': '/home/javier/datasets/DAIR/single-infrastructure-side-mmdet/', 'ann_file': 'kitti_infos_train.pkl', 'data_prefix': {'img': 'training/image_2'}, 'pipeline': [{'type': 'LoadImageFromFileMono3D', 'backend_args': None}, {'type': 'LoadAnnotations3D', 'with_bbox': True, 'with_label': True, 'with_attr_label': False, 'with_bbox_3d': True, 'with_label_3d': True, 'with_bbox_depth': True}, {'type': 'RandomFlip3D', 'flip_ratio_bev_horizontal': 0.5}, {'type': 'RandomShiftScale', 'shift_scale': (0.2, 0.4), 'aug_prob': 0.3}, {'type': 'AffineResize', 'img_scale': (1920, 1080), 'down_ratio': 4}, {'type': 'Pack3DDetInputs', 'keys': ['img', 'gt_bboxes', 'gt_bboxes_labels', 'gt_bboxes_3d', 'gt_labels_3d', 'centers_2d', 'depths']}], 'modality': {'use_lidar': False, 'use_camera': True}, 'load_type': 'fov_image_based', 'test_mode': False, 'metainfo': {'classes': ['Pedestrian', 'Cyclist', 'Car']}, 'box_type_3d': 'Camera', 'backend_args': None}\n"
     ]
    }
   ],
   "source": [
    "train_data_cfg = cfg['train_dataloader']['dataset']\n",
    "print(train_data_cfg)\n"
   ]
  },
  {
   "cell_type": "code",
   "execution_count": 18,
   "metadata": {},
   "outputs": [
    {
     "name": "stdout",
     "output_type": "stream",
     "text": [
      "{'type': 'KittiDataset', 'data_root': '/home/javier/datasets/DAIR/single-infrastructure-side-mmdet/', 'ann_file': 'kitti_infos_train.pkl', 'data_prefix': {'img': 'training/image_2'}, 'pipeline': [{'type': 'LoadImageFromFileMono3D', 'backend_args': None}, {'type': 'LoadAnnotations3D', 'with_bbox': True, 'with_label': True, 'with_attr_label': False, 'with_bbox_3d': True, 'with_label_3d': True, 'with_bbox_depth': True}, {'type': 'RandomFlip3D', 'flip_ratio_bev_horizontal': 0.5}, {'type': 'RandomShiftScale', 'shift_scale': (0.2, 0.4), 'aug_prob': 0.3}, {'type': 'AffineResize', 'img_scale': (1920, 1080), 'down_ratio': 4}, {'type': 'Pack3DDetInputs', 'keys': ['img', 'gt_bboxes', 'gt_bboxes_labels', 'gt_bboxes_3d', 'gt_labels_3d', 'centers_2d', 'depths']}], 'modality': {'use_lidar': False, 'use_camera': True}, 'load_type': 'fov_image_based', 'test_mode': False, 'metainfo': {'classes': ['Pedestrian', 'Cyclist', 'Car']}, 'box_type_3d': 'Camera', 'backend_args': None}\n"
     ]
    }
   ],
   "source": [
    "print(train_data_cfg)"
   ]
  },
  {
   "cell_type": "code",
   "execution_count": 19,
   "metadata": {},
   "outputs": [
    {
     "name": "stdout",
     "output_type": "stream",
     "text": [
      "10/05 16:24:40 - mmengine - \u001b[4m\u001b[97mINFO\u001b[0m - ------------------------------\n",
      "10/05 16:24:40 - mmengine - \u001b[4m\u001b[97mINFO\u001b[0m - The length of the dataset: 5653\n",
      "10/05 16:24:40 - mmengine - \u001b[4m\u001b[97mINFO\u001b[0m - The number of instances per category in the dataset:\n",
      "+------------+--------+\n",
      "| category   | number |\n",
      "+------------+--------+\n",
      "| Pedestrian | 20266  |\n",
      "| Cyclist    | 13853  |\n",
      "| Car        | 84073  |\n",
      "+------------+--------+\n",
      "10/05 16:24:49 - mmengine - \u001b[4m\u001b[97mINFO\u001b[0m - ------------------------------\n",
      "10/05 16:24:49 - mmengine - \u001b[4m\u001b[97mINFO\u001b[0m - The length of the dataset: 5653\n",
      "10/05 16:24:49 - mmengine - \u001b[4m\u001b[97mINFO\u001b[0m - The number of instances per category in the dataset:\n",
      "+------------+--------+\n",
      "| category   | number |\n",
      "+------------+--------+\n",
      "| Pedestrian | 20266  |\n",
      "| Cyclist    | 13853  |\n",
      "| Car        | 84073  |\n",
      "+------------+--------+\n"
     ]
    }
   ],
   "source": [
    "# Obtener el tipo de conjunto de datos y luego eliminar el campo \"type\" de la configuración\n",
    "dataset_type = train_data_cfg.pop(\"type\")\n",
    "\n",
    "# Usar globals() para obtener la clase y luego instanciarla\n",
    "DatasetClass = globals()[dataset_type]\n",
    "train_dataset = DatasetClass(**train_data_cfg)\n",
    "train_dataset = KittiDataset(**train_data_cfg)\n"
   ]
  },
  {
   "cell_type": "code",
   "execution_count": 13,
   "metadata": {},
   "outputs": [],
   "source": [
    "sample = train_dataset[0]  # This will give you the first item in the dataset."
   ]
  },
  {
   "cell_type": "code",
   "execution_count": 14,
   "metadata": {},
   "outputs": [
    {
     "name": "stdout",
     "output_type": "stream",
     "text": [
      "/home/javier/datasets/DAIR/single-infrastructure-side-mmdet/training/image_2/000420.png\n"
     ]
    }
   ],
   "source": [
    "img_path = sample['data_samples'].img_path\n",
    "\n",
    "print(img_path)"
   ]
  },
  {
   "cell_type": "code",
   "execution_count": 15,
   "metadata": {},
   "outputs": [
    {
     "name": "stdout",
     "output_type": "stream",
     "text": [
      "[[2183.375019, 0.0, 940.590363, 0.0], [0.0, 2329.297332, 567.568513, 0.0], [0.0, 0.0, 1.0, 0.0], [0.0, 0.0, 0.0, 1.0]]\n",
      "[[-2.98502352e-02 -9.96147215e-01  1.45273365e-03 -2.28539348e+00]\n",
      " [-2.23098665e-01  2.12258496e-03 -8.56588423e-01  5.62775612e+00]\n",
      " [ 9.74099755e-01 -4.10278775e-02 -1.90818235e-01  1.41027522e+00]\n",
      " [ 0.00000000e+00  0.00000000e+00  0.00000000e+00  1.00000000e+00]]\n"
     ]
    }
   ],
   "source": [
    "lidar_to_cam = sample['data_samples'].lidar2cam\n",
    "cam_to_img = sample['data_samples'].cam2img\n",
    "print(cam_to_img)\n",
    "print(lidar_to_cam)"
   ]
  },
  {
   "cell_type": "code",
   "execution_count": 16,
   "metadata": {},
   "outputs": [
    {
     "name": "stdout",
     "output_type": "stream",
     "text": [
      "tensor([[ 4.6987e+00,  9.5145e-01,  2.8951e+01,  4.6676e+00,  1.4991e+00,\n",
      "          1.8193e+00, -1.5293e+00],\n",
      "        [-2.5179e+00, -1.4620e+01,  9.6542e+01,  4.2137e+00,  1.8276e+00,\n",
      "          1.9293e+00, -1.5667e+00],\n",
      "        [ 4.3949e+00, -2.9864e+01,  1.6471e+02,  4.3024e+00,  1.5420e+00,\n",
      "          1.8503e+00, -1.5700e+00],\n",
      "        [ 4.8977e-01, -2.4962e+01,  1.4133e+02,  4.3181e+00,  1.5729e+00,\n",
      "          1.5752e+00, -1.5604e+00],\n",
      "        [-1.1801e+01,  4.8713e-01,  2.9914e+01,  5.5835e-01,  1.5633e+00,\n",
      "          5.2690e-01, -2.9515e+00],\n",
      "        [-5.3893e+00,  2.8436e+00,  2.0108e+01,  4.1925e+00,  1.4915e+00,\n",
      "          1.9711e+00, -1.5773e+00],\n",
      "        [-2.3052e+01, -1.0694e+01,  7.9779e+01,  4.1110e+00,  1.6344e+00,\n",
      "          1.8950e+00,  1.6070e+00],\n",
      "        [-2.8183e+00, -2.3708e+01,  1.3609e+02,  4.3335e+00,  1.5319e+00,\n",
      "          2.3326e+00, -1.5614e+00],\n",
      "        [ 8.4806e-01, -3.6094e+01,  1.9096e+02,  2.6170e-01,  6.2944e-01,\n",
      "          1.7493e+00, -1.5585e+00],\n",
      "        [ 1.5972e+00,  2.7396e+00,  2.0873e+01,  4.1341e+00,  1.4802e+00,\n",
      "          1.9493e+00, -1.5700e+00],\n",
      "        [ 1.3250e-01, -2.0582e+01,  1.2290e+02,  4.2894e+00,  1.5091e+00,\n",
      "          1.8069e+00, -1.6399e+00],\n",
      "        [ 3.6868e+00, -2.4730e+01,  1.4089e+02,  4.3561e+00,  1.5232e+00,\n",
      "          1.8450e+00, -1.5708e+00],\n",
      "        [-5.0032e+01, -2.4598e+01,  1.4244e+02,  6.1966e+00,  2.2323e+00,\n",
      "          2.4592e+00,  6.5010e-03],\n",
      "        [-1.0202e+01, -9.0907e-01,  3.6348e+01,  4.2664e+00,  1.7662e+00,\n",
      "          1.9275e+00, -2.2538e+00],\n",
      "        [-6.2148e+00,  2.4884e-01,  3.1416e+01,  4.3939e+00,  1.4600e+00,\n",
      "          1.8002e+00, -1.8581e+00]])\n"
     ]
    }
   ],
   "source": [
    "gt_boxes_3d = sample['data_samples'].gt_instances_3d.bboxes_3d.tensor\n",
    "print(gt_boxes_3d)"
   ]
  },
  {
   "cell_type": "code",
   "execution_count": 16,
   "metadata": {},
   "outputs": [
    {
     "name": "stdout",
     "output_type": "stream",
     "text": [
      "{'data_samples': <Det3DDataSample(\n",
      "\n",
      "    META INFORMATION\n",
      "    affine_aug: True\n",
      "    cam2img: [[2183.375019, 0.0, 979.409637, 0.0], [0.0, 2329.297332, 567.568513, 0.0], [0.0, 0.0, 1.0, 0.0], [0.0, 0.0, 0.0, 1.0]]\n",
      "    transformation_3d_flow: ['HF']\n",
      "    lidar2cam: array([[-2.98502352e-02, -9.96147215e-01,  1.45273365e-03,\n",
      "                -2.28539348e+00],\n",
      "               [-2.23098665e-01,  2.12258496e-03, -8.56588423e-01,\n",
      "                 5.62775612e+00],\n",
      "               [ 9.74099755e-01, -4.10278775e-02, -1.90818235e-01,\n",
      "                 1.41027522e+00],\n",
      "               [ 0.00000000e+00,  0.00000000e+00,  0.00000000e+00,\n",
      "                 1.00000000e+00]])\n",
      "    box_type_3d: <class 'mmdet3d.structures.bbox_3d.cam_box3d.CameraInstance3DBoxes'>\n",
      "    lidar2img: array([[ 8.51054585e+02, -2.21355337e+03, -1.76309931e+02,\n",
      "                -3.66337974e+03],\n",
      "               [ 3.32052234e+01, -1.83419999e+01, -2.10355155e+03,\n",
      "                 1.39091451e+04],\n",
      "               [ 9.74099755e-01, -4.10278775e-02, -1.90818235e-01,\n",
      "                 1.41027522e+00],\n",
      "               [ 0.00000000e+00,  0.00000000e+00,  0.00000000e+00,\n",
      "                 1.00000000e+00]])\n",
      "    pad_shape: (1080, 1920, 3)\n",
      "    flip: True\n",
      "    img_shape: (1080, 1920, 3)\n",
      "    ori_shape: (1080, 1920)\n",
      "    pcd_horizontal_flip: True\n",
      "    box_mode_3d: <Box3DMode.CAM: 1>\n",
      "    pcd_vertical_flip: False\n",
      "    sample_idx: 0\n",
      "    trans_mat: array([[  0.41666666,  -0.        , -80.        ],\n",
      "               [  0.        ,   0.41666666, -45.        ],\n",
      "               [  0.        ,   0.        ,   1.        ]], dtype=float32)\n",
      "    img_path: '/home/javier/datasets/DAIR/single-infrastructure-side-mmdet/training/image_2/000420.png'\n",
      "\n",
      "    DATA FIELDS\n",
      "    gt_pts_seg: <PointData(\n",
      "        \n",
      "            META INFORMATION\n",
      "        \n",
      "            DATA FIELDS\n",
      "        ) at 0x7f94a7b32370>\n",
      "    gt_instances: <InstanceData(\n",
      "        \n",
      "            META INFORMATION\n",
      "        \n",
      "            DATA FIELDS\n",
      "            bboxes: tensor([[ 557.9537,  685.9687,  860.7725,  904.9022],\n",
      "                        [1369.3324,   89.7692, 1446.8689,  190.6226],\n",
      "                        [1193.2966,   15.9337, 1236.6426,   71.1534],\n",
      "                        [1279.3810,   25.7090, 1320.7251,   90.6225],\n",
      "                        [1355.3022,   34.2215, 1421.1658,  100.2826],\n",
      "                        [1279.5134,   18.8284, 1312.8855,   32.7220],\n",
      "                        [1276.7545,   55.4396, 1339.0453,  127.2780],\n",
      "                        [1191.4296,   31.1977, 1242.0415,   94.9006]])\n",
      "            labels: tensor([2, 2, 2, 2, 2, 2, 2, 2])\n",
      "        ) at 0x7f94a7babf70>\n",
      "    eval_ann_info: None\n",
      "    gt_instances_3d: <InstanceData(\n",
      "        \n",
      "            META INFORMATION\n",
      "        \n",
      "            DATA FIELDS\n",
      "            depths: tensor([ 28.9514,  96.5418, 164.7120, 141.3269, 136.0859, 190.9629, 122.9047,\n",
      "                        140.8905])\n",
      "            labels_3d: tensor([2, 2, 2, 2, 2, 2, 2, 2])\n",
      "            centers_2d: tensor([[ 721.7551,  793.0220],\n",
      "                        [1407.2559,  141.2984],\n",
      "                        [1215.2528,   43.9043],\n",
      "                        [1299.7383,   58.6635],\n",
      "                        [1387.7124,   67.7807],\n",
      "                        [1296.1890,   25.7804],\n",
      "                        [1308.4263,   92.0023],\n",
      "                        [1217.1267,   63.5415]])\n",
      "            bboxes_3d: CameraInstance3DBoxes(\n",
      "                    tensor([[-4.6987e+00,  9.5145e-01,  2.8951e+01,  4.6676e+00,  1.4991e+00,\n",
      "                          1.8193e+00,  4.6709e+00],\n",
      "                        [ 2.5179e+00, -1.4620e+01,  9.6542e+01,  4.2137e+00,  1.8276e+00,\n",
      "                          1.9293e+00,  4.7083e+00],\n",
      "                        [-4.3949e+00, -2.9864e+01,  1.6471e+02,  4.3024e+00,  1.5420e+00,\n",
      "                          1.8503e+00,  4.7116e+00],\n",
      "                        [-4.8977e-01, -2.4962e+01,  1.4133e+02,  4.3181e+00,  1.5729e+00,\n",
      "                          1.5752e+00,  4.7019e+00],\n",
      "                        [ 2.8183e+00, -2.3708e+01,  1.3609e+02,  4.3335e+00,  1.5319e+00,\n",
      "                          2.3326e+00,  4.7030e+00],\n",
      "                        [-8.4806e-01, -3.6094e+01,  1.9096e+02,  2.6170e-01,  6.2944e-01,\n",
      "                          1.7493e+00,  4.7001e+00],\n",
      "                        [-1.3250e-01, -2.0582e+01,  1.2290e+02,  4.2894e+00,  1.5091e+00,\n",
      "                          1.8069e+00,  4.7815e+00],\n",
      "                        [-3.6868e+00, -2.4730e+01,  1.4089e+02,  4.3561e+00,  1.5232e+00,\n",
      "                          1.8450e+00,  4.7124e+00]]))\n",
      "        ) at 0x7f94a7babd90>\n",
      ") at 0x7f9594c68c10>, 'inputs': {'img': tensor([[[ 88,  99, 104,  ..., 105, 117, 132],\n",
      "         [ 88,  99, 104,  ..., 103, 115, 131],\n",
      "         [ 88,  99, 104,  ..., 101, 113, 130],\n",
      "         ...,\n",
      "         [225, 226, 227,  ..., 158, 158, 160],\n",
      "         [231, 232, 233,  ..., 160, 160, 162],\n",
      "         [228, 228, 229,  ..., 159, 159, 161]],\n",
      "\n",
      "        [[ 61,  72,  77,  ...,  92, 103, 118],\n",
      "         [ 61,  72,  77,  ...,  91, 103, 119],\n",
      "         [ 61,  72,  77,  ...,  92, 103, 118],\n",
      "         ...,\n",
      "         [196, 197, 198,  ..., 162, 162, 163],\n",
      "         [204, 204, 205,  ..., 164, 164, 165],\n",
      "         [202, 202, 202,  ..., 163, 163, 164]],\n",
      "\n",
      "        [[ 47,  58,  63,  ...,  94, 107, 119],\n",
      "         [ 47,  58,  63,  ...,  93, 105, 119],\n",
      "         [ 47,  58,  63,  ...,  91, 103, 118],\n",
      "         ...,\n",
      "         [122, 123, 124,  ..., 163, 163, 164],\n",
      "         [130, 130, 131,  ..., 165, 165, 166],\n",
      "         [128, 129, 129,  ..., 164, 164, 165]]], dtype=torch.uint8)}}\n"
     ]
    }
   ],
   "source": [
    "print(sample)\n"
   ]
  }
 ],
 "metadata": {
  "kernelspec": {
   "display_name": "openmmlab",
   "language": "python",
   "name": "python3"
  },
  "language_info": {
   "codemirror_mode": {
    "name": "ipython",
    "version": 3
   },
   "file_extension": ".py",
   "mimetype": "text/x-python",
   "name": "python",
   "nbconvert_exporter": "python",
   "pygments_lexer": "ipython3",
   "version": "3.8.18"
  },
  "orig_nbformat": 4
 },
 "nbformat": 4,
 "nbformat_minor": 2
}
