{
 "cells": [
  {
   "cell_type": "code",
   "execution_count": 1,
   "metadata": {},
   "outputs": [
    {
     "name": "stdout",
     "output_type": "stream",
     "text": [
      "Jupyter environment detected. Enabling Open3D WebVisualizer.\n",
      "[Open3D INFO] WebRTC GUI backend enabled.\n",
      "[Open3D INFO] WebRTCWindowSystem: HTTP handshake server disabled.\n",
      "[Open3D INFO] Resetting default logger to print to terminal.\n"
     ]
    }
   ],
   "source": [
    "%load_ext autoreload\n",
    "%autoreload 2\n",
    "import mmcv\n",
    "from mmdet3d.apis import inference_mono_3d_detector, init_model\n",
    "from mmdet3d.registry import VISUALIZERS\n",
    "from mmengine import load, dump\n",
    "from mmdet3d.registry import VISUALIZERS\n",
    "import cv2\n",
    "import numpy as np\n",
    "import sys\n",
    "from sensus.tools.new_visualizer import draw_monodetection_labels, draw_monodetection_results\n",
    "from sensus.tools.data_processor_old import DataProcessor\n",
    "import pickle"
   ]
  },
  {
   "cell_type": "code",
   "execution_count": 13,
   "metadata": {},
   "outputs": [],
   "source": [
    "file = '000369'\n",
    "dataset = 'dair'\n",
    "if dataset == 'kitti':\n",
    "    img_file = '/home/javier/datasets/kitti/training/image_2/' + file + '.png'\n",
    "    labels_file = '/home/javier/datasets/kitti/training/label_2/'+ file + '.txt'\n",
    "    calib_file = '/home/javier/datasets/kitti/training/calib/'+ file + '.txt'\n",
    "    pitch = 0.0\n",
    "elif dataset == 'dair':\n",
    "    img_file = '/home/javier/datasets/DAIR-V2X/single-infrastructure-side-mmdet/training/image_2/' + file + '.png'\n",
    "    labels_file = '/home/javier/datasets/DAIR-V2X/single-infrastructure-side-mmdet/training/label_2/'+ file + '.txt'\n",
    "    calib_file = '/home/javier/datasets/DAIR-V2X/single-infrastructure-side-mmdet/training/calib/'+ file + '.txt'\n",
    "    pitch = 0.2031\n",
    "\n",
    "ann_file = '/home/javier/sensus-loci/sensus/notebooks/data.pkl'\n",
    "cam_type = 'CAM_BACK'"
   ]
  },
  {
   "cell_type": "code",
   "execution_count": 14,
   "metadata": {},
   "outputs": [
    {
     "name": "stdout",
     "output_type": "stream",
     "text": [
      "Data saved to /home/javier/sensus-loci/sensus/notebooks/data.pkl\n"
     ]
    }
   ],
   "source": [
    "def create_pkl(file_name, calib_file, cam_type = 'CAM_BACK', pkl_path = 'data.pkl'):\n",
    "    # Get the camera to image matrix\n",
    "    array = DataProcessor(None, calib_file).process_calib_file()['P2']\n",
    "\n",
    "    # Remove the last 3 elements of the array\n",
    "    indices_to_remove = [3, 7, 11]\n",
    "    array = [array[i] for i in range(len(array)) if i not in indices_to_remove]\n",
    "\n",
    "    # Reshape the array into a 3x3 matrix\n",
    "    cam2img = [array[i:i+3] for i in range(0, len(array), 3)]\n",
    "\n",
    "    # Create the data dictionary\n",
    "    data = [{'images': {cam_type: {'img_path': f'{file_name}.png', 'cam2img': cam2img}}}]\n",
    "\n",
    "    # Save data to the pkl file\n",
    "    with open(pkl_path, \"wb\") as file:\n",
    "        pickle.dump(data, file)\n",
    "\n",
    "    print(f\"Data saved to {pkl_path}\")\n",
    "create_pkl(file, calib_file, cam_type, ann_file)"
   ]
  },
  {
   "cell_type": "markdown",
   "metadata": {},
   "source": [
    "## Draw Labels"
   ]
  },
  {
   "cell_type": "code",
   "execution_count": 16,
   "metadata": {},
   "outputs": [],
   "source": [
    "draw_monodetection_labels(img_file, calib_file, labels_file, num_cars=15, thickness=3, out_path='labels')"
   ]
  },
  {
   "cell_type": "markdown",
   "metadata": {},
   "source": [
    "## Inference"
   ]
  },
  {
   "cell_type": "code",
   "execution_count": 10,
   "metadata": {},
   "outputs": [
    {
     "name": "stdout",
     "output_type": "stream",
     "text": [
      "Loads checkpoint by local backend from path: /home/javier/sensus-loci/mmdetection3d/checkpoints/smoke_dla34_pytorch_dlaneck_gn-all_8x4_6x_kitti-mono3d_20210929_015553-d46d9bb0.pth\n"
     ]
    },
    {
     "name": "stderr",
     "output_type": "stream",
     "text": [
      "/home/javier/miniconda3/envs/openmmlab/lib/python3.8/site-packages/mmengine/utils/manager.py:113: UserWarning: <class 'mmdet3d.visualization.local_visualizer.Det3DLocalVisualizer'> instance named of visualizer has been created, the method `get_instance` should not accept any other arguments\n",
      "  warnings.warn(\n"
     ]
    }
   ],
   "source": [
    "config_file = '/home/javier/sensus-loci/sensus/configs/smoke/smoke_dla34_dlaneck_gn-all_4xb8-6x_dair-mono3d_pretrained_kitty.py'\n",
    "config_file = '/home/javier/sensus-loci/work_dirs/exp/good/sensus_config_bueno/sensus_config.py'\n",
    "\n",
    "checkpoint_file = '/home/javier/sensus-loci/work_dirs/smoke_dla34_dlaneck_gn-all_4xb8-6x_dair-mono3d_pretrained_kitty/epoch_100.pth'\n",
    "checkpoint_file = '/home/javier/sensus-loci/work_dirs/exp/good/sensus_config_bueno/epoch_100.pth'\n",
    "\n",
    "config_file = '/home/javier/sensus-loci/work_dirs/smoke_dla34_dlaneck_gn-all_4xb8-6x_dair-mono3d_pretrained_kitty/smoke_dla34_dlaneck_gn-all_4xb8-6x_dair-mono3d_pretrained_kitty.py'\n",
    "checkpoint_file = '/home/javier/sensus-loci/work_dirs/smoke_dla34_dlaneck_gn-all_4xb8-6x_dair-mono3d_pretrained_kitty/epoch_100.pth'\n",
    "\n",
    "config_file = '/home/javier/sensus-loci/mmdetection3d/configs/smoke/smoke_dla34_dlaneck_gn-all_4xb8-6x_kitti-mono3d.py'\n",
    "checkpoint_file = '/home/javier/sensus-loci/mmdetection3d/checkpoints/smoke_dla34_pytorch_dlaneck_gn-all_8x4_6x_kitti-mono3d_20210929_015553-d46d9bb0.pth'\n",
    "\n",
    "device = 'cuda:1'\n",
    "model_mmdet = init_model(config_file, checkpoint_file, device=device)\n",
    "result = inference_mono_3d_detector(model_mmdet, img_file, ann_file, cam_type)\n",
    "\n",
    "# init visualizer\n",
    "visualizer_mmdet = VISUALIZERS.build(model_mmdet.cfg.visualizer)\n",
    "visualizer_mmdet.dataset_meta = model_mmdet.dataset_meta"
   ]
  },
  {
   "cell_type": "code",
   "execution_count": 11,
   "metadata": {},
   "outputs": [
    {
     "name": "stdout",
     "output_type": "stream",
     "text": [
      "<InstanceData(\n",
      "\n",
      "    META INFORMATION\n",
      "\n",
      "    DATA FIELDS\n",
      "    labels_3d: tensor([2], device='cuda:1')\n",
      "    scores_3d: tensor([0.3033], device='cuda:1')\n",
      "    bboxes_3d: CameraInstance3DBoxes(\n",
      "            tensor([[ 2.8010, -0.4806, 21.7401,  3.8909,  1.6409,  1.6649, -1.4379]],\n",
      "               device='cuda:1'))\n",
      ") at 0x7f92b5b59bb0>\n"
     ]
    }
   ],
   "source": [
    "print(result.pred_instances_3d)"
   ]
  },
  {
   "cell_type": "markdown",
   "metadata": {},
   "source": [
    "## MMDet Viz"
   ]
  },
  {
   "cell_type": "code",
   "execution_count": 9,
   "metadata": {},
   "outputs": [
    {
     "name": "stderr",
     "output_type": "stream",
     "text": [
      "/home/javier/miniconda3/envs/openmmlab/lib/python3.8/site-packages/mmengine/visualization/visualizer.py:812: UserWarning: Warning: The polygon is out of bounds, the drawn polygon may not be in the image\n",
      "  warnings.warn(\n"
     ]
    }
   ],
   "source": [
    "img = mmcv.imread(img_file)\n",
    "img = mmcv.imconvert(img, 'bgr', 'rgb')\n",
    "data_input = dict(img=img)\n",
    "# show the results\n",
    "visualizer_mmdet.add_datasample(\n",
    "    'result',\n",
    "    data_input,\n",
    "    data_sample=result,\n",
    "    draw_gt=False,\n",
    "    show=True,\n",
    "    wait_time=0,\n",
    "    out_file='result_mmdet',\n",
    "    pred_score_thr= 0.30,\n",
    "    vis_task='mono_det')"
   ]
  },
  {
   "cell_type": "markdown",
   "metadata": {},
   "source": [
    "## Sensus Viz"
   ]
  },
  {
   "cell_type": "code",
   "execution_count": 12,
   "metadata": {},
   "outputs": [],
   "source": [
    "draw_monodetection_results(img_file, calib_file, result, score=0.3, thickness=3, out_path='result_bad', index_car=2)"
   ]
  }
 ],
 "metadata": {
  "kernelspec": {
   "display_name": "openmmlab",
   "language": "python",
   "name": "python3"
  },
  "language_info": {
   "codemirror_mode": {
    "name": "ipython",
    "version": 3
   },
   "file_extension": ".py",
   "mimetype": "text/x-python",
   "name": "python",
   "nbconvert_exporter": "python",
   "pygments_lexer": "ipython3",
   "version": "3.8.18"
  },
  "orig_nbformat": 4
 },
 "nbformat": 4,
 "nbformat_minor": 2
}
