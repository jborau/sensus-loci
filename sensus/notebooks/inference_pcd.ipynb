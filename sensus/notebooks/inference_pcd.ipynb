{
 "cells": [
  {
   "attachments": {},
   "cell_type": "markdown",
   "metadata": {},
   "source": [
    "# Inference PointCloud MMDetection3D"
   ]
  },
  {
   "cell_type": "code",
   "execution_count": 2,
   "metadata": {},
   "outputs": [
    {
     "name": "stdout",
     "output_type": "stream",
     "text": [
      "Jupyter environment detected. Enabling Open3D WebVisualizer.\n",
      "[Open3D INFO] WebRTC GUI backend enabled.\n",
      "[Open3D INFO] WebRTCWindowSystem: HTTP handshake server disabled.\n",
      "[Open3D INFO] Resetting default logger to print to terminal.\n"
     ]
    }
   ],
   "source": [
    "import pickle\n",
    "import os\n",
    "\n",
    "import open3d as o3d\n",
    "import numpy as np\n",
    "from open3d.web_visualizer import draw\n",
    "import matplotlib.pyplot as plt\n",
    "import matplotlib.image as mpimg\n",
    "\n",
    "import mmdet3d\n",
    "\n",
    "from mmdet3d.apis import inference_detector, init_model\n",
    "# from sensus.utils.data_converter import pc2pc_object\n",
    "from mmdet3d.utils import register_all_modules\n",
    "\n",
    "\n"
   ]
  },
  {
   "attachments": {},
   "cell_type": "markdown",
   "metadata": {},
   "source": [
    "# KITTI Dataset and MODEL"
   ]
  },
  {
   "cell_type": "code",
   "execution_count": 4,
   "metadata": {},
   "outputs": [],
   "source": [
    "import numpy as np\n",
    "from mmdet3d.structures.points import get_points_type\n",
    "from mmdet3d.datasets.transforms.loading import LoadPointsFromFile\n",
    "\n",
    "def pc2pc_object(pc, pipeline):\n",
    "    pipeline_dict = {**pipeline[0]}\n",
    "    assert pipeline_dict['type'] == 'LoadPointsFromFile'\n",
    "    pipeline_dict.pop('type')\n",
    "    pc_loader = LoadPointsFromFile(**pipeline_dict)\n",
    "\n",
    "    pc = pc.reshape(-1, pc_loader.load_dim)\n",
    "    pc = pc[:, pc_loader.use_dim]\n",
    "    if pc_loader.norm_intensity:\n",
    "            assert len(pc_loader.use_dim) >= 4, \\\n",
    "                f'When using intensity norm, expect used dimensions >= 4, got {len(pc_loader.use_dim)}'  # noqa: E501\n",
    "            pc[:, 3] = np.tanh(pc[:, 3])\n",
    "    attribute_dims = None\n",
    "\n",
    "    if pc_loader.shift_height:\n",
    "        floor_height = np.percentile(pc[:, 2], 0.99)\n",
    "        height = pc[:, 2] - floor_height\n",
    "        pc = np.concatenate(\n",
    "            [pc[:, :3],\n",
    "                np.expand_dims(height, 1), pc[:, 3:]], 1)\n",
    "        attribute_dims = dict(height=3)\n",
    "\n",
    "    if pc_loader.use_color:\n",
    "        assert len(pc_loader.use_dim) >= 6\n",
    "        if attribute_dims is None:\n",
    "            attribute_dims = dict()\n",
    "        attribute_dims.update(\n",
    "            dict(color=[\n",
    "                pc.shape[1] - 3,\n",
    "                pc.shape[1] - 2,\n",
    "                pc.shape[1] - 1,\n",
    "            ]))\n",
    "\n",
    "    points_class = get_points_type(pc_loader.coord_type)\n",
    "    pc_object = points_class(\n",
    "        pc, points_dim=pc.shape[-1], attribute_dims=attribute_dims)\n",
    "\n",
    "    return pc_object, pc"
   ]
  },
  {
   "cell_type": "code",
   "execution_count": 5,
   "metadata": {},
   "outputs": [
    {
     "name": "stderr",
     "output_type": "stream",
     "text": [
      "/home/javier/sensus-loci/mmdetection3d/mmdet3d/models/dense_heads/anchor3d_head.py:92: UserWarning: dir_offset and dir_limit_offset will be depressed and be incorporated into box coder in the future\n",
      "  warnings.warn(\n"
     ]
    },
    {
     "name": "stdout",
     "output_type": "stream",
     "text": [
      "Loads checkpoint by local backend from path: ../../mmdetection3d/checkpoints/hv_second_secfpn_6x8_80e_kitti-3d-car_20200620_230238-393f000c.pth\n"
     ]
    },
    {
     "name": "stderr",
     "output_type": "stream",
     "text": [
      "/home/javier/miniconda3/envs/openmmlab/lib/python3.8/site-packages/torch/functional.py:504: UserWarning: torch.meshgrid: in an upcoming release, it will be required to pass the indexing argument. (Triggered internally at /opt/conda/conda-bld/pytorch_1670525552411/work/aten/src/ATen/native/TensorShape.cpp:3190.)\n",
      "  return _VF.meshgrid(tensors, **kwargs)  # type: ignore[attr-defined]\n"
     ]
    }
   ],
   "source": [
    "register_all_modules()\n",
    "\n",
    "## Build the model from a config file and a checkpoint file\n",
    "config_file = '../../mmdetection3d/configs/second/second_hv_secfpn_8xb6-80e_kitti-3d-car.py'\n",
    "checkpoint_file = '../../mmdetection3d/checkpoints/hv_second_secfpn_6x8_80e_kitti-3d-car_20200620_230238-393f000c.pth'\n",
    "pcd_path = 'kitti/001856.bin'\n",
    "model = init_model(config_file, checkpoint_file, device='cuda:0')\n",
    "result, data = inference_detector(model, pcd_path)"
   ]
  },
  {
   "cell_type": "code",
   "execution_count": 7,
   "metadata": {},
   "outputs": [
    {
     "name": "stdout",
     "output_type": "stream",
     "text": [
      "Loads checkpoint by local backend from path: ../../mmdetection3d/checkpoints/hv_second_secfpn_6x8_80e_kitti-3d-car_20200620_230238-393f000c.pth\n"
     ]
    }
   ],
   "source": [
    "register_all_modules()\n",
    "\n",
    "## Build the model from a config file and a checkpoint file\n",
    "config_file = '../configs/dair/main_config.py'\n",
    "checkpoint_file = '../../work_dirs/main_config/epoch_20.pth'\n",
    "config_file = '../../mmdetection3d/configs/second/second_hv_secfpn_8xb6-80e_kitti-3d-car.py'\n",
    "checkpoint_file = '../../mmdetection3d/checkpoints/hv_second_secfpn_6x8_80e_kitti-3d-car_20200620_230238-393f000c.pth'\n",
    "pcd_path = 'DAIR/000000/000000.bin'\n",
    "model = init_model(config_file, checkpoint_file, device='cuda:0')\n",
    "result, data = inference_detector(model, pcd_path)\n"
   ]
  },
  {
   "cell_type": "code",
   "execution_count": 8,
   "metadata": {},
   "outputs": [
    {
     "name": "stdout",
     "output_type": "stream",
     "text": [
      "tensor([[ 37.2186,  -7.9195,  -1.5823,   4.1206,   1.8063,   1.4754,   1.6178],\n",
      "        [ 20.2096,  -3.8007,  -1.5950,   3.9469,   1.6521,   1.4481,   1.5821],\n",
      "        [ 44.7978, -31.1231,  -2.0921,   4.2525,   1.7916,   1.8427,   3.2053],\n",
      "        [ 44.7518,  16.9505,  -1.8428,   4.5110,   1.9621,   1.8811,  -1.5078],\n",
      "        [ 29.9435,  13.4715,  -1.5503,   4.2660,   1.9138,   1.5197,  -1.4848],\n",
      "        [ 12.8899,  -7.0814,  -1.4948,   3.9369,   1.6347,   1.4288,   4.7064],\n",
      "        [ 48.5143,  19.9207,  -1.6766,   4.3103,   1.8303,   1.8755,  -1.5320],\n",
      "        [ 37.3584,  -1.4663,  -1.5080,   4.0174,   1.5957,   1.4266,   1.7044],\n",
      "        [ 52.0175,  -4.9251,  -1.6035,   4.0532,   1.6913,   1.5623,  -1.5417],\n",
      "        [ 24.2077,  -7.7865,  -1.6153,   4.1451,   1.7726,   1.4754,  -1.5417],\n",
      "        [ 39.7922,  26.6046,  -2.0245,   4.4427,   1.9151,   1.7010,  -1.4527],\n",
      "        [ 60.0520,  12.4946,  -1.5971,   4.4551,   1.8914,   2.0473,  -1.5474],\n",
      "        [ 56.7848,  25.2805,  -2.2197,   4.2675,   1.7366,   1.9646,   1.5330]],\n",
      "       device='cuda:0')\n"
     ]
    }
   ],
   "source": [
    "print(result.pred_instances_3d.bboxes_3d.tensor)"
   ]
  },
  {
   "attachments": {},
   "cell_type": "markdown",
   "metadata": {},
   "source": [
    "## Lets draw"
   ]
  },
  {
   "cell_type": "code",
   "execution_count": 9,
   "metadata": {},
   "outputs": [],
   "source": [
    "def generate_bbox(bbox_tensor):\n",
    "    # Extract label info\n",
    "    dimensions = bbox_tensor[3:6]\n",
    "    position = bbox_tensor[0:3]\n",
    "    rotation = bbox_tensor[6]\n",
    "\n",
    "    print(dimensions)\n",
    "    \n",
    "    # Generate bbox\n",
    "    box = o3d.geometry.TriangleMesh.create_box(width=dimensions[0], height=dimensions[1], depth=dimensions[2])\n",
    "\n",
    "    # Width is x, height is -y and z is up\n",
    "    box.paint_uniform_color([1.0, 0.0, 0.0]) # Set color to red\n",
    "\n",
    "    # Translate box\n",
    "    box.translate(position)\n",
    "\n",
    "    # Translate box to center\n",
    "    box.translate([-dimensions[0]/2, -dimensions[1]/2, 0])\n",
    "\n",
    "    # Rotate box\n",
    "    center = box.get_center()\n",
    "    rotation = box.get_rotation_matrix_from_xyz((0, 0, -rotation - np.pi/2)) # Notice the negative sign for rotation\n",
    "\n",
    "    box.rotate(rotation, center=center)\n",
    "\n",
    "    lines = o3d.geometry.LineSet.create_from_triangle_mesh(box)\n",
    "    # Remove lines that connect non-adjacent points\n",
    "    lines.lines = o3d.utility.Vector2iVector(np.array([[0, 1], [2, 0], [2, 3], [3, 1], [4, 5], [4, 6], [6, 7], [7, 5], [0, 4], [1, 5], [2, 6], [3, 7]]))\n",
    "    lines.paint_uniform_color([1, 0, 0])\n",
    "\n",
    "    return lines"
   ]
  },
  {
   "cell_type": "code",
   "execution_count": 10,
   "metadata": {},
   "outputs": [
    {
     "name": "stdout",
     "output_type": "stream",
     "text": [
      "PointCloud with 56285 points.\n"
     ]
    }
   ],
   "source": [
    "# Read pc from bin file\n",
    "with open(pcd_path, 'rb') as f:\n",
    "    points = np.fromfile(f, dtype=np.float32, count=-1).reshape([-1, 4])\n",
    "\n",
    "pcd_bin = o3d.geometry.PointCloud()\n",
    "pcd_bin.points = o3d.utility.Vector3dVector(points[:, :3])\n",
    "print(pcd_bin)"
   ]
  },
  {
   "cell_type": "code",
   "execution_count": 11,
   "metadata": {},
   "outputs": [
    {
     "name": "stdout",
     "output_type": "stream",
     "text": [
      "[4.1206164 1.8063418 1.475353 ]\n"
     ]
    }
   ],
   "source": [
    "bboxes3d = result.pred_instances_3d.bboxes_3d.tensor.to('cpu').detach().numpy()\n",
    "\n",
    "bbox = generate_bbox(bboxes3d[0])"
   ]
  },
  {
   "cell_type": "code",
   "execution_count": 13,
   "metadata": {},
   "outputs": [
    {
     "name": "stdout",
     "output_type": "stream",
     "text": [
      "[Open3D INFO] Window window_1 created.\n"
     ]
    },
    {
     "data": {
      "application/vnd.jupyter.widget-view+json": {
       "model_id": "10c32d2c24d748318153e9555ae17132",
       "version_major": 2,
       "version_minor": 0
      },
      "text/plain": [
       "WebVisualizer(window_uid='window_1')"
      ]
     },
     "metadata": {},
     "output_type": "display_data"
    },
    {
     "name": "stdout",
     "output_type": "stream",
     "text": [
      "[Open3D INFO] [Called HTTP API (custom handshake)] /api/getIceServers\n",
      "[Open3D INFO] [Called HTTP API (custom handshake)] /api/call\n",
      "[Open3D INFO] [Called HTTP API (custom handshake)] /api/addIceCandidate\n",
      "[Open3D INFO] [Called HTTP API (custom handshake)] /api/addIceCandidate\n",
      "[Open3D INFO] [Called HTTP API (custom handshake)] /api/addIceCandidate\n",
      "[Open3D INFO] [Called HTTP API (custom handshake)] /api/addIceCandidate\n",
      "[Open3D INFO] [Called HTTP API (custom handshake)] /api/addIceCandidate\n",
      "[Open3D INFO] [Called HTTP API (custom handshake)] /api/addIceCandidate\n",
      "[Open3D INFO] [Called HTTP API (custom handshake)] /api/getIceCandidate\n",
      "[Open3D INFO] DataChannelObserver::OnStateChange label: ServerDataChannel, state: open, peerid: 0.102151676384729\n",
      "[Open3D INFO] DataChannelObserver::OnStateChange label: ClientDataChannel, state: open, peerid: 0.102151676384729\n",
      "[Open3D INFO] Sending init frames to window_1.\n"
     ]
    },
    {
     "name": "stderr",
     "output_type": "stream",
     "text": [
      "[000:000][682631] (stun_port.cc:96): Binding request timed out from 163.117.150.x:51524 (enp4s0)\n",
      "[004:867][682631] (stun_port.cc:96): Binding request timed out from 163.117.150.x:41088 (enp4s0)\n"
     ]
    }
   ],
   "source": [
    "# # Generate bbox\n",
    "# lines = generate_bbox(label, calib)\n",
    "\n",
    "# Draw bbox into point cloud\n",
    "draw([pcd_bin, bbox], width=900, height=600, point_size=2)"
   ]
  }
 ],
 "metadata": {
  "kernelspec": {
   "display_name": "openmmlab",
   "language": "python",
   "name": "python3"
  },
  "language_info": {
   "codemirror_mode": {
    "name": "ipython",
    "version": 3
   },
   "file_extension": ".py",
   "mimetype": "text/x-python",
   "name": "python",
   "nbconvert_exporter": "python",
   "pygments_lexer": "ipython3",
   "version": "3.8.16"
  },
  "orig_nbformat": 4
 },
 "nbformat": 4,
 "nbformat_minor": 2
}
