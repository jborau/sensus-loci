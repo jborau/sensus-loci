{
 "cells": [
  {
   "attachments": {},
   "cell_type": "markdown",
   "metadata": {},
   "source": [
    "# Inference PointCloud MMDetection3D"
   ]
  },
  {
   "cell_type": "code",
   "execution_count": 1,
   "metadata": {},
   "outputs": [
    {
     "name": "stdout",
     "output_type": "stream",
     "text": [
      "Jupyter environment detected. Enabling Open3D WebVisualizer.\n",
      "[Open3D INFO] WebRTC GUI backend enabled.\n",
      "[Open3D INFO] WebRTCWindowSystem: HTTP handshake server disabled.\n",
      "[Open3D INFO] Resetting default logger to print to terminal.\n"
     ]
    }
   ],
   "source": [
    "import pickle\n",
    "import os\n",
    "\n",
    "import open3d as o3d\n",
    "import numpy as np\n",
    "from open3d.web_visualizer import draw\n",
    "import matplotlib.pyplot as plt\n",
    "import matplotlib.image as mpimg\n",
    "\n",
    "import mmdet3d\n",
    "\n",
    "from mmdet3d.apis import inference_detector, init_model\n",
    "# from sensus.utils.data_converter import pc2pc_object\n",
    "from mmdet3d.utils import register_all_modules\n",
    "\n",
    "\n"
   ]
  },
  {
   "attachments": {},
   "cell_type": "markdown",
   "metadata": {},
   "source": [
    "# KITTI Dataset and MODEL"
   ]
  },
  {
   "cell_type": "code",
   "execution_count": 2,
   "metadata": {},
   "outputs": [],
   "source": [
    "import numpy as np\n",
    "from mmdet3d.structures.points import get_points_type\n",
    "from mmdet3d.datasets.transforms.loading import LoadPointsFromFile\n",
    "\n",
    "def pc2pc_object(pc, pipeline):\n",
    "    pipeline_dict = {**pipeline[0]}\n",
    "    assert pipeline_dict['type'] == 'LoadPointsFromFile'\n",
    "    pipeline_dict.pop('type')\n",
    "    pc_loader = LoadPointsFromFile(**pipeline_dict)\n",
    "\n",
    "    pc = pc.reshape(-1, pc_loader.load_dim)\n",
    "    pc = pc[:, pc_loader.use_dim]\n",
    "    if pc_loader.norm_intensity:\n",
    "            assert len(pc_loader.use_dim) >= 4, \\\n",
    "                f'When using intensity norm, expect used dimensions >= 4, got {len(pc_loader.use_dim)}'  # noqa: E501\n",
    "            pc[:, 3] = np.tanh(pc[:, 3])\n",
    "    attribute_dims = None\n",
    "\n",
    "    if pc_loader.shift_height:\n",
    "        floor_height = np.percentile(pc[:, 2], 0.99)\n",
    "        height = pc[:, 2] - floor_height\n",
    "        pc = np.concatenate(\n",
    "            [pc[:, :3],\n",
    "                np.expand_dims(height, 1), pc[:, 3:]], 1)\n",
    "        attribute_dims = dict(height=3)\n",
    "\n",
    "    if pc_loader.use_color:\n",
    "        assert len(pc_loader.use_dim) >= 6\n",
    "        if attribute_dims is None:\n",
    "            attribute_dims = dict()\n",
    "        attribute_dims.update(\n",
    "            dict(color=[\n",
    "                pc.shape[1] - 3,\n",
    "                pc.shape[1] - 2,\n",
    "                pc.shape[1] - 1,\n",
    "            ]))\n",
    "\n",
    "    points_class = get_points_type(pc_loader.coord_type)\n",
    "    pc_object = points_class(\n",
    "        pc, points_dim=pc.shape[-1], attribute_dims=attribute_dims)\n",
    "\n",
    "    return pc_object, pc"
   ]
  },
  {
   "cell_type": "code",
   "execution_count": 27,
   "metadata": {},
   "outputs": [
    {
     "name": "stderr",
     "output_type": "stream",
     "text": [
      "/home/javier/sensus-loci/mmdetection3d/mmdet3d/models/dense_heads/anchor3d_head.py:92: UserWarning: dir_offset and dir_limit_offset will be depressed and be incorporated into box coder in the future\n",
      "  warnings.warn(\n"
     ]
    },
    {
     "name": "stdout",
     "output_type": "stream",
     "text": [
      "Loads checkpoint by local backend from path: ../../mmdetection3d/checkpoints/hv_second_secfpn_6x8_80e_kitti-3d-car_20200620_230238-393f000c.pth\n",
      "Loads checkpoint by local backend from path: ../../work_dirs/second_hv_secfpn_8xb6-80e_kitti-3d-car/epoch_40.pth\n"
     ]
    }
   ],
   "source": [
    "register_all_modules()\n",
    "\n",
    "## Build the model from a config file and a checkpoint file\n",
    "config_kitti = '../../mmdetection3d/configs/second/second_hv_secfpn_8xb6-80e_kitti-3d-car.py'\n",
    "checkpoint_kitti = '../../mmdetection3d/checkpoints/hv_second_secfpn_6x8_80e_kitti-3d-car_20200620_230238-393f000c.pth'\n",
    "config_dair = '../configs/dair_second/second_hv_secfpn_8xb6-80e_kitti-3d-car.py'\n",
    "checkpoint_dair = '../../work_dirs/second_hv_secfpn_8xb6-80e_kitti-3d-car/epoch_40.pth'\n",
    "pcd_path = 'DAIR/000000/000000.bin'\n",
    "\n",
    "model_kitti = init_model(config_kitti, checkpoint_kitti, device='cuda:0')\n",
    "result_kitti, data_kitti = inference_detector(model_kitti, pcd_path)\n",
    "\n",
    "model_dair = init_model(config_dair, checkpoint_dair, device='cuda:0')\n",
    "result_dair, data_dair = inference_detector(model_dair, pcd_path)\n"
   ]
  },
  {
   "cell_type": "code",
   "execution_count": 28,
   "metadata": {},
   "outputs": [
    {
     "name": "stdout",
     "output_type": "stream",
     "text": [
      "tensor([[ 4.4778e+01, -3.0999e+01, -1.9028e+00,  1.8732e+00,  4.5216e+00,\n",
      "          1.6140e+00, -4.4107e-02],\n",
      "        [ 4.5072e+01,  1.2847e+01, -1.7582e+00,  2.0196e+00,  4.4543e+00,\n",
      "          1.5488e+00,  1.5111e+00],\n",
      "        [ 2.0279e+01, -3.8130e+00, -1.6659e+00,  1.8537e+00,  4.3446e+00,\n",
      "          1.4824e+00, -1.5649e+00],\n",
      "        [ 1.8140e+01,  2.2359e+00, -1.6748e+00,  2.0748e+00,  4.2751e+00,\n",
      "          1.4786e+00,  4.6851e+00],\n",
      "        [ 3.0104e+01,  1.7039e+01, -1.8616e+00,  1.9067e+00,  4.4397e+00,\n",
      "          1.5570e+00,  1.5491e+00],\n",
      "        [ 5.6480e+01,  2.5386e+01, -2.0134e+00,  2.0133e+00,  4.4245e+00,\n",
      "          1.7138e+00,  1.6131e+00],\n",
      "        [ 3.7032e+01, -7.9377e+00, -1.7243e+00,  1.8748e+00,  4.3192e+00,\n",
      "          1.5334e+00,  4.6763e+00],\n",
      "        [ 2.4175e+01, -7.7765e+00, -1.7014e+00,  1.8916e+00,  4.6678e+00,\n",
      "          1.5334e+00,  4.7028e+00],\n",
      "        [ 5.8449e+01,  1.6281e+01, -1.8318e+00,  1.9970e+00,  4.3651e+00,\n",
      "          1.7495e+00,  1.5106e+00],\n",
      "        [ 2.9797e+01,  1.3588e+01, -1.7694e+00,  1.9616e+00,  4.7604e+00,\n",
      "          1.5783e+00,  1.5274e+00],\n",
      "        [ 4.4517e+01,  1.7064e+01, -1.8223e+00,  2.0259e+00,  4.7831e+00,\n",
      "          1.8223e+00,  1.5212e+00],\n",
      "        [ 4.8259e+01,  1.9909e+01, -1.8323e+00,  1.9143e+00,  4.4808e+00,\n",
      "          1.6796e+00,  1.4947e+00],\n",
      "        [ 2.4118e+01, -1.0336e+00, -1.6729e+00,  1.8671e+00,  4.1061e+00,\n",
      "          1.5575e+00,  4.7041e+00],\n",
      "        [ 3.8582e+01, -4.7765e+00, -1.7070e+00,  1.9171e+00,  4.2719e+00,\n",
      "          1.6028e+00,  4.6725e+00],\n",
      "        [ 5.2086e+01, -4.8744e+00, -1.7286e+00,  1.8458e+00,  4.2104e+00,\n",
      "          1.5928e+00,  4.6658e+00],\n",
      "        [ 6.0029e+01,  1.2486e+01, -1.6121e+00,  2.1184e+00,  4.5677e+00,\n",
      "          1.9645e+00,  4.7107e+00],\n",
      "        [ 6.4988e+01,  1.9496e+01, -1.9473e+00,  1.8453e+00,  4.2923e+00,\n",
      "          1.5770e+00,  1.4972e+00],\n",
      "        [ 3.9609e+01,  2.6647e+01, -2.0075e+00,  2.0783e+00,  5.1213e+00,\n",
      "          1.6165e+00,  1.4293e+00],\n",
      "        [ 5.0709e+01, -1.6957e+00, -1.6957e+00,  1.9657e+00,  4.2671e+00,\n",
      "          1.6762e+00,  4.6608e+00],\n",
      "        [ 3.7628e+01, -1.2828e+00, -1.6958e+00,  1.8957e+00,  4.3219e+00,\n",
      "          1.7020e+00,  4.6963e+00]], device='cuda:0')\n"
     ]
    }
   ],
   "source": [
    "print(result_dair.pred_instances_3d.bboxes_3d.tensor)"
   ]
  },
  {
   "attachments": {},
   "cell_type": "markdown",
   "metadata": {},
   "source": [
    "## Lets draw"
   ]
  },
  {
   "cell_type": "code",
   "execution_count": 29,
   "metadata": {},
   "outputs": [],
   "source": [
    "def generate_bbox(bbox_tensor):\n",
    "    # Extract label info\n",
    "    dimensions = bbox_tensor[3:6]\n",
    "    position = bbox_tensor[0:3]\n",
    "    rotation = bbox_tensor[6]\n",
    "\n",
    "    print(dimensions)\n",
    "    \n",
    "    # Generate bbox\n",
    "    box = o3d.geometry.TriangleMesh.create_box(width=dimensions[0], height=dimensions[1], depth=dimensions[2])\n",
    "\n",
    "    # Width is x, height is -y and z is up\n",
    "    box.paint_uniform_color([1.0, 0.0, 0.0]) # Set color to red\n",
    "\n",
    "    # Translate box\n",
    "    box.translate(position)\n",
    "\n",
    "    # Translate box to center\n",
    "    box.translate([-dimensions[0]/2, -dimensions[1]/2, 0])\n",
    "\n",
    "    # Rotate box\n",
    "    center = box.get_center()\n",
    "    rotation = box.get_rotation_matrix_from_xyz((0, 0, -rotation)) # Notice the negative sign for rotation\n",
    "\n",
    "    box.rotate(rotation, center=center)\n",
    "\n",
    "    lines = o3d.geometry.LineSet.create_from_triangle_mesh(box)\n",
    "    # Remove lines that connect non-adjacent points\n",
    "    lines.lines = o3d.utility.Vector2iVector(np.array([[0, 1], [2, 0], [2, 3], [3, 1], [4, 5], [4, 6], [6, 7], [7, 5], [0, 4], [1, 5], [2, 6], [3, 7]]))\n",
    "    lines.paint_uniform_color([1, 0, 0])\n",
    "\n",
    "    return lines"
   ]
  },
  {
   "cell_type": "code",
   "execution_count": 30,
   "metadata": {},
   "outputs": [
    {
     "name": "stdout",
     "output_type": "stream",
     "text": [
      "PointCloud with 56285 points.\n"
     ]
    }
   ],
   "source": [
    "# Read pc from bin file\n",
    "with open(pcd_path, 'rb') as f:\n",
    "    points = np.fromfile(f, dtype=np.float32, count=-1).reshape([-1, 4])\n",
    "\n",
    "pcd_bin = o3d.geometry.PointCloud()\n",
    "pcd_bin.points = o3d.utility.Vector3dVector(points[:, :3])\n",
    "print(pcd_bin)"
   ]
  },
  {
   "cell_type": "code",
   "execution_count": 31,
   "metadata": {},
   "outputs": [
    {
     "name": "stdout",
     "output_type": "stream",
     "text": [
      "[4.1206164 1.8063418 1.475353 ]\n",
      "[Open3D INFO] Window window_8 created.\n"
     ]
    },
    {
     "data": {
      "application/vnd.jupyter.widget-view+json": {
       "model_id": "92fee39e73ab46eba3f9f353e1036c04",
       "version_major": 2,
       "version_minor": 0
      },
      "text/plain": [
       "WebVisualizer(window_uid='window_8')"
      ]
     },
     "metadata": {},
     "output_type": "display_data"
    },
    {
     "name": "stdout",
     "output_type": "stream",
     "text": [
      "[Open3D INFO] [Called HTTP API (custom handshake)] /api/getIceServers\n",
      "[Open3D INFO] [Called HTTP API (custom handshake)] /api/call\n",
      "[Open3D INFO] [Called HTTP API (custom handshake)] /api/addIceCandidate\n",
      "[Open3D INFO] [Called HTTP API (custom handshake)] /api/addIceCandidate\n",
      "[Open3D INFO] [Called HTTP API (custom handshake)] /api/addIceCandidate\n",
      "[Open3D INFO] [Called HTTP API (custom handshake)] /api/addIceCandidate\n",
      "[Open3D INFO] [Called HTTP API (custom handshake)] /api/addIceCandidate\n",
      "[Open3D INFO] [Called HTTP API (custom handshake)] /api/addIceCandidate\n",
      "[Open3D INFO] [Called HTTP API (custom handshake)] /api/getIceCandidate\n",
      "[Open3D INFO] DataChannelObserver::OnStateChange label: ServerDataChannel, state: open, peerid: 0.6380479119032945\n",
      "[Open3D INFO] DataChannelObserver::OnStateChange label: ClientDataChannel, state: open, peerid: 0.6380479119032945\n",
      "[Open3D INFO] Sending init frames to window_8.\n"
     ]
    }
   ],
   "source": [
    "bboxes3d_kitti = result_kitti.pred_instances_3d.bboxes_3d.tensor.to('cpu').detach().numpy()\n",
    "\n",
    "bbox_kitti = generate_bbox(bboxes3d_kitti[0])\n",
    "\n",
    "# Draw bbox into point cloud\n",
    "draw([pcd_bin, bbox_kitti], width=900, height=600, point_size=2)"
   ]
  },
  {
   "cell_type": "code",
   "execution_count": 32,
   "metadata": {},
   "outputs": [
    {
     "name": "stdout",
     "output_type": "stream",
     "text": [
      "[1.8731527 4.5215507 1.6140195]\n",
      "[Open3D INFO] Window window_9 created.\n"
     ]
    },
    {
     "data": {
      "application/vnd.jupyter.widget-view+json": {
       "model_id": "cf54049c375a439f8cd112c895a318fa",
       "version_major": 2,
       "version_minor": 0
      },
      "text/plain": [
       "WebVisualizer(window_uid='window_9')"
      ]
     },
     "metadata": {},
     "output_type": "display_data"
    },
    {
     "name": "stdout",
     "output_type": "stream",
     "text": [
      "[Open3D INFO] [Called HTTP API (custom handshake)] /api/getIceServers\n",
      "[Open3D INFO] [Called HTTP API (custom handshake)] /api/call\n",
      "[Open3D INFO] [Called HTTP API (custom handshake)] /api/addIceCandidate\n",
      "[Open3D INFO] [Called HTTP API (custom handshake)] /api/addIceCandidate\n",
      "[Open3D INFO] [Called HTTP API (custom handshake)] /api/addIceCandidate\n",
      "[Open3D INFO] [Called HTTP API (custom handshake)] /api/addIceCandidate\n",
      "[Open3D INFO] [Called HTTP API (custom handshake)] /api/addIceCandidate\n",
      "[Open3D INFO] [Called HTTP API (custom handshake)] /api/addIceCandidate\n",
      "[Open3D INFO] [Called HTTP API (custom handshake)] /api/getIceCandidate\n",
      "[Open3D INFO] DataChannelObserver::OnStateChange label: ServerDataChannel, state: open, peerid: 0.8046029083453732\n",
      "[Open3D INFO] DataChannelObserver::OnStateChange label: ClientDataChannel, state: open, peerid: 0.8046029083453732\n",
      "[Open3D INFO] Sending init frames to window_9.\n"
     ]
    },
    {
     "name": "stderr",
     "output_type": "stream",
     "text": [
      "[3065:826][730221] (stun_port.cc:96): Binding request timed out from 163.117.150.x:46424 (enp4s0)\n",
      "[3080:541][730221] (stun_port.cc:96): Binding request timed out from 163.117.150.x:39750 (enp4s0)\n"
     ]
    }
   ],
   "source": [
    "bboxes3d_dair = result_dair.pred_instances_3d.bboxes_3d.tensor.to('cpu').detach().numpy()\n",
    "\n",
    "bbox_dair = generate_bbox(bboxes3d_dair[0])\n",
    "\n",
    "# Draw bbox into point cloud\n",
    "draw([pcd_bin, bbox_dair], width=900, height=600, point_size=2)"
   ]
  }
 ],
 "metadata": {
  "kernelspec": {
   "display_name": "openmmlab",
   "language": "python",
   "name": "python3"
  },
  "language_info": {
   "codemirror_mode": {
    "name": "ipython",
    "version": 3
   },
   "file_extension": ".py",
   "mimetype": "text/x-python",
   "name": "python",
   "nbconvert_exporter": "python",
   "pygments_lexer": "ipython3",
   "version": "3.8.16"
  },
  "orig_nbformat": 4
 },
 "nbformat": 4,
 "nbformat_minor": 2
}
