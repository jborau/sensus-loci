{
 "cells": [
  {
   "cell_type": "code",
   "execution_count": 1,
   "metadata": {},
   "outputs": [
    {
     "name": "stdout",
     "output_type": "stream",
     "text": [
      "Jupyter environment detected. Enabling Open3D WebVisualizer.\n",
      "[Open3D INFO] WebRTC GUI backend enabled.\n",
      "[Open3D INFO] WebRTCWindowSystem: HTTP handshake server disabled.\n",
      "[Open3D INFO] Resetting default logger to print to terminal.\n"
     ]
    }
   ],
   "source": [
    "%load_ext autoreload\n",
    "%autoreload 2\n",
    "import mmcv\n",
    "from mmdet3d.apis import inference_mono_3d_detector, init_model\n",
    "from mmdet3d.registry import VISUALIZERS\n",
    "from mmengine import load, dump\n",
    "from mmdet3d.registry import VISUALIZERS\n",
    "import cv2\n",
    "import numpy as np\n",
    "import sys\n",
    "from sensus.tools.data_processor_old import DataProcessor\n",
    "from sensus.tools.visualizer import ImageVisualizer, draw_monodetection_labels, draw_monodetection_results"
   ]
  },
  {
   "cell_type": "code",
   "execution_count": 2,
   "metadata": {},
   "outputs": [],
   "source": [
    "file = '002238'\n",
    "dataset = 'dair'\n",
    "if dataset == 'kitti':\n",
    "    img_file = '/home/javier/datasets/kitti/training/image_2/' + file + '.png'\n",
    "    labels_file = '/home/javier/datasets/kitti/training/label_2/'+ file + '.txt'\n",
    "    calib_file = '/home/javier/datasets/kitti/training/calib/'+ file + '.txt'\n",
    "    pitch = 0.0\n",
    "elif dataset == 'dair':\n",
    "    img_file = '/home/javier/datasets/DAIR/single-infrastructure-side-mmdet/training/image_2/' + file + '.png'\n",
    "    labels_file = '/home/javier/datasets/DAIR/single-infrastructure-side-mmdet/training/label_2/'+ file + '.txt'\n",
    "    calib_file = '/home/javier/datasets/DAIR/single-infrastructure-side-mmdet/training/calib/'+ file + '.txt'\n",
    "    pitch = 0.2031\n",
    "\n",
    "ann_file = '/home/javier/sensus-loci/sensus/notebooks/002238.pkl'\n",
    "cam_type = 'CAM_BACK'"
   ]
  },
  {
   "cell_type": "markdown",
   "metadata": {},
   "source": [
    "# MONOCON"
   ]
  },
  {
   "cell_type": "code",
   "execution_count": 3,
   "metadata": {},
   "outputs": [
    {
     "name": "stdout",
     "output_type": "stream",
     "text": [
      "Loads checkpoint by local backend from path: /home/javier/sensus-loci/work_dirs/sensus_config/epoch_100.pth\n",
      "12/08 11:03:03 - mmengine - \u001b[4m\u001b[97mINFO\u001b[0m - ModulatedDeformConvPack neck.dla_up.ida_0.projs.0.conv is upgraded to version 2.\n",
      "12/08 11:03:03 - mmengine - \u001b[4m\u001b[97mINFO\u001b[0m - ModulatedDeformConvPack neck.dla_up.ida_0.nodes.0.conv is upgraded to version 2.\n",
      "12/08 11:03:03 - mmengine - \u001b[4m\u001b[97mINFO\u001b[0m - ModulatedDeformConvPack neck.dla_up.ida_1.projs.0.conv is upgraded to version 2.\n",
      "12/08 11:03:03 - mmengine - \u001b[4m\u001b[97mINFO\u001b[0m - ModulatedDeformConvPack neck.dla_up.ida_1.projs.1.conv is upgraded to version 2.\n",
      "12/08 11:03:03 - mmengine - \u001b[4m\u001b[97mINFO\u001b[0m - ModulatedDeformConvPack neck.dla_up.ida_1.nodes.0.conv is upgraded to version 2.\n",
      "12/08 11:03:03 - mmengine - \u001b[4m\u001b[97mINFO\u001b[0m - ModulatedDeformConvPack neck.dla_up.ida_1.nodes.1.conv is upgraded to version 2.\n",
      "12/08 11:03:03 - mmengine - \u001b[4m\u001b[97mINFO\u001b[0m - ModulatedDeformConvPack neck.dla_up.ida_2.projs.0.conv is upgraded to version 2.\n",
      "12/08 11:03:03 - mmengine - \u001b[4m\u001b[97mINFO\u001b[0m - ModulatedDeformConvPack neck.dla_up.ida_2.projs.1.conv is upgraded to version 2.\n",
      "12/08 11:03:03 - mmengine - \u001b[4m\u001b[97mINFO\u001b[0m - ModulatedDeformConvPack neck.dla_up.ida_2.projs.2.conv is upgraded to version 2.\n",
      "12/08 11:03:03 - mmengine - \u001b[4m\u001b[97mINFO\u001b[0m - ModulatedDeformConvPack neck.dla_up.ida_2.nodes.0.conv is upgraded to version 2.\n",
      "12/08 11:03:03 - mmengine - \u001b[4m\u001b[97mINFO\u001b[0m - ModulatedDeformConvPack neck.dla_up.ida_2.nodes.1.conv is upgraded to version 2.\n",
      "12/08 11:03:03 - mmengine - \u001b[4m\u001b[97mINFO\u001b[0m - ModulatedDeformConvPack neck.dla_up.ida_2.nodes.2.conv is upgraded to version 2.\n",
      "12/08 11:03:03 - mmengine - \u001b[4m\u001b[97mINFO\u001b[0m - ModulatedDeformConvPack neck.ida_up.projs.0.conv is upgraded to version 2.\n",
      "12/08 11:03:03 - mmengine - \u001b[4m\u001b[97mINFO\u001b[0m - ModulatedDeformConvPack neck.ida_up.projs.1.conv is upgraded to version 2.\n",
      "12/08 11:03:03 - mmengine - \u001b[4m\u001b[97mINFO\u001b[0m - ModulatedDeformConvPack neck.ida_up.nodes.0.conv is upgraded to version 2.\n",
      "12/08 11:03:03 - mmengine - \u001b[4m\u001b[97mINFO\u001b[0m - ModulatedDeformConvPack neck.ida_up.nodes.1.conv is upgraded to version 2.\n"
     ]
    },
    {
     "name": "stderr",
     "output_type": "stream",
     "text": [
      "/home/javier/miniconda3/envs/openmmlab/lib/python3.8/site-packages/mmengine/visualization/visualizer.py:196: UserWarning: Failed to add <class 'mmengine.visualization.vis_backend.LocalVisBackend'>, please provide the `save_dir` argument.\n",
      "  warnings.warn(f'Failed to add {vis_backend.__class__}, '\n"
     ]
    }
   ],
   "source": [
    "config_monocon = '/home/javier/sensus-loci/sensus/configs/sensus/sensus_config.py'\n",
    "\n",
    "checkpoints_monocon = '/home/javier/sensus-loci/work_dirs/sensus_config/epoch_100.pth'\n",
    "\n",
    "device = 'cuda:0'\n",
    "model_monocon = init_model(config_monocon, checkpoints_monocon, device=device)\n",
    "result_monocon = inference_mono_3d_detector(model_monocon, img_file, ann_file, cam_type)\n",
    "\n",
    "# init visualizer\n",
    "visualizer_mmdet = VISUALIZERS.build(model_monocon.cfg.visualizer)\n",
    "visualizer_mmdet.dataset_meta = model_monocon.dataset_meta"
   ]
  },
  {
   "cell_type": "code",
   "execution_count": 4,
   "metadata": {},
   "outputs": [
    {
     "name": "stdout",
     "output_type": "stream",
     "text": [
      "<InstanceData(\n",
      "\n",
      "    META INFORMATION\n",
      "\n",
      "    DATA FIELDS\n",
      "    scores_3d: tensor([0.7710, 0.7581, 0.7436, 0.7289, 0.7108, 0.6534, 0.6096, 0.5617, 0.5576,\n",
      "                0.4358, 0.3276, 0.3224], device='cuda:0')\n",
      "    labels_3d: tensor([0, 0, 0, 0, 0, 0, 0, 0, 0, 0, 0, 0], device='cuda:0')\n",
      "    bboxes_3d: CameraInstance3DBoxes(\n",
      "            tensor([[-17.1980,  -2.7368,  44.4350,   4.3408,   1.5434,   1.9007,   1.6122],\n",
      "                [  0.8520,  -5.2578,  55.7007,   4.2504,   1.7245,   1.8979,  -1.5727],\n",
      "                [-20.3705,  -7.3510,  64.7527,   4.2681,   1.5166,   1.8622,   1.6006],\n",
      "                [ -2.2618,  -5.6500,  57.5583,   4.2494,   1.5931,   1.8740,  -1.5579],\n",
      "                [  8.0165, -11.6918,  84.1237,   7.8293,   3.1131,   2.6302,  -1.5913],\n",
      "                [-20.4953, -13.7607,  92.7081,   4.2377,   1.5358,   1.8514,   1.5998],\n",
      "                [-23.9530,  -6.1131,  59.0615,   4.2721,   1.6006,   1.8804,   1.5988],\n",
      "                [-17.0269, -16.9336, 105.9843,   4.2453,   1.5286,   1.8453,   1.5995],\n",
      "                [  1.2578,  -0.2126,  34.0164,   4.3351,   1.8231,   1.9225,  -1.5810],\n",
      "                [-17.1865, -22.6774, 130.8028,   4.2466,   1.5305,   1.8438,   1.5939],\n",
      "                [-24.5767, -24.0981, 137.2721,   4.2524,   1.5257,   1.8382,   1.5950],\n",
      "                [-21.1505, -21.8144, 127.2061,   4.2530,   1.5270,   1.8373,   1.5925]],\n",
      "               device='cuda:0'))\n",
      ") at 0x7fdad67780d0>\n"
     ]
    }
   ],
   "source": [
    "print(result_monocon.pred_instances_3d)"
   ]
  },
  {
   "cell_type": "code",
   "execution_count": 5,
   "metadata": {},
   "outputs": [],
   "source": [
    "draw_monodetection_results(img_file, calib_file, result_monocon, score=0.27, pitch=pitch, thickness=2)"
   ]
  }
 ],
 "metadata": {
  "kernelspec": {
   "display_name": "openmmlab",
   "language": "python",
   "name": "python3"
  },
  "language_info": {
   "codemirror_mode": {
    "name": "ipython",
    "version": 3
   },
   "file_extension": ".py",
   "mimetype": "text/x-python",
   "name": "python",
   "nbconvert_exporter": "python",
   "pygments_lexer": "ipython3",
   "version": "3.8.18"
  },
  "orig_nbformat": 4
 },
 "nbformat": 4,
 "nbformat_minor": 2
}
